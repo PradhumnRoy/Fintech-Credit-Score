{
  "nbformat": 4,
  "nbformat_minor": 0,
  "metadata": {
    "colab": {
      "provenance": [],
      "collapsed_sections": [
        "guuA72pA0-y-",
        "j9w2gysH2ULD",
        "nGnPWBY8LiFj",
        "Qp2Q66jEHfyg",
        "3NZfg4T-HccX",
        "yJZ2ew2kyzhN",
        "x9d9AkyIGkiN",
        "AzyR5DEFy3-q",
        "kZDsBc8py8V-",
        "8cDRgic007zF",
        "0VOHMKFU15nt",
        "ZZaMvp2V8RHi",
        "1C2Stllv5KNh",
        "ywuADIj7HsSt",
        "Z3Virtd2RQS4",
        "RlP4Ocr_aSwB",
        "QLbBa0egcSAt",
        "AIYi1vcVeDQ4",
        "yNXkTrT5iuvh",
        "rta79lYVmliC",
        "xB9zjH5woTEi",
        "CcmrVGEGt1KA",
        "OxsY0_2A3dx7",
        "uZnWJwCo6O_R",
        "QsgeJUoaBLau",
        "Ldj8OragDlzM",
        "qyPphVscMuRP",
        "8kX7OTweErNc",
        "KOIfi57aG30e",
        "BosuKI9OJHMp",
        "C0RnXQGW3kca",
        "RlEXIIWYD-Ej",
        "CWPBHyBMExCI"
      ]
    },
    "kernelspec": {
      "name": "python3",
      "display_name": "Python 3"
    },
    "language_info": {
      "name": "python"
    }
  },
  "cells": [
    {
      "cell_type": "markdown",
      "source": [
        "#**Credit Score and More**\n",
        "\n",
        "\n"
      ],
      "metadata": {
        "id": "LYWrzPV1Mdml"
      }
    },
    {
      "cell_type": "code",
      "execution_count": null,
      "metadata": {
        "id": "k8tR_v-pbB6M"
      },
      "outputs": [],
      "source": [
        "import numpy as np, pandas as pd\n",
        "import matplotlib.pyplot as plt, seaborn as sns\n",
        "import scipy.stats as stats"
      ]
    },
    {
      "cell_type": "code",
      "source": [
        "path=\"/content/drive/MyDrive/credit_score/Credit_score.csv\"\n",
        "data=pd.read_csv(path)"
      ],
      "metadata": {
        "colab": {
          "base_uri": "https://localhost:8080/"
        },
        "id": "amssdT0YbESy",
        "outputId": "73ebe444-59bb-4224-b69e-239312f3774a"
      },
      "execution_count": null,
      "outputs": [
        {
          "output_type": "stream",
          "name": "stderr",
          "text": [
            "<ipython-input-647-485ee06ccb55>:2: DtypeWarning: Columns (26) have mixed types. Specify dtype option on import or set low_memory=False.\n",
            "  data=pd.read_csv(path)\n"
          ]
        }
      ]
    },
    {
      "cell_type": "code",
      "source": [
        "df=data.copy()"
      ],
      "metadata": {
        "id": "dqxfTPx3bXrn"
      },
      "execution_count": null,
      "outputs": []
    },
    {
      "cell_type": "markdown",
      "source": [
        "##Understanding Data"
      ],
      "metadata": {
        "id": "guuA72pA0-y-"
      }
    },
    {
      "cell_type": "code",
      "source": [
        "df.describe().T"
      ],
      "metadata": {
        "colab": {
          "base_uri": "https://localhost:8080/"
        },
        "id": "EyaL96DsLGPm",
        "outputId": "593b8cb6-9e8d-4ced-bcfd-a0a77c9a1518"
      },
      "execution_count": null,
      "outputs": [
        {
          "output_type": "execute_result",
          "data": {
            "text/plain": [
              "                             count         mean          std         min  \\\n",
              "Monthly_Inhand_Salary      84998.0  4194.170850  3183.686167  303.645417   \n",
              "Num_Bank_Accounts         100000.0    17.091280   117.404834   -1.000000   \n",
              "Num_Credit_Card           100000.0    22.474430   129.057410    0.000000   \n",
              "Interest_Rate             100000.0    72.466040   466.422621    1.000000   \n",
              "Delay_from_due_date       100000.0    21.068780    14.860104   -5.000000   \n",
              "Num_Credit_Inquiries       98035.0    27.754251   193.177339    0.000000   \n",
              "Credit_Utilization_Ratio  100000.0    32.285173     5.116875   20.000000   \n",
              "Total_EMI_per_month       100000.0  1403.118217  8306.041270    0.000000   \n",
              "\n",
              "                                  25%          50%          75%          max  \n",
              "Monthly_Inhand_Salary     1625.568229  3093.745000  5957.448333  15204.63333  \n",
              "Num_Bank_Accounts            3.000000     6.000000     7.000000   1798.00000  \n",
              "Num_Credit_Card              4.000000     5.000000     7.000000   1499.00000  \n",
              "Interest_Rate                8.000000    13.000000    20.000000   5797.00000  \n",
              "Delay_from_due_date         10.000000    18.000000    28.000000     67.00000  \n",
              "Num_Credit_Inquiries         3.000000     6.000000     9.000000   2597.00000  \n",
              "Credit_Utilization_Ratio    28.052567    32.305784    36.496663     50.00000  \n",
              "Total_EMI_per_month         30.306660    69.249473   161.224249  82331.00000  "
            ],
            "text/html": [
              "\n",
              "  <div id=\"df-f699d63e-0c78-43c3-b7db-b93d555b407e\" class=\"colab-df-container\">\n",
              "    <div>\n",
              "<style scoped>\n",
              "    .dataframe tbody tr th:only-of-type {\n",
              "        vertical-align: middle;\n",
              "    }\n",
              "\n",
              "    .dataframe tbody tr th {\n",
              "        vertical-align: top;\n",
              "    }\n",
              "\n",
              "    .dataframe thead th {\n",
              "        text-align: right;\n",
              "    }\n",
              "</style>\n",
              "<table border=\"1\" class=\"dataframe\">\n",
              "  <thead>\n",
              "    <tr style=\"text-align: right;\">\n",
              "      <th></th>\n",
              "      <th>count</th>\n",
              "      <th>mean</th>\n",
              "      <th>std</th>\n",
              "      <th>min</th>\n",
              "      <th>25%</th>\n",
              "      <th>50%</th>\n",
              "      <th>75%</th>\n",
              "      <th>max</th>\n",
              "    </tr>\n",
              "  </thead>\n",
              "  <tbody>\n",
              "    <tr>\n",
              "      <th>Monthly_Inhand_Salary</th>\n",
              "      <td>84998.0</td>\n",
              "      <td>4194.170850</td>\n",
              "      <td>3183.686167</td>\n",
              "      <td>303.645417</td>\n",
              "      <td>1625.568229</td>\n",
              "      <td>3093.745000</td>\n",
              "      <td>5957.448333</td>\n",
              "      <td>15204.63333</td>\n",
              "    </tr>\n",
              "    <tr>\n",
              "      <th>Num_Bank_Accounts</th>\n",
              "      <td>100000.0</td>\n",
              "      <td>17.091280</td>\n",
              "      <td>117.404834</td>\n",
              "      <td>-1.000000</td>\n",
              "      <td>3.000000</td>\n",
              "      <td>6.000000</td>\n",
              "      <td>7.000000</td>\n",
              "      <td>1798.00000</td>\n",
              "    </tr>\n",
              "    <tr>\n",
              "      <th>Num_Credit_Card</th>\n",
              "      <td>100000.0</td>\n",
              "      <td>22.474430</td>\n",
              "      <td>129.057410</td>\n",
              "      <td>0.000000</td>\n",
              "      <td>4.000000</td>\n",
              "      <td>5.000000</td>\n",
              "      <td>7.000000</td>\n",
              "      <td>1499.00000</td>\n",
              "    </tr>\n",
              "    <tr>\n",
              "      <th>Interest_Rate</th>\n",
              "      <td>100000.0</td>\n",
              "      <td>72.466040</td>\n",
              "      <td>466.422621</td>\n",
              "      <td>1.000000</td>\n",
              "      <td>8.000000</td>\n",
              "      <td>13.000000</td>\n",
              "      <td>20.000000</td>\n",
              "      <td>5797.00000</td>\n",
              "    </tr>\n",
              "    <tr>\n",
              "      <th>Delay_from_due_date</th>\n",
              "      <td>100000.0</td>\n",
              "      <td>21.068780</td>\n",
              "      <td>14.860104</td>\n",
              "      <td>-5.000000</td>\n",
              "      <td>10.000000</td>\n",
              "      <td>18.000000</td>\n",
              "      <td>28.000000</td>\n",
              "      <td>67.00000</td>\n",
              "    </tr>\n",
              "    <tr>\n",
              "      <th>Num_Credit_Inquiries</th>\n",
              "      <td>98035.0</td>\n",
              "      <td>27.754251</td>\n",
              "      <td>193.177339</td>\n",
              "      <td>0.000000</td>\n",
              "      <td>3.000000</td>\n",
              "      <td>6.000000</td>\n",
              "      <td>9.000000</td>\n",
              "      <td>2597.00000</td>\n",
              "    </tr>\n",
              "    <tr>\n",
              "      <th>Credit_Utilization_Ratio</th>\n",
              "      <td>100000.0</td>\n",
              "      <td>32.285173</td>\n",
              "      <td>5.116875</td>\n",
              "      <td>20.000000</td>\n",
              "      <td>28.052567</td>\n",
              "      <td>32.305784</td>\n",
              "      <td>36.496663</td>\n",
              "      <td>50.00000</td>\n",
              "    </tr>\n",
              "    <tr>\n",
              "      <th>Total_EMI_per_month</th>\n",
              "      <td>100000.0</td>\n",
              "      <td>1403.118217</td>\n",
              "      <td>8306.041270</td>\n",
              "      <td>0.000000</td>\n",
              "      <td>30.306660</td>\n",
              "      <td>69.249473</td>\n",
              "      <td>161.224249</td>\n",
              "      <td>82331.00000</td>\n",
              "    </tr>\n",
              "  </tbody>\n",
              "</table>\n",
              "</div>\n",
              "    <div class=\"colab-df-buttons\">\n",
              "\n",
              "  <div class=\"colab-df-container\">\n",
              "    <button class=\"colab-df-convert\" onclick=\"convertToInteractive('df-f699d63e-0c78-43c3-b7db-b93d555b407e')\"\n",
              "            title=\"Convert this dataframe to an interactive table.\"\n",
              "            style=\"display:none;\">\n",
              "\n",
              "  <svg xmlns=\"http://www.w3.org/2000/svg\" height=\"24px\" viewBox=\"0 -960 960 960\">\n",
              "    <path d=\"M120-120v-720h720v720H120Zm60-500h600v-160H180v160Zm220 220h160v-160H400v160Zm0 220h160v-160H400v160ZM180-400h160v-160H180v160Zm440 0h160v-160H620v160ZM180-180h160v-160H180v160Zm440 0h160v-160H620v160Z\"/>\n",
              "  </svg>\n",
              "    </button>\n",
              "\n",
              "  <style>\n",
              "    .colab-df-container {\n",
              "      display:flex;\n",
              "      gap: 12px;\n",
              "    }\n",
              "\n",
              "    .colab-df-convert {\n",
              "      background-color: #E8F0FE;\n",
              "      border: none;\n",
              "      border-radius: 50%;\n",
              "      cursor: pointer;\n",
              "      display: none;\n",
              "      fill: #1967D2;\n",
              "      height: 32px;\n",
              "      padding: 0 0 0 0;\n",
              "      width: 32px;\n",
              "    }\n",
              "\n",
              "    .colab-df-convert:hover {\n",
              "      background-color: #E2EBFA;\n",
              "      box-shadow: 0px 1px 2px rgba(60, 64, 67, 0.3), 0px 1px 3px 1px rgba(60, 64, 67, 0.15);\n",
              "      fill: #174EA6;\n",
              "    }\n",
              "\n",
              "    .colab-df-buttons div {\n",
              "      margin-bottom: 4px;\n",
              "    }\n",
              "\n",
              "    [theme=dark] .colab-df-convert {\n",
              "      background-color: #3B4455;\n",
              "      fill: #D2E3FC;\n",
              "    }\n",
              "\n",
              "    [theme=dark] .colab-df-convert:hover {\n",
              "      background-color: #434B5C;\n",
              "      box-shadow: 0px 1px 3px 1px rgba(0, 0, 0, 0.15);\n",
              "      filter: drop-shadow(0px 1px 2px rgba(0, 0, 0, 0.3));\n",
              "      fill: #FFFFFF;\n",
              "    }\n",
              "  </style>\n",
              "\n",
              "    <script>\n",
              "      const buttonEl =\n",
              "        document.querySelector('#df-f699d63e-0c78-43c3-b7db-b93d555b407e button.colab-df-convert');\n",
              "      buttonEl.style.display =\n",
              "        google.colab.kernel.accessAllowed ? 'block' : 'none';\n",
              "\n",
              "      async function convertToInteractive(key) {\n",
              "        const element = document.querySelector('#df-f699d63e-0c78-43c3-b7db-b93d555b407e');\n",
              "        const dataTable =\n",
              "          await google.colab.kernel.invokeFunction('convertToInteractive',\n",
              "                                                    [key], {});\n",
              "        if (!dataTable) return;\n",
              "\n",
              "        const docLinkHtml = 'Like what you see? Visit the ' +\n",
              "          '<a target=\"_blank\" href=https://colab.research.google.com/notebooks/data_table.ipynb>data table notebook</a>'\n",
              "          + ' to learn more about interactive tables.';\n",
              "        element.innerHTML = '';\n",
              "        dataTable['output_type'] = 'display_data';\n",
              "        await google.colab.output.renderOutput(dataTable, element);\n",
              "        const docLink = document.createElement('div');\n",
              "        docLink.innerHTML = docLinkHtml;\n",
              "        element.appendChild(docLink);\n",
              "      }\n",
              "    </script>\n",
              "  </div>\n",
              "\n",
              "\n",
              "<div id=\"df-f4f4bda3-126f-47ee-844b-85c5ccc9806f\">\n",
              "  <button class=\"colab-df-quickchart\" onclick=\"quickchart('df-f4f4bda3-126f-47ee-844b-85c5ccc9806f')\"\n",
              "            title=\"Suggest charts\"\n",
              "            style=\"display:none;\">\n",
              "\n",
              "<svg xmlns=\"http://www.w3.org/2000/svg\" height=\"24px\"viewBox=\"0 0 24 24\"\n",
              "     width=\"24px\">\n",
              "    <g>\n",
              "        <path d=\"M19 3H5c-1.1 0-2 .9-2 2v14c0 1.1.9 2 2 2h14c1.1 0 2-.9 2-2V5c0-1.1-.9-2-2-2zM9 17H7v-7h2v7zm4 0h-2V7h2v10zm4 0h-2v-4h2v4z\"/>\n",
              "    </g>\n",
              "</svg>\n",
              "  </button>\n",
              "\n",
              "<style>\n",
              "  .colab-df-quickchart {\n",
              "      --bg-color: #E8F0FE;\n",
              "      --fill-color: #1967D2;\n",
              "      --hover-bg-color: #E2EBFA;\n",
              "      --hover-fill-color: #174EA6;\n",
              "      --disabled-fill-color: #AAA;\n",
              "      --disabled-bg-color: #DDD;\n",
              "  }\n",
              "\n",
              "  [theme=dark] .colab-df-quickchart {\n",
              "      --bg-color: #3B4455;\n",
              "      --fill-color: #D2E3FC;\n",
              "      --hover-bg-color: #434B5C;\n",
              "      --hover-fill-color: #FFFFFF;\n",
              "      --disabled-bg-color: #3B4455;\n",
              "      --disabled-fill-color: #666;\n",
              "  }\n",
              "\n",
              "  .colab-df-quickchart {\n",
              "    background-color: var(--bg-color);\n",
              "    border: none;\n",
              "    border-radius: 50%;\n",
              "    cursor: pointer;\n",
              "    display: none;\n",
              "    fill: var(--fill-color);\n",
              "    height: 32px;\n",
              "    padding: 0;\n",
              "    width: 32px;\n",
              "  }\n",
              "\n",
              "  .colab-df-quickchart:hover {\n",
              "    background-color: var(--hover-bg-color);\n",
              "    box-shadow: 0 1px 2px rgba(60, 64, 67, 0.3), 0 1px 3px 1px rgba(60, 64, 67, 0.15);\n",
              "    fill: var(--button-hover-fill-color);\n",
              "  }\n",
              "\n",
              "  .colab-df-quickchart-complete:disabled,\n",
              "  .colab-df-quickchart-complete:disabled:hover {\n",
              "    background-color: var(--disabled-bg-color);\n",
              "    fill: var(--disabled-fill-color);\n",
              "    box-shadow: none;\n",
              "  }\n",
              "\n",
              "  .colab-df-spinner {\n",
              "    border: 2px solid var(--fill-color);\n",
              "    border-color: transparent;\n",
              "    border-bottom-color: var(--fill-color);\n",
              "    animation:\n",
              "      spin 1s steps(1) infinite;\n",
              "  }\n",
              "\n",
              "  @keyframes spin {\n",
              "    0% {\n",
              "      border-color: transparent;\n",
              "      border-bottom-color: var(--fill-color);\n",
              "      border-left-color: var(--fill-color);\n",
              "    }\n",
              "    20% {\n",
              "      border-color: transparent;\n",
              "      border-left-color: var(--fill-color);\n",
              "      border-top-color: var(--fill-color);\n",
              "    }\n",
              "    30% {\n",
              "      border-color: transparent;\n",
              "      border-left-color: var(--fill-color);\n",
              "      border-top-color: var(--fill-color);\n",
              "      border-right-color: var(--fill-color);\n",
              "    }\n",
              "    40% {\n",
              "      border-color: transparent;\n",
              "      border-right-color: var(--fill-color);\n",
              "      border-top-color: var(--fill-color);\n",
              "    }\n",
              "    60% {\n",
              "      border-color: transparent;\n",
              "      border-right-color: var(--fill-color);\n",
              "    }\n",
              "    80% {\n",
              "      border-color: transparent;\n",
              "      border-right-color: var(--fill-color);\n",
              "      border-bottom-color: var(--fill-color);\n",
              "    }\n",
              "    90% {\n",
              "      border-color: transparent;\n",
              "      border-bottom-color: var(--fill-color);\n",
              "    }\n",
              "  }\n",
              "</style>\n",
              "\n",
              "  <script>\n",
              "    async function quickchart(key) {\n",
              "      const quickchartButtonEl =\n",
              "        document.querySelector('#' + key + ' button');\n",
              "      quickchartButtonEl.disabled = true;  // To prevent multiple clicks.\n",
              "      quickchartButtonEl.classList.add('colab-df-spinner');\n",
              "      try {\n",
              "        const charts = await google.colab.kernel.invokeFunction(\n",
              "            'suggestCharts', [key], {});\n",
              "      } catch (error) {\n",
              "        console.error('Error during call to suggestCharts:', error);\n",
              "      }\n",
              "      quickchartButtonEl.classList.remove('colab-df-spinner');\n",
              "      quickchartButtonEl.classList.add('colab-df-quickchart-complete');\n",
              "    }\n",
              "    (() => {\n",
              "      let quickchartButtonEl =\n",
              "        document.querySelector('#df-f4f4bda3-126f-47ee-844b-85c5ccc9806f button');\n",
              "      quickchartButtonEl.style.display =\n",
              "        google.colab.kernel.accessAllowed ? 'block' : 'none';\n",
              "    })();\n",
              "  </script>\n",
              "</div>\n",
              "\n",
              "    </div>\n",
              "  </div>\n"
            ]
          },
          "metadata": {},
          "execution_count": 649
        }
      ]
    },
    {
      "cell_type": "code",
      "source": [
        "df.describe(include=[object]).T"
      ],
      "metadata": {
        "colab": {
          "base_uri": "https://localhost:8080/"
        },
        "id": "SzY7MkXYLIqh",
        "outputId": "5cd37e48-1574-416d-8fe3-844610c833f8"
      },
      "execution_count": null,
      "outputs": [
        {
          "output_type": "execute_result",
          "data": {
            "text/plain": [
              "                          count  unique                               top  \\\n",
              "ID                       100000  100000                            0x1602   \n",
              "Customer_ID              100000   12500                         CUS_0xd40   \n",
              "Month                    100000       8                           January   \n",
              "Name                      90015   10139                            Langep   \n",
              "Age                      100000    1788                                38   \n",
              "SSN                      100000   12501                         #F%$D@*&8   \n",
              "Occupation               100000      16                           _______   \n",
              "Annual_Income            100000   18940                          36585.12   \n",
              "Num_of_Loan              100000     434                                 3   \n",
              "Type_of_Loan              88592    6260                     Not Specified   \n",
              "Num_of_Delayed_Payment    92998     749                                19   \n",
              "Changed_Credit_Limit     100000    3635                                 _   \n",
              "Credit_Mix               100000       4                          Standard   \n",
              "Outstanding_Debt         100000   13178                           1360.45   \n",
              "Credit_History_Age        90970     404            15 Years and 11 Months   \n",
              "Payment_of_Min_Amount    100000       3                               Yes   \n",
              "Amount_invested_monthly   95521   91049                         __10000__   \n",
              "Payment_Behaviour        100000       7    Low_spent_Small_value_payments   \n",
              "Monthly_Balance           98800   98790  __-333333333333333333333333333__   \n",
              "\n",
              "                          freq  \n",
              "ID                           1  \n",
              "Customer_ID                  8  \n",
              "Month                    12500  \n",
              "Name                        44  \n",
              "Age                       2833  \n",
              "SSN                       5572  \n",
              "Occupation                7062  \n",
              "Annual_Income               16  \n",
              "Num_of_Loan              14386  \n",
              "Type_of_Loan              1408  \n",
              "Num_of_Delayed_Payment    5327  \n",
              "Changed_Credit_Limit      2091  \n",
              "Credit_Mix               36479  \n",
              "Outstanding_Debt            24  \n",
              "Credit_History_Age         446  \n",
              "Payment_of_Min_Amount    52326  \n",
              "Amount_invested_monthly   4305  \n",
              "Payment_Behaviour        25513  \n",
              "Monthly_Balance              9  "
            ],
            "text/html": [
              "\n",
              "  <div id=\"df-16693e40-db9d-4663-a749-1938ee4629cd\" class=\"colab-df-container\">\n",
              "    <div>\n",
              "<style scoped>\n",
              "    .dataframe tbody tr th:only-of-type {\n",
              "        vertical-align: middle;\n",
              "    }\n",
              "\n",
              "    .dataframe tbody tr th {\n",
              "        vertical-align: top;\n",
              "    }\n",
              "\n",
              "    .dataframe thead th {\n",
              "        text-align: right;\n",
              "    }\n",
              "</style>\n",
              "<table border=\"1\" class=\"dataframe\">\n",
              "  <thead>\n",
              "    <tr style=\"text-align: right;\">\n",
              "      <th></th>\n",
              "      <th>count</th>\n",
              "      <th>unique</th>\n",
              "      <th>top</th>\n",
              "      <th>freq</th>\n",
              "    </tr>\n",
              "  </thead>\n",
              "  <tbody>\n",
              "    <tr>\n",
              "      <th>ID</th>\n",
              "      <td>100000</td>\n",
              "      <td>100000</td>\n",
              "      <td>0x1602</td>\n",
              "      <td>1</td>\n",
              "    </tr>\n",
              "    <tr>\n",
              "      <th>Customer_ID</th>\n",
              "      <td>100000</td>\n",
              "      <td>12500</td>\n",
              "      <td>CUS_0xd40</td>\n",
              "      <td>8</td>\n",
              "    </tr>\n",
              "    <tr>\n",
              "      <th>Month</th>\n",
              "      <td>100000</td>\n",
              "      <td>8</td>\n",
              "      <td>January</td>\n",
              "      <td>12500</td>\n",
              "    </tr>\n",
              "    <tr>\n",
              "      <th>Name</th>\n",
              "      <td>90015</td>\n",
              "      <td>10139</td>\n",
              "      <td>Langep</td>\n",
              "      <td>44</td>\n",
              "    </tr>\n",
              "    <tr>\n",
              "      <th>Age</th>\n",
              "      <td>100000</td>\n",
              "      <td>1788</td>\n",
              "      <td>38</td>\n",
              "      <td>2833</td>\n",
              "    </tr>\n",
              "    <tr>\n",
              "      <th>SSN</th>\n",
              "      <td>100000</td>\n",
              "      <td>12501</td>\n",
              "      <td>#F%$D@*&amp;8</td>\n",
              "      <td>5572</td>\n",
              "    </tr>\n",
              "    <tr>\n",
              "      <th>Occupation</th>\n",
              "      <td>100000</td>\n",
              "      <td>16</td>\n",
              "      <td>_______</td>\n",
              "      <td>7062</td>\n",
              "    </tr>\n",
              "    <tr>\n",
              "      <th>Annual_Income</th>\n",
              "      <td>100000</td>\n",
              "      <td>18940</td>\n",
              "      <td>36585.12</td>\n",
              "      <td>16</td>\n",
              "    </tr>\n",
              "    <tr>\n",
              "      <th>Num_of_Loan</th>\n",
              "      <td>100000</td>\n",
              "      <td>434</td>\n",
              "      <td>3</td>\n",
              "      <td>14386</td>\n",
              "    </tr>\n",
              "    <tr>\n",
              "      <th>Type_of_Loan</th>\n",
              "      <td>88592</td>\n",
              "      <td>6260</td>\n",
              "      <td>Not Specified</td>\n",
              "      <td>1408</td>\n",
              "    </tr>\n",
              "    <tr>\n",
              "      <th>Num_of_Delayed_Payment</th>\n",
              "      <td>92998</td>\n",
              "      <td>749</td>\n",
              "      <td>19</td>\n",
              "      <td>5327</td>\n",
              "    </tr>\n",
              "    <tr>\n",
              "      <th>Changed_Credit_Limit</th>\n",
              "      <td>100000</td>\n",
              "      <td>3635</td>\n",
              "      <td>_</td>\n",
              "      <td>2091</td>\n",
              "    </tr>\n",
              "    <tr>\n",
              "      <th>Credit_Mix</th>\n",
              "      <td>100000</td>\n",
              "      <td>4</td>\n",
              "      <td>Standard</td>\n",
              "      <td>36479</td>\n",
              "    </tr>\n",
              "    <tr>\n",
              "      <th>Outstanding_Debt</th>\n",
              "      <td>100000</td>\n",
              "      <td>13178</td>\n",
              "      <td>1360.45</td>\n",
              "      <td>24</td>\n",
              "    </tr>\n",
              "    <tr>\n",
              "      <th>Credit_History_Age</th>\n",
              "      <td>90970</td>\n",
              "      <td>404</td>\n",
              "      <td>15 Years and 11 Months</td>\n",
              "      <td>446</td>\n",
              "    </tr>\n",
              "    <tr>\n",
              "      <th>Payment_of_Min_Amount</th>\n",
              "      <td>100000</td>\n",
              "      <td>3</td>\n",
              "      <td>Yes</td>\n",
              "      <td>52326</td>\n",
              "    </tr>\n",
              "    <tr>\n",
              "      <th>Amount_invested_monthly</th>\n",
              "      <td>95521</td>\n",
              "      <td>91049</td>\n",
              "      <td>__10000__</td>\n",
              "      <td>4305</td>\n",
              "    </tr>\n",
              "    <tr>\n",
              "      <th>Payment_Behaviour</th>\n",
              "      <td>100000</td>\n",
              "      <td>7</td>\n",
              "      <td>Low_spent_Small_value_payments</td>\n",
              "      <td>25513</td>\n",
              "    </tr>\n",
              "    <tr>\n",
              "      <th>Monthly_Balance</th>\n",
              "      <td>98800</td>\n",
              "      <td>98790</td>\n",
              "      <td>__-333333333333333333333333333__</td>\n",
              "      <td>9</td>\n",
              "    </tr>\n",
              "  </tbody>\n",
              "</table>\n",
              "</div>\n",
              "    <div class=\"colab-df-buttons\">\n",
              "\n",
              "  <div class=\"colab-df-container\">\n",
              "    <button class=\"colab-df-convert\" onclick=\"convertToInteractive('df-16693e40-db9d-4663-a749-1938ee4629cd')\"\n",
              "            title=\"Convert this dataframe to an interactive table.\"\n",
              "            style=\"display:none;\">\n",
              "\n",
              "  <svg xmlns=\"http://www.w3.org/2000/svg\" height=\"24px\" viewBox=\"0 -960 960 960\">\n",
              "    <path d=\"M120-120v-720h720v720H120Zm60-500h600v-160H180v160Zm220 220h160v-160H400v160Zm0 220h160v-160H400v160ZM180-400h160v-160H180v160Zm440 0h160v-160H620v160ZM180-180h160v-160H180v160Zm440 0h160v-160H620v160Z\"/>\n",
              "  </svg>\n",
              "    </button>\n",
              "\n",
              "  <style>\n",
              "    .colab-df-container {\n",
              "      display:flex;\n",
              "      gap: 12px;\n",
              "    }\n",
              "\n",
              "    .colab-df-convert {\n",
              "      background-color: #E8F0FE;\n",
              "      border: none;\n",
              "      border-radius: 50%;\n",
              "      cursor: pointer;\n",
              "      display: none;\n",
              "      fill: #1967D2;\n",
              "      height: 32px;\n",
              "      padding: 0 0 0 0;\n",
              "      width: 32px;\n",
              "    }\n",
              "\n",
              "    .colab-df-convert:hover {\n",
              "      background-color: #E2EBFA;\n",
              "      box-shadow: 0px 1px 2px rgba(60, 64, 67, 0.3), 0px 1px 3px 1px rgba(60, 64, 67, 0.15);\n",
              "      fill: #174EA6;\n",
              "    }\n",
              "\n",
              "    .colab-df-buttons div {\n",
              "      margin-bottom: 4px;\n",
              "    }\n",
              "\n",
              "    [theme=dark] .colab-df-convert {\n",
              "      background-color: #3B4455;\n",
              "      fill: #D2E3FC;\n",
              "    }\n",
              "\n",
              "    [theme=dark] .colab-df-convert:hover {\n",
              "      background-color: #434B5C;\n",
              "      box-shadow: 0px 1px 3px 1px rgba(0, 0, 0, 0.15);\n",
              "      filter: drop-shadow(0px 1px 2px rgba(0, 0, 0, 0.3));\n",
              "      fill: #FFFFFF;\n",
              "    }\n",
              "  </style>\n",
              "\n",
              "    <script>\n",
              "      const buttonEl =\n",
              "        document.querySelector('#df-16693e40-db9d-4663-a749-1938ee4629cd button.colab-df-convert');\n",
              "      buttonEl.style.display =\n",
              "        google.colab.kernel.accessAllowed ? 'block' : 'none';\n",
              "\n",
              "      async function convertToInteractive(key) {\n",
              "        const element = document.querySelector('#df-16693e40-db9d-4663-a749-1938ee4629cd');\n",
              "        const dataTable =\n",
              "          await google.colab.kernel.invokeFunction('convertToInteractive',\n",
              "                                                    [key], {});\n",
              "        if (!dataTable) return;\n",
              "\n",
              "        const docLinkHtml = 'Like what you see? Visit the ' +\n",
              "          '<a target=\"_blank\" href=https://colab.research.google.com/notebooks/data_table.ipynb>data table notebook</a>'\n",
              "          + ' to learn more about interactive tables.';\n",
              "        element.innerHTML = '';\n",
              "        dataTable['output_type'] = 'display_data';\n",
              "        await google.colab.output.renderOutput(dataTable, element);\n",
              "        const docLink = document.createElement('div');\n",
              "        docLink.innerHTML = docLinkHtml;\n",
              "        element.appendChild(docLink);\n",
              "      }\n",
              "    </script>\n",
              "  </div>\n",
              "\n",
              "\n",
              "<div id=\"df-831c36fe-210c-4089-98ff-85e5f1fc7aae\">\n",
              "  <button class=\"colab-df-quickchart\" onclick=\"quickchart('df-831c36fe-210c-4089-98ff-85e5f1fc7aae')\"\n",
              "            title=\"Suggest charts\"\n",
              "            style=\"display:none;\">\n",
              "\n",
              "<svg xmlns=\"http://www.w3.org/2000/svg\" height=\"24px\"viewBox=\"0 0 24 24\"\n",
              "     width=\"24px\">\n",
              "    <g>\n",
              "        <path d=\"M19 3H5c-1.1 0-2 .9-2 2v14c0 1.1.9 2 2 2h14c1.1 0 2-.9 2-2V5c0-1.1-.9-2-2-2zM9 17H7v-7h2v7zm4 0h-2V7h2v10zm4 0h-2v-4h2v4z\"/>\n",
              "    </g>\n",
              "</svg>\n",
              "  </button>\n",
              "\n",
              "<style>\n",
              "  .colab-df-quickchart {\n",
              "      --bg-color: #E8F0FE;\n",
              "      --fill-color: #1967D2;\n",
              "      --hover-bg-color: #E2EBFA;\n",
              "      --hover-fill-color: #174EA6;\n",
              "      --disabled-fill-color: #AAA;\n",
              "      --disabled-bg-color: #DDD;\n",
              "  }\n",
              "\n",
              "  [theme=dark] .colab-df-quickchart {\n",
              "      --bg-color: #3B4455;\n",
              "      --fill-color: #D2E3FC;\n",
              "      --hover-bg-color: #434B5C;\n",
              "      --hover-fill-color: #FFFFFF;\n",
              "      --disabled-bg-color: #3B4455;\n",
              "      --disabled-fill-color: #666;\n",
              "  }\n",
              "\n",
              "  .colab-df-quickchart {\n",
              "    background-color: var(--bg-color);\n",
              "    border: none;\n",
              "    border-radius: 50%;\n",
              "    cursor: pointer;\n",
              "    display: none;\n",
              "    fill: var(--fill-color);\n",
              "    height: 32px;\n",
              "    padding: 0;\n",
              "    width: 32px;\n",
              "  }\n",
              "\n",
              "  .colab-df-quickchart:hover {\n",
              "    background-color: var(--hover-bg-color);\n",
              "    box-shadow: 0 1px 2px rgba(60, 64, 67, 0.3), 0 1px 3px 1px rgba(60, 64, 67, 0.15);\n",
              "    fill: var(--button-hover-fill-color);\n",
              "  }\n",
              "\n",
              "  .colab-df-quickchart-complete:disabled,\n",
              "  .colab-df-quickchart-complete:disabled:hover {\n",
              "    background-color: var(--disabled-bg-color);\n",
              "    fill: var(--disabled-fill-color);\n",
              "    box-shadow: none;\n",
              "  }\n",
              "\n",
              "  .colab-df-spinner {\n",
              "    border: 2px solid var(--fill-color);\n",
              "    border-color: transparent;\n",
              "    border-bottom-color: var(--fill-color);\n",
              "    animation:\n",
              "      spin 1s steps(1) infinite;\n",
              "  }\n",
              "\n",
              "  @keyframes spin {\n",
              "    0% {\n",
              "      border-color: transparent;\n",
              "      border-bottom-color: var(--fill-color);\n",
              "      border-left-color: var(--fill-color);\n",
              "    }\n",
              "    20% {\n",
              "      border-color: transparent;\n",
              "      border-left-color: var(--fill-color);\n",
              "      border-top-color: var(--fill-color);\n",
              "    }\n",
              "    30% {\n",
              "      border-color: transparent;\n",
              "      border-left-color: var(--fill-color);\n",
              "      border-top-color: var(--fill-color);\n",
              "      border-right-color: var(--fill-color);\n",
              "    }\n",
              "    40% {\n",
              "      border-color: transparent;\n",
              "      border-right-color: var(--fill-color);\n",
              "      border-top-color: var(--fill-color);\n",
              "    }\n",
              "    60% {\n",
              "      border-color: transparent;\n",
              "      border-right-color: var(--fill-color);\n",
              "    }\n",
              "    80% {\n",
              "      border-color: transparent;\n",
              "      border-right-color: var(--fill-color);\n",
              "      border-bottom-color: var(--fill-color);\n",
              "    }\n",
              "    90% {\n",
              "      border-color: transparent;\n",
              "      border-bottom-color: var(--fill-color);\n",
              "    }\n",
              "  }\n",
              "</style>\n",
              "\n",
              "  <script>\n",
              "    async function quickchart(key) {\n",
              "      const quickchartButtonEl =\n",
              "        document.querySelector('#' + key + ' button');\n",
              "      quickchartButtonEl.disabled = true;  // To prevent multiple clicks.\n",
              "      quickchartButtonEl.classList.add('colab-df-spinner');\n",
              "      try {\n",
              "        const charts = await google.colab.kernel.invokeFunction(\n",
              "            'suggestCharts', [key], {});\n",
              "      } catch (error) {\n",
              "        console.error('Error during call to suggestCharts:', error);\n",
              "      }\n",
              "      quickchartButtonEl.classList.remove('colab-df-spinner');\n",
              "      quickchartButtonEl.classList.add('colab-df-quickchart-complete');\n",
              "    }\n",
              "    (() => {\n",
              "      let quickchartButtonEl =\n",
              "        document.querySelector('#df-831c36fe-210c-4089-98ff-85e5f1fc7aae button');\n",
              "      quickchartButtonEl.style.display =\n",
              "        google.colab.kernel.accessAllowed ? 'block' : 'none';\n",
              "    })();\n",
              "  </script>\n",
              "</div>\n",
              "\n",
              "    </div>\n",
              "  </div>\n"
            ]
          },
          "metadata": {},
          "execution_count": 650
        }
      ]
    },
    {
      "cell_type": "code",
      "source": [
        "df.info()"
      ],
      "metadata": {
        "colab": {
          "base_uri": "https://localhost:8080/"
        },
        "id": "umYko4iCbalH",
        "outputId": "a0eb445c-a4b7-4528-c7f8-e4ae52a08cae"
      },
      "execution_count": null,
      "outputs": [
        {
          "output_type": "stream",
          "name": "stdout",
          "text": [
            "<class 'pandas.core.frame.DataFrame'>\n",
            "RangeIndex: 100000 entries, 0 to 99999\n",
            "Data columns (total 27 columns):\n",
            " #   Column                    Non-Null Count   Dtype  \n",
            "---  ------                    --------------   -----  \n",
            " 0   ID                        100000 non-null  object \n",
            " 1   Customer_ID               100000 non-null  object \n",
            " 2   Month                     100000 non-null  object \n",
            " 3   Name                      90015 non-null   object \n",
            " 4   Age                       100000 non-null  object \n",
            " 5   SSN                       100000 non-null  object \n",
            " 6   Occupation                100000 non-null  object \n",
            " 7   Annual_Income             100000 non-null  object \n",
            " 8   Monthly_Inhand_Salary     84998 non-null   float64\n",
            " 9   Num_Bank_Accounts         100000 non-null  int64  \n",
            " 10  Num_Credit_Card           100000 non-null  int64  \n",
            " 11  Interest_Rate             100000 non-null  int64  \n",
            " 12  Num_of_Loan               100000 non-null  object \n",
            " 13  Type_of_Loan              88592 non-null   object \n",
            " 14  Delay_from_due_date       100000 non-null  int64  \n",
            " 15  Num_of_Delayed_Payment    92998 non-null   object \n",
            " 16  Changed_Credit_Limit      100000 non-null  object \n",
            " 17  Num_Credit_Inquiries      98035 non-null   float64\n",
            " 18  Credit_Mix                100000 non-null  object \n",
            " 19  Outstanding_Debt          100000 non-null  object \n",
            " 20  Credit_Utilization_Ratio  100000 non-null  float64\n",
            " 21  Credit_History_Age        90970 non-null   object \n",
            " 22  Payment_of_Min_Amount     100000 non-null  object \n",
            " 23  Total_EMI_per_month       100000 non-null  float64\n",
            " 24  Amount_invested_monthly   95521 non-null   object \n",
            " 25  Payment_Behaviour         100000 non-null  object \n",
            " 26  Monthly_Balance           98800 non-null   object \n",
            "dtypes: float64(4), int64(4), object(19)\n",
            "memory usage: 20.6+ MB\n"
          ]
        }
      ]
    },
    {
      "cell_type": "markdown",
      "source": [
        "**Summary:**\n",
        "\n",
        "There are several columns having null values and several numberical column which needs to be cleaned and converted into desired datatypes."
      ],
      "metadata": {
        "id": "tnyqP5CHLu-1"
      }
    },
    {
      "cell_type": "markdown",
      "source": [
        "#Categorical analysis"
      ],
      "metadata": {
        "id": "j9w2gysH2ULD"
      }
    },
    {
      "cell_type": "markdown",
      "source": [
        "##ID"
      ],
      "metadata": {
        "id": "nGnPWBY8LiFj"
      }
    },
    {
      "cell_type": "code",
      "source": [
        "df.ID.value_counts()"
      ],
      "metadata": {
        "colab": {
          "base_uri": "https://localhost:8080/"
        },
        "id": "bFXUG7DP4MDT",
        "outputId": "9436ba3a-621a-4ac9-8075-ccf68c001767"
      },
      "execution_count": null,
      "outputs": [
        {
          "output_type": "execute_result",
          "data": {
            "text/plain": [
              "0x1602     1\n",
              "0x19c88    1\n",
              "0x19caa    1\n",
              "0x19ca5    1\n",
              "0x19ca4    1\n",
              "          ..\n",
              "0xd94d     1\n",
              "0xd94c     1\n",
              "0xd94b     1\n",
              "0xd94a     1\n",
              "0x25fed    1\n",
              "Name: ID, Length: 100000, dtype: int64"
            ]
          },
          "metadata": {},
          "execution_count": 652
        }
      ]
    },
    {
      "cell_type": "markdown",
      "source": [
        "##Customer_ID"
      ],
      "metadata": {
        "id": "Qp2Q66jEHfyg"
      }
    },
    {
      "cell_type": "code",
      "source": [
        "df['Customer_ID'].value_counts()"
      ],
      "metadata": {
        "colab": {
          "base_uri": "https://localhost:8080/"
        },
        "id": "lkAKxeDr4MHJ",
        "outputId": "5f3915e4-b7ba-4a29-fad5-6d41dfd3f7ec"
      },
      "execution_count": null,
      "outputs": [
        {
          "output_type": "execute_result",
          "data": {
            "text/plain": [
              "CUS_0xd40     8\n",
              "CUS_0x9bf4    8\n",
              "CUS_0x5ae3    8\n",
              "CUS_0xbe9a    8\n",
              "CUS_0x4874    8\n",
              "             ..\n",
              "CUS_0x2eb4    8\n",
              "CUS_0x7863    8\n",
              "CUS_0x9d89    8\n",
              "CUS_0xc045    8\n",
              "CUS_0x942c    8\n",
              "Name: Customer_ID, Length: 12500, dtype: int64"
            ]
          },
          "metadata": {},
          "execution_count": 653
        }
      ]
    },
    {
      "cell_type": "markdown",
      "source": [
        "**Summary:**\n",
        "\n",
        "There are 12500 unique values which represents 12500 unique customers."
      ],
      "metadata": {
        "id": "JikZDC1qlcCb"
      }
    },
    {
      "cell_type": "markdown",
      "source": [
        "##Month"
      ],
      "metadata": {
        "id": "3NZfg4T-HccX"
      }
    },
    {
      "cell_type": "code",
      "source": [
        "df['Month'].value_counts()"
      ],
      "metadata": {
        "colab": {
          "base_uri": "https://localhost:8080/"
        },
        "id": "RyfyeSC3LfIx",
        "outputId": "727d6d70-bcda-4961-8b47-25cc2d6c5ee7"
      },
      "execution_count": null,
      "outputs": [
        {
          "output_type": "execute_result",
          "data": {
            "text/plain": [
              "January     12500\n",
              "February    12500\n",
              "March       12500\n",
              "April       12500\n",
              "May         12500\n",
              "June        12500\n",
              "July        12500\n",
              "August      12500\n",
              "Name: Month, dtype: int64"
            ]
          },
          "metadata": {},
          "execution_count": 654
        }
      ]
    },
    {
      "cell_type": "markdown",
      "source": [
        "**Summary:**\n",
        "\n",
        "Data from January to August is available"
      ],
      "metadata": {
        "id": "Lqh0Ua7Wlr7f"
      }
    },
    {
      "cell_type": "markdown",
      "source": [
        "##Name"
      ],
      "metadata": {
        "id": "yJZ2ew2kyzhN"
      }
    },
    {
      "cell_type": "code",
      "source": [
        "df['Name'].value_counts()"
      ],
      "metadata": {
        "colab": {
          "base_uri": "https://localhost:8080/"
        },
        "id": "yeLlnBVFLxGv",
        "outputId": "381498dc-ecb0-405d-a859-88ea81f0ade7"
      },
      "execution_count": null,
      "outputs": [
        {
          "output_type": "execute_result",
          "data": {
            "text/plain": [
              "Langep            44\n",
              "Stevex            44\n",
              "Vaughanl          39\n",
              "Jessicad          39\n",
              "Raymondr          38\n",
              "                  ..\n",
              "Alina Selyukhg     4\n",
              "Habboushg          4\n",
              "Mortimerq          4\n",
              "Ronaldf            4\n",
              "Timothyl           3\n",
              "Name: Name, Length: 10139, dtype: int64"
            ]
          },
          "metadata": {},
          "execution_count": 655
        }
      ]
    },
    {
      "cell_type": "code",
      "source": [
        "df['Name'].isnull().sum()"
      ],
      "metadata": {
        "colab": {
          "base_uri": "https://localhost:8080/"
        },
        "id": "7_gvOfnxL5Bo",
        "outputId": "0064b306-a62e-4960-f954-ce9553b72b8f"
      },
      "execution_count": null,
      "outputs": [
        {
          "output_type": "execute_result",
          "data": {
            "text/plain": [
              "9985"
            ]
          },
          "metadata": {},
          "execution_count": 656
        }
      ]
    },
    {
      "cell_type": "code",
      "source": [
        "df.groupby(['Customer_ID'])['Name'].transform(lambda x: x.mode()[0])"
      ],
      "metadata": {
        "colab": {
          "base_uri": "https://localhost:8080/"
        },
        "id": "gL75T80Xvy4j",
        "outputId": "dec5232a-635c-4943-ab3a-20b85d7cb208"
      },
      "execution_count": null,
      "outputs": [
        {
          "output_type": "execute_result",
          "data": {
            "text/plain": [
              "0        Aaron Maashoh\n",
              "1        Aaron Maashoh\n",
              "2        Aaron Maashoh\n",
              "3        Aaron Maashoh\n",
              "4        Aaron Maashoh\n",
              "             ...      \n",
              "99995            Nicks\n",
              "99996            Nicks\n",
              "99997            Nicks\n",
              "99998            Nicks\n",
              "99999            Nicks\n",
              "Name: Name, Length: 100000, dtype: object"
            ]
          },
          "metadata": {},
          "execution_count": 657
        }
      ]
    },
    {
      "cell_type": "code",
      "source": [
        "df['Name']=df['Name'].fillna(df.groupby(['Customer_ID'])['Name'].transform(lambda x: x.mode()[0]))"
      ],
      "metadata": {
        "id": "-t374Dx9MBlA"
      },
      "execution_count": null,
      "outputs": []
    },
    {
      "cell_type": "code",
      "source": [
        "len(df.groupby(['Customer_ID'])['Name'].value_counts())"
      ],
      "metadata": {
        "colab": {
          "base_uri": "https://localhost:8080/"
        },
        "id": "QnCWK5_5Q5NM",
        "outputId": "9f24f784-9ccc-41a8-bb64-e042e7895144"
      },
      "execution_count": null,
      "outputs": [
        {
          "output_type": "execute_result",
          "data": {
            "text/plain": [
              "12500"
            ]
          },
          "metadata": {},
          "execution_count": 659
        }
      ]
    },
    {
      "cell_type": "markdown",
      "source": [
        "**Summary**\n",
        "\n",
        "After dealing with garbage and null values,12500 unique customer name appears according to their Customer ID appears"
      ],
      "metadata": {
        "id": "-fRJ3HKEm7SA"
      }
    },
    {
      "cell_type": "markdown",
      "source": [
        "##SSN"
      ],
      "metadata": {
        "id": "x9d9AkyIGkiN"
      }
    },
    {
      "cell_type": "code",
      "source": [
        "df['SSN'].value_counts()"
      ],
      "metadata": {
        "colab": {
          "base_uri": "https://localhost:8080/"
        },
        "id": "G7KhiYX-Gn_n",
        "outputId": "9579853f-5365-41b7-bfbe-811785b7e757"
      },
      "execution_count": null,
      "outputs": [
        {
          "output_type": "execute_result",
          "data": {
            "text/plain": [
              "#F%$D@*&8      5572\n",
              "078-73-5990       8\n",
              "486-78-3816       8\n",
              "750-67-7525       8\n",
              "903-50-0305       8\n",
              "               ... \n",
              "856-06-6147       4\n",
              "753-72-2651       4\n",
              "331-28-1921       4\n",
              "604-62-6133       4\n",
              "286-44-9634       4\n",
              "Name: SSN, Length: 12501, dtype: int64"
            ]
          },
          "metadata": {},
          "execution_count": 660
        }
      ]
    },
    {
      "cell_type": "code",
      "source": [
        "df['SSN']=df['SSN'].replace(\"#F%$D@*&8\",np.nan)"
      ],
      "metadata": {
        "id": "8RDwhQDJGtKf"
      },
      "execution_count": null,
      "outputs": []
    },
    {
      "cell_type": "code",
      "source": [
        "df['SSN'].fillna(df.groupby('Customer_ID')['SSN'].transform(lambda x: x.mode()[0]),inplace=True)"
      ],
      "metadata": {
        "id": "XlGxhvYNG56g"
      },
      "execution_count": null,
      "outputs": []
    },
    {
      "cell_type": "markdown",
      "source": [
        "**Summary**\n",
        "\n",
        "After dealing with garbage and null values,12500 unique SSN appears according to their Customer ID appears"
      ],
      "metadata": {
        "id": "oe5XOZT5npP6"
      }
    },
    {
      "cell_type": "markdown",
      "source": [
        "##Occupation"
      ],
      "metadata": {
        "id": "AzyR5DEFy3-q"
      }
    },
    {
      "cell_type": "code",
      "source": [
        "df['Occupation'].value_counts()"
      ],
      "metadata": {
        "colab": {
          "base_uri": "https://localhost:8080/"
        },
        "id": "WUYIdXr6RjVl",
        "outputId": "f089c99e-4a54-48b8-d638-2ee468a217f1"
      },
      "execution_count": null,
      "outputs": [
        {
          "output_type": "execute_result",
          "data": {
            "text/plain": [
              "_______          7062\n",
              "Lawyer           6575\n",
              "Architect        6355\n",
              "Engineer         6350\n",
              "Scientist        6299\n",
              "Mechanic         6291\n",
              "Accountant       6271\n",
              "Developer        6235\n",
              "Media_Manager    6232\n",
              "Teacher          6215\n",
              "Entrepreneur     6174\n",
              "Doctor           6087\n",
              "Journalist       6085\n",
              "Manager          5973\n",
              "Musician         5911\n",
              "Writer           5885\n",
              "Name: Occupation, dtype: int64"
            ]
          },
          "metadata": {},
          "execution_count": 663
        }
      ]
    },
    {
      "cell_type": "code",
      "source": [
        "df['Occupation']=df['Occupation'].replace(\"_______\",np.nan)"
      ],
      "metadata": {
        "id": "jHku-Ni9SUWY"
      },
      "execution_count": null,
      "outputs": []
    },
    {
      "cell_type": "code",
      "source": [
        "df['Occupation']=df['Occupation'].fillna(df.groupby(['Customer_ID'])['Occupation'].transform(lambda x: x.mode()[0]))"
      ],
      "metadata": {
        "id": "drEKerL6UA6Y"
      },
      "execution_count": null,
      "outputs": []
    },
    {
      "cell_type": "code",
      "source": [
        "plt.figure(figsize=(10,4))\n",
        "sns.countplot(data=df,x='Occupation')\n",
        "plt.xticks(size=8,rotation=60)\n",
        "plt.tight_layout()\n",
        "plt.plot()"
      ],
      "metadata": {
        "colab": {
          "base_uri": "https://localhost:8080/"
        },
        "id": "0v8ixTBGnzAI",
        "outputId": "910a7b0a-3b20-4071-f086-1d5768f72f68"
      },
      "execution_count": null,
      "outputs": [
        {
          "output_type": "execute_result",
          "data": {
            "text/plain": [
              "[]"
            ]
          },
          "metadata": {},
          "execution_count": 666
        },
        {
          "output_type": "display_data",
          "data": {
            "text/plain": [
              "<Figure size 1000x400 with 1 Axes>"
            ],
            "image/png": "[encoded data removed]"
          },
          "metadata": {}
        }
      ]
    },
    {
      "cell_type": "markdown",
      "source": [
        "**Summary**\n",
        "\n",
        "Customers from every occupation is available in significant number, lawayes leads the chart."
      ],
      "metadata": {
        "id": "LCUOFqtXoTmm"
      }
    },
    {
      "cell_type": "markdown",
      "source": [
        "##Credit_Mix"
      ],
      "metadata": {
        "id": "kZDsBc8py8V-"
      }
    },
    {
      "cell_type": "code",
      "source": [
        "df['Credit_Mix'].value_counts()"
      ],
      "metadata": {
        "colab": {
          "base_uri": "https://localhost:8080/"
        },
        "id": "FJxsZHEFc8Aa",
        "outputId": "f59208f2-780a-4c41-dab6-a2f20d5adace"
      },
      "execution_count": null,
      "outputs": [
        {
          "output_type": "execute_result",
          "data": {
            "text/plain": [
              "Standard    36479\n",
              "Good        24337\n",
              "_           20195\n",
              "Bad         18989\n",
              "Name: Credit_Mix, dtype: int64"
            ]
          },
          "metadata": {},
          "execution_count": 667
        }
      ]
    },
    {
      "cell_type": "code",
      "source": [
        "df['Credit_Mix'].replace(\"_\",np.nan,inplace=True)"
      ],
      "metadata": {
        "id": "8LesMTC7ywFO"
      },
      "execution_count": null,
      "outputs": []
    },
    {
      "cell_type": "code",
      "source": [
        "df['Credit_Mix'].fillna(df.groupby(['Customer_ID'])['Credit_Mix'].transform(lambda x: x.mode()[0]),inplace=True)"
      ],
      "metadata": {
        "id": "2GsSD_lNzOR3"
      },
      "execution_count": null,
      "outputs": []
    },
    {
      "cell_type": "code",
      "source": [
        "sns.countplot(data=df,x=\"Credit_Mix\")\n"
      ],
      "metadata": {
        "colab": {
          "base_uri": "https://localhost:8080/"
        },
        "id": "OknN2mwiop4w",
        "outputId": "bc201de2-812c-4736-a4d1-1c9a5d65e949"
      },
      "execution_count": null,
      "outputs": [
        {
          "output_type": "execute_result",
          "data": {
            "text/plain": [
              "<Axes: xlabel='Credit_Mix', ylabel='count'>"
            ]
          },
          "metadata": {},
          "execution_count": 670
        },
        {
          "output_type": "display_data",
          "data": {
            "text/plain": [
              "<Figure size 640x480 with 1 Axes>"
            ],
            "image/png": "[encoded data removed]"
          },
          "metadata": {}
        }
      ]
    },
    {
      "cell_type": "markdown",
      "source": [
        "**Summary**\n",
        "\n",
        "Standard type of credit mix leads the chart."
      ],
      "metadata": {
        "id": "HN1igcklpFcg"
      }
    },
    {
      "cell_type": "markdown",
      "source": [
        "##Payment Behaviour"
      ],
      "metadata": {
        "id": "8cDRgic007zF"
      }
    },
    {
      "cell_type": "code",
      "source": [
        "df['Payment_Behaviour'].value_counts()"
      ],
      "metadata": {
        "colab": {
          "base_uri": "https://localhost:8080/"
        },
        "id": "M9ebMYHF0SuG",
        "outputId": "70353940-2bd8-4b06-f7b3-8c0f7e8d102a"
      },
      "execution_count": null,
      "outputs": [
        {
          "output_type": "execute_result",
          "data": {
            "text/plain": [
              "Low_spent_Small_value_payments      25513\n",
              "High_spent_Medium_value_payments    17540\n",
              "Low_spent_Medium_value_payments     13861\n",
              "High_spent_Large_value_payments     13721\n",
              "High_spent_Small_value_payments     11340\n",
              "Low_spent_Large_value_payments      10425\n",
              "!@9#%8                               7600\n",
              "Name: Payment_Behaviour, dtype: int64"
            ]
          },
          "metadata": {},
          "execution_count": 671
        }
      ]
    },
    {
      "cell_type": "code",
      "source": [
        "df['Payment_Behaviour'].replace(\"!@9#%8\",np.nan,inplace=True)"
      ],
      "metadata": {
        "id": "b0mPrI7x1KFF"
      },
      "execution_count": null,
      "outputs": []
    },
    {
      "cell_type": "code",
      "source": [
        "df['Payment_Behaviour'].fillna(df.groupby(['Customer_ID'])['Payment_Behaviour'].transform(lambda x: x.mode()[0]),inplace=True)"
      ],
      "metadata": {
        "id": "7aXhkQ9N1WrC"
      },
      "execution_count": null,
      "outputs": []
    },
    {
      "cell_type": "code",
      "source": [
        "df['Payment_Behaviour'].value_counts()"
      ],
      "metadata": {
        "colab": {
          "base_uri": "https://localhost:8080/"
        },
        "id": "XvPJKmNYpWFK",
        "outputId": "e127156e-19a3-4d85-99de-f9308996d165"
      },
      "execution_count": null,
      "outputs": [
        {
          "output_type": "execute_result",
          "data": {
            "text/plain": [
              "Low_spent_Small_value_payments      27767\n",
              "High_spent_Medium_value_payments    19366\n",
              "High_spent_Large_value_payments     15348\n",
              "Low_spent_Medium_value_payments     14621\n",
              "High_spent_Small_value_payments     11980\n",
              "Low_spent_Large_value_payments      10918\n",
              "Name: Payment_Behaviour, dtype: int64"
            ]
          },
          "metadata": {},
          "execution_count": 674
        }
      ]
    },
    {
      "cell_type": "markdown",
      "source": [
        "**Summary**\n",
        "\n",
        "Low spent small value payments are popular while Low spent large value payment is minimum."
      ],
      "metadata": {
        "id": "Acg-0U6ZpeMV"
      }
    },
    {
      "cell_type": "markdown",
      "source": [
        "##Types of loan"
      ],
      "metadata": {
        "id": "0VOHMKFU15nt"
      }
    },
    {
      "cell_type": "code",
      "source": [
        "df['Type_of_Loan'].value_counts()"
      ],
      "metadata": {
        "colab": {
          "base_uri": "https://localhost:8080/"
        },
        "id": "sn8ztSRK14vV",
        "outputId": "814f86cb-c46f-4f9a-e001-f90661e65e15"
      },
      "execution_count": null,
      "outputs": [
        {
          "output_type": "execute_result",
          "data": {
            "text/plain": [
              "Not Specified                                                                                                                         1408\n",
              "Credit-Builder Loan                                                                                                                   1280\n",
              "Personal Loan                                                                                                                         1272\n",
              "Debt Consolidation Loan                                                                                                               1264\n",
              "Student Loan                                                                                                                          1240\n",
              "                                                                                                                                      ... \n",
              "Not Specified, Mortgage Loan, Auto Loan, and Payday Loan                                                                                 8\n",
              "Payday Loan, Mortgage Loan, Debt Consolidation Loan, and Student Loan                                                                    8\n",
              "Debt Consolidation Loan, Auto Loan, Personal Loan, Debt Consolidation Loan, Student Loan, and Credit-Builder Loan                        8\n",
              "Student Loan, Auto Loan, Student Loan, Credit-Builder Loan, Home Equity Loan, Debt Consolidation Loan, and Debt Consolidation Loan       8\n",
              "Personal Loan, Auto Loan, Mortgage Loan, Student Loan, and Student Loan                                                                  8\n",
              "Name: Type_of_Loan, Length: 6260, dtype: int64"
            ]
          },
          "metadata": {},
          "execution_count": 675
        }
      ]
    },
    {
      "cell_type": "code",
      "source": [
        "df['Type_of_Loan'].replace([np.NaN], 'Not Specified', inplace=True)"
      ],
      "metadata": {
        "id": "dzlZCHmv6RH9"
      },
      "execution_count": null,
      "outputs": []
    },
    {
      "cell_type": "code",
      "source": [
        "loan_types=df['Type_of_Loan'].apply(lambda x: x.replace(\"and \",\"\")).str.split(\", \").explode(ignore_index=True).value_counts().reset_index()"
      ],
      "metadata": {
        "id": "gJu0iWkS6UUY"
      },
      "execution_count": null,
      "outputs": []
    },
    {
      "cell_type": "code",
      "source": [
        "loan_types.rename({\"index\":\"Type of loan\",\"Type_of_Loan\":'Count'},axis=1,inplace=True)"
      ],
      "metadata": {
        "id": "-ZTHiClv-JeH"
      },
      "execution_count": null,
      "outputs": []
    },
    {
      "cell_type": "code",
      "source": [
        "loan_types"
      ],
      "metadata": {
        "colab": {
          "base_uri": "https://localhost:8080/"
        },
        "id": "CM-HIjUpGMKe",
        "outputId": "9bc0750f-f7cf-4949-953e-20d0c77c0f71"
      },
      "execution_count": null,
      "outputs": [
        {
          "output_type": "execute_result",
          "data": {
            "text/plain": [
              "              Type of loan  Count\n",
              "0            Not Specified  51024\n",
              "1              Payday Loan  40568\n",
              "2      Credit-Builder Loan  40440\n",
              "3         Home Equity Loan  39104\n",
              "4             Student Loan  38968\n",
              "5            Mortgage Loan  38936\n",
              "6            Personal Loan  38888\n",
              "7  Debt Consolidation Loan  38776\n",
              "8                Auto Loan  37992"
            ],
            "text/html": [
              "\n",
              "  <div id=\"df-fa4a0093-4681-4d98-b9a0-6f404795aa0e\" class=\"colab-df-container\">\n",
              "    <div>\n",
              "<style scoped>\n",
              "    .dataframe tbody tr th:only-of-type {\n",
              "        vertical-align: middle;\n",
              "    }\n",
              "\n",
              "    .dataframe tbody tr th {\n",
              "        vertical-align: top;\n",
              "    }\n",
              "\n",
              "    .dataframe thead th {\n",
              "        text-align: right;\n",
              "    }\n",
              "</style>\n",
              "<table border=\"1\" class=\"dataframe\">\n",
              "  <thead>\n",
              "    <tr style=\"text-align: right;\">\n",
              "      <th></th>\n",
              "      <th>Type of loan</th>\n",
              "      <th>Count</th>\n",
              "    </tr>\n",
              "  </thead>\n",
              "  <tbody>\n",
              "    <tr>\n",
              "      <th>0</th>\n",
              "      <td>Not Specified</td>\n",
              "      <td>51024</td>\n",
              "    </tr>\n",
              "    <tr>\n",
              "      <th>1</th>\n",
              "      <td>Payday Loan</td>\n",
              "      <td>40568</td>\n",
              "    </tr>\n",
              "    <tr>\n",
              "      <th>2</th>\n",
              "      <td>Credit-Builder Loan</td>\n",
              "      <td>40440</td>\n",
              "    </tr>\n",
              "    <tr>\n",
              "      <th>3</th>\n",
              "      <td>Home Equity Loan</td>\n",
              "      <td>39104</td>\n",
              "    </tr>\n",
              "    <tr>\n",
              "      <th>4</th>\n",
              "      <td>Student Loan</td>\n",
              "      <td>38968</td>\n",
              "    </tr>\n",
              "    <tr>\n",
              "      <th>5</th>\n",
              "      <td>Mortgage Loan</td>\n",
              "      <td>38936</td>\n",
              "    </tr>\n",
              "    <tr>\n",
              "      <th>6</th>\n",
              "      <td>Personal Loan</td>\n",
              "      <td>38888</td>\n",
              "    </tr>\n",
              "    <tr>\n",
              "      <th>7</th>\n",
              "      <td>Debt Consolidation Loan</td>\n",
              "      <td>38776</td>\n",
              "    </tr>\n",
              "    <tr>\n",
              "      <th>8</th>\n",
              "      <td>Auto Loan</td>\n",
              "      <td>37992</td>\n",
              "    </tr>\n",
              "  </tbody>\n",
              "</table>\n",
              "</div>\n",
              "    <div class=\"colab-df-buttons\">\n",
              "\n",
              "  <div class=\"colab-df-container\">\n",
              "    <button class=\"colab-df-convert\" onclick=\"convertToInteractive('df-fa4a0093-4681-4d98-b9a0-6f404795aa0e')\"\n",
              "            title=\"Convert this dataframe to an interactive table.\"\n",
              "            style=\"display:none;\">\n",
              "\n",
              "  <svg xmlns=\"http://www.w3.org/2000/svg\" height=\"24px\" viewBox=\"0 -960 960 960\">\n",
              "    <path d=\"M120-120v-720h720v720H120Zm60-500h600v-160H180v160Zm220 220h160v-160H400v160Zm0 220h160v-160H400v160ZM180-400h160v-160H180v160Zm440 0h160v-160H620v160ZM180-180h160v-160H180v160Zm440 0h160v-160H620v160Z\"/>\n",
              "  </svg>\n",
              "    </button>\n",
              "\n",
              "  <style>\n",
              "    .colab-df-container {\n",
              "      display:flex;\n",
              "      gap: 12px;\n",
              "    }\n",
              "\n",
              "    .colab-df-convert {\n",
              "      background-color: #E8F0FE;\n",
              "      border: none;\n",
              "      border-radius: 50%;\n",
              "      cursor: pointer;\n",
              "      display: none;\n",
              "      fill: #1967D2;\n",
              "      height: 32px;\n",
              "      padding: 0 0 0 0;\n",
              "      width: 32px;\n",
              "    }\n",
              "\n",
              "    .colab-df-convert:hover {\n",
              "      background-color: #E2EBFA;\n",
              "      box-shadow: 0px 1px 2px rgba(60, 64, 67, 0.3), 0px 1px 3px 1px rgba(60, 64, 67, 0.15);\n",
              "      fill: #174EA6;\n",
              "    }\n",
              "\n",
              "    .colab-df-buttons div {\n",
              "      margin-bottom: 4px;\n",
              "    }\n",
              "\n",
              "    [theme=dark] .colab-df-convert {\n",
              "      background-color: #3B4455;\n",
              "      fill: #D2E3FC;\n",
              "    }\n",
              "\n",
              "    [theme=dark] .colab-df-convert:hover {\n",
              "      background-color: #434B5C;\n",
              "      box-shadow: 0px 1px 3px 1px rgba(0, 0, 0, 0.15);\n",
              "      filter: drop-shadow(0px 1px 2px rgba(0, 0, 0, 0.3));\n",
              "      fill: #FFFFFF;\n",
              "    }\n",
              "  </style>\n",
              "\n",
              "    <script>\n",
              "      const buttonEl =\n",
              "        document.querySelector('#df-fa4a0093-4681-4d98-b9a0-6f404795aa0e button.colab-df-convert');\n",
              "      buttonEl.style.display =\n",
              "        google.colab.kernel.accessAllowed ? 'block' : 'none';\n",
              "\n",
              "      async function convertToInteractive(key) {\n",
              "        const element = document.querySelector('#df-fa4a0093-4681-4d98-b9a0-6f404795aa0e');\n",
              "        const dataTable =\n",
              "          await google.colab.kernel.invokeFunction('convertToInteractive',\n",
              "                                                    [key], {});\n",
              "        if (!dataTable) return;\n",
              "\n",
              "        const docLinkHtml = 'Like what you see? Visit the ' +\n",
              "          '<a target=\"_blank\" href=https://colab.research.google.com/notebooks/data_table.ipynb>data table notebook</a>'\n",
              "          + ' to learn more about interactive tables.';\n",
              "        element.innerHTML = '';\n",
              "        dataTable['output_type'] = 'display_data';\n",
              "        await google.colab.output.renderOutput(dataTable, element);\n",
              "        const docLink = document.createElement('div');\n",
              "        docLink.innerHTML = docLinkHtml;\n",
              "        element.appendChild(docLink);\n",
              "      }\n",
              "    </script>\n",
              "  </div>\n",
              "\n",
              "\n",
              "<div id=\"df-c4cb3ad9-06ed-4457-bb0f-b63c6e95f91c\">\n",
              "  <button class=\"colab-df-quickchart\" onclick=\"quickchart('df-c4cb3ad9-06ed-4457-bb0f-b63c6e95f91c')\"\n",
              "            title=\"Suggest charts\"\n",
              "            style=\"display:none;\">\n",
              "\n",
              "<svg xmlns=\"http://www.w3.org/2000/svg\" height=\"24px\"viewBox=\"0 0 24 24\"\n",
              "     width=\"24px\">\n",
              "    <g>\n",
              "        <path d=\"M19 3H5c-1.1 0-2 .9-2 2v14c0 1.1.9 2 2 2h14c1.1 0 2-.9 2-2V5c0-1.1-.9-2-2-2zM9 17H7v-7h2v7zm4 0h-2V7h2v10zm4 0h-2v-4h2v4z\"/>\n",
              "    </g>\n",
              "</svg>\n",
              "  </button>\n",
              "\n",
              "<style>\n",
              "  .colab-df-quickchart {\n",
              "      --bg-color: #E8F0FE;\n",
              "      --fill-color: #1967D2;\n",
              "      --hover-bg-color: #E2EBFA;\n",
              "      --hover-fill-color: #174EA6;\n",
              "      --disabled-fill-color: #AAA;\n",
              "      --disabled-bg-color: #DDD;\n",
              "  }\n",
              "\n",
              "  [theme=dark] .colab-df-quickchart {\n",
              "      --bg-color: #3B4455;\n",
              "      --fill-color: #D2E3FC;\n",
              "      --hover-bg-color: #434B5C;\n",
              "      --hover-fill-color: #FFFFFF;\n",
              "      --disabled-bg-color: #3B4455;\n",
              "      --disabled-fill-color: #666;\n",
              "  }\n",
              "\n",
              "  .colab-df-quickchart {\n",
              "    background-color: var(--bg-color);\n",
              "    border: none;\n",
              "    border-radius: 50%;\n",
              "    cursor: pointer;\n",
              "    display: none;\n",
              "    fill: var(--fill-color);\n",
              "    height: 32px;\n",
              "    padding: 0;\n",
              "    width: 32px;\n",
              "  }\n",
              "\n",
              "  .colab-df-quickchart:hover {\n",
              "    background-color: var(--hover-bg-color);\n",
              "    box-shadow: 0 1px 2px rgba(60, 64, 67, 0.3), 0 1px 3px 1px rgba(60, 64, 67, 0.15);\n",
              "    fill: var(--button-hover-fill-color);\n",
              "  }\n",
              "\n",
              "  .colab-df-quickchart-complete:disabled,\n",
              "  .colab-df-quickchart-complete:disabled:hover {\n",
              "    background-color: var(--disabled-bg-color);\n",
              "    fill: var(--disabled-fill-color);\n",
              "    box-shadow: none;\n",
              "  }\n",
              "\n",
              "  .colab-df-spinner {\n",
              "    border: 2px solid var(--fill-color);\n",
              "    border-color: transparent;\n",
              "    border-bottom-color: var(--fill-color);\n",
              "    animation:\n",
              "      spin 1s steps(1) infinite;\n",
              "  }\n",
              "\n",
              "  @keyframes spin {\n",
              "    0% {\n",
              "      border-color: transparent;\n",
              "      border-bottom-color: var(--fill-color);\n",
              "      border-left-color: var(--fill-color);\n",
              "    }\n",
              "    20% {\n",
              "      border-color: transparent;\n",
              "      border-left-color: var(--fill-color);\n",
              "      border-top-color: var(--fill-color);\n",
              "    }\n",
              "    30% {\n",
              "      border-color: transparent;\n",
              "      border-left-color: var(--fill-color);\n",
              "      border-top-color: var(--fill-color);\n",
              "      border-right-color: var(--fill-color);\n",
              "    }\n",
              "    40% {\n",
              "      border-color: transparent;\n",
              "      border-right-color: var(--fill-color);\n",
              "      border-top-color: var(--fill-color);\n",
              "    }\n",
              "    60% {\n",
              "      border-color: transparent;\n",
              "      border-right-color: var(--fill-color);\n",
              "    }\n",
              "    80% {\n",
              "      border-color: transparent;\n",
              "      border-right-color: var(--fill-color);\n",
              "      border-bottom-color: var(--fill-color);\n",
              "    }\n",
              "    90% {\n",
              "      border-color: transparent;\n",
              "      border-bottom-color: var(--fill-color);\n",
              "    }\n",
              "  }\n",
              "</style>\n",
              "\n",
              "  <script>\n",
              "    async function quickchart(key) {\n",
              "      const quickchartButtonEl =\n",
              "        document.querySelector('#' + key + ' button');\n",
              "      quickchartButtonEl.disabled = true;  // To prevent multiple clicks.\n",
              "      quickchartButtonEl.classList.add('colab-df-spinner');\n",
              "      try {\n",
              "        const charts = await google.colab.kernel.invokeFunction(\n",
              "            'suggestCharts', [key], {});\n",
              "      } catch (error) {\n",
              "        console.error('Error during call to suggestCharts:', error);\n",
              "      }\n",
              "      quickchartButtonEl.classList.remove('colab-df-spinner');\n",
              "      quickchartButtonEl.classList.add('colab-df-quickchart-complete');\n",
              "    }\n",
              "    (() => {\n",
              "      let quickchartButtonEl =\n",
              "        document.querySelector('#df-c4cb3ad9-06ed-4457-bb0f-b63c6e95f91c button');\n",
              "      quickchartButtonEl.style.display =\n",
              "        google.colab.kernel.accessAllowed ? 'block' : 'none';\n",
              "    })();\n",
              "  </script>\n",
              "</div>\n",
              "\n",
              "  <div id=\"id_28f89ff6-a5cc-496e-b3c4-1de690e01d85\">\n",
              "    <style>\n",
              "      .colab-df-generate {\n",
              "        background-color: #E8F0FE;\n",
              "        border: none;\n",
              "        border-radius: 50%;\n",
              "        cursor: pointer;\n",
              "        display: none;\n",
              "        fill: #1967D2;\n",
              "        height: 32px;\n",
              "        padding: 0 0 0 0;\n",
              "        width: 32px;\n",
              "      }\n",
              "\n",
              "      .colab-df-generate:hover {\n",
              "        background-color: #E2EBFA;\n",
              "        box-shadow: 0px 1px 2px rgba(60, 64, 67, 0.3), 0px 1px 3px 1px rgba(60, 64, 67, 0.15);\n",
              "        fill: #174EA6;\n",
              "      }\n",
              "\n",
              "      [theme=dark] .colab-df-generate {\n",
              "        background-color: #3B4455;\n",
              "        fill: #D2E3FC;\n",
              "      }\n",
              "\n",
              "      [theme=dark] .colab-df-generate:hover {\n",
              "        background-color: #434B5C;\n",
              "        box-shadow: 0px 1px 3px 1px rgba(0, 0, 0, 0.15);\n",
              "        filter: drop-shadow(0px 1px 2px rgba(0, 0, 0, 0.3));\n",
              "        fill: #FFFFFF;\n",
              "      }\n",
              "    </style>\n",
              "    <button class=\"colab-df-generate\" onclick=\"generateWithVariable('loan_types')\"\n",
              "            title=\"Generate code using this dataframe.\"\n",
              "            style=\"display:none;\">\n",
              "\n",
              "  <svg xmlns=\"http://www.w3.org/2000/svg\" height=\"24px\"viewBox=\"0 0 24 24\"\n",
              "       width=\"24px\">\n",
              "    <path d=\"M7,19H8.4L18.45,9,17,7.55,7,17.6ZM5,21V16.75L18.45,3.32a2,2,0,0,1,2.83,0l1.4,1.43a1.91,1.91,0,0,1,.58,1.4,1.91,1.91,0,0,1-.58,1.4L9.25,21ZM18.45,9,17,7.55Zm-12,3A5.31,5.31,0,0,0,4.9,8.1,5.31,5.31,0,0,0,1,6.5,5.31,5.31,0,0,0,4.9,4.9,5.31,5.31,0,0,0,6.5,1,5.31,5.31,0,0,0,8.1,4.9,5.31,5.31,0,0,0,12,6.5,5.46,5.46,0,0,0,6.5,12Z\"/>\n",
              "  </svg>\n",
              "    </button>\n",
              "    <script>\n",
              "      (() => {\n",
              "      const buttonEl =\n",
              "        document.querySelector('#id_28f89ff6-a5cc-496e-b3c4-1de690e01d85 button.colab-df-generate');\n",
              "      buttonEl.style.display =\n",
              "        google.colab.kernel.accessAllowed ? 'block' : 'none';\n",
              "\n",
              "      buttonEl.onclick = () => {\n",
              "        google.colab.notebook.generateWithVariable('loan_types');\n",
              "      }\n",
              "      })();\n",
              "    </script>\n",
              "  </div>\n",
              "\n",
              "    </div>\n",
              "  </div>\n"
            ]
          },
          "metadata": {},
          "execution_count": 679
        }
      ]
    },
    {
      "cell_type": "code",
      "source": [
        "plt.figure(figsize=(10,7))\n",
        "sns.barplot(data=loan_types,x=\"Type of loan\",y='Count')\n",
        "plt.xticks(size=10,rotation=90)\n",
        "plt.plot()"
      ],
      "metadata": {
        "colab": {
          "base_uri": "https://localhost:8080/"
        },
        "id": "tUsTeOFIEmhA",
        "outputId": "bcb64643-9c21-4ad3-c981-47ec34d6a16c"
      },
      "execution_count": null,
      "outputs": [
        {
          "output_type": "execute_result",
          "data": {
            "text/plain": [
              "[]"
            ]
          },
          "metadata": {},
          "execution_count": 680
        },
        {
          "output_type": "display_data",
          "data": {
            "text/plain": [
              "<Figure size 1000x700 with 1 Axes>"
            ],
            "image/png": "[encoded data removed]"
          },
          "metadata": {}
        }
      ]
    },
    {
      "cell_type": "markdown",
      "source": [
        "**Summary**\n",
        "\n",
        "There are 9 types of loan available: Auto Loan,Debt Consolidation Loan,Persoanl Loan,Mortage Loan,Student Loan,Home Equity Loan,Credit-Builder Loan,Payday Loan and Not Specified.\n",
        "\n",
        "Payday Loan and Not specified loans leads the chart."
      ],
      "metadata": {
        "id": "kTNH67kWpxW3"
      }
    },
    {
      "cell_type": "markdown",
      "source": [
        "## Payment of minimum amount"
      ],
      "metadata": {
        "id": "ZZaMvp2V8RHi"
      }
    },
    {
      "cell_type": "code",
      "source": [
        "df[\"Payment_of_Min_Amount\"].isnull().sum()"
      ],
      "metadata": {
        "colab": {
          "base_uri": "https://localhost:8080/"
        },
        "id": "vDAU9DYh8FkT",
        "outputId": "2646d9b8-32c5-490a-dd5c-67025331ff95"
      },
      "execution_count": null,
      "outputs": [
        {
          "output_type": "execute_result",
          "data": {
            "text/plain": [
              "0"
            ]
          },
          "metadata": {},
          "execution_count": 681
        }
      ]
    },
    {
      "cell_type": "code",
      "source": [
        "df[\"Payment_of_Min_Amount\"].value_counts()"
      ],
      "metadata": {
        "colab": {
          "base_uri": "https://localhost:8080/"
        },
        "id": "IBNIOJA69ITT",
        "outputId": "286dfc28-d385-4e0b-cc2b-8c65d538cfe4"
      },
      "execution_count": null,
      "outputs": [
        {
          "output_type": "execute_result",
          "data": {
            "text/plain": [
              "Yes    52326\n",
              "No     35667\n",
              "NM     12007\n",
              "Name: Payment_of_Min_Amount, dtype: int64"
            ]
          },
          "metadata": {},
          "execution_count": 682
        }
      ]
    },
    {
      "cell_type": "code",
      "source": [
        "df[\"Payment_of_Min_Amount\"]=df[\"Payment_of_Min_Amount\"].replace(\"NM\",np.nan)"
      ],
      "metadata": {
        "id": "wHVe89yC9t6V"
      },
      "execution_count": null,
      "outputs": []
    },
    {
      "cell_type": "code",
      "source": [
        "df[\"Payment_of_Min_Amount\"]=df[\"Payment_of_Min_Amount\"].fillna(df.groupby([\"Customer_ID\"])[\"Payment_of_Min_Amount\"].transform(lambda x: x.mode()[0]))"
      ],
      "metadata": {
        "id": "lojzhaSw98jU"
      },
      "execution_count": null,
      "outputs": []
    },
    {
      "cell_type": "code",
      "source": [
        "df[\"Payment_of_Min_Amount\"].value_counts()"
      ],
      "metadata": {
        "colab": {
          "base_uri": "https://localhost:8080/"
        },
        "id": "yolforrE-kL3",
        "outputId": "44c85c6f-5264-4f40-e759-a3148fe1f36a"
      },
      "execution_count": null,
      "outputs": [
        {
          "output_type": "execute_result",
          "data": {
            "text/plain": [
              "Yes    59432\n",
              "No     40568\n",
              "Name: Payment_of_Min_Amount, dtype: int64"
            ]
          },
          "metadata": {},
          "execution_count": 685
        }
      ]
    },
    {
      "cell_type": "markdown",
      "source": [
        "#Numerical Analysis"
      ],
      "metadata": {
        "id": "1C2Stllv5KNh"
      }
    },
    {
      "cell_type": "markdown",
      "source": [
        "##Age"
      ],
      "metadata": {
        "id": "ywuADIj7HsSt"
      }
    },
    {
      "cell_type": "code",
      "source": [
        "df['Age'].value_counts()"
      ],
      "metadata": {
        "id": "5xMvcdQ3IFgN",
        "colab": {
          "base_uri": "https://localhost:8080/"
        },
        "outputId": "16917877-0539-4a64-c11b-2a7dc74a6e29"
      },
      "execution_count": null,
      "outputs": [
        {
          "output_type": "execute_result",
          "data": {
            "text/plain": [
              "38      2833\n",
              "28      2829\n",
              "31      2806\n",
              "26      2792\n",
              "32      2749\n",
              "        ... \n",
              "471        1\n",
              "1520       1\n",
              "8663       1\n",
              "3363       1\n",
              "1342       1\n",
              "Name: Age, Length: 1788, dtype: int64"
            ]
          },
          "metadata": {},
          "execution_count": 686
        }
      ]
    },
    {
      "cell_type": "code",
      "source": [
        "df['Age']=df['Age'].str.strip(\"_\").astype(int)"
      ],
      "metadata": {
        "id": "JqFUXpQkMyLO"
      },
      "execution_count": null,
      "outputs": []
    },
    {
      "cell_type": "code",
      "source": [
        "df['Age']=df.groupby(['Customer_ID'])['Age'].transform(lambda x: x.mode()[0])"
      ],
      "metadata": {
        "id": "gBGRgDdzNL1V"
      },
      "execution_count": null,
      "outputs": []
    },
    {
      "cell_type": "code",
      "source": [
        "fig,axes=plt.subplots(nrows=1,ncols=2,figsize=(10,4))\n",
        "sns.histplot(data=df,x=\"Age\",bins=40,ax=axes[0],kde=True)\n",
        "sns.boxplot(data=df,x=\"Age\",ax=axes[1])\n",
        "plt.tight_layout()\n",
        "plt.plot()"
      ],
      "metadata": {
        "colab": {
          "base_uri": "https://localhost:8080/"
        },
        "id": "_U_1GK2fOQTM",
        "outputId": "9c7b51d5-1038-45fc-d404-145af5c1c8d7"
      },
      "execution_count": null,
      "outputs": [
        {
          "output_type": "execute_result",
          "data": {
            "text/plain": [
              "[]"
            ]
          },
          "metadata": {},
          "execution_count": 689
        },
        {
          "output_type": "display_data",
          "data": {
            "text/plain": [
              "<Figure size 1000x400 with 2 Axes>"
            ],
            "image/png": "[encoded data removed]"
          },
          "metadata": {}
        }
      ]
    },
    {
      "cell_type": "code",
      "source": [
        "df['Age'].max()"
      ],
      "metadata": {
        "colab": {
          "base_uri": "https://localhost:8080/"
        },
        "id": "DJ2bbHFvOzXO",
        "outputId": "98fee99a-4e14-4074-f3a1-8e9bb1538a90"
      },
      "execution_count": null,
      "outputs": [
        {
          "output_type": "execute_result",
          "data": {
            "text/plain": [
              "56"
            ]
          },
          "metadata": {},
          "execution_count": 690
        }
      ]
    },
    {
      "cell_type": "code",
      "source": [
        "df['Age'].min()"
      ],
      "metadata": {
        "colab": {
          "base_uri": "https://localhost:8080/"
        },
        "id": "Q-NWVS2lRLGd",
        "outputId": "d649d146-c833-4eee-f761-cb12ee2c06d5"
      },
      "execution_count": null,
      "outputs": [
        {
          "output_type": "execute_result",
          "data": {
            "text/plain": [
              "14"
            ]
          },
          "metadata": {},
          "execution_count": 691
        }
      ]
    },
    {
      "cell_type": "markdown",
      "source": [
        "**Summary**\n",
        "\n",
        "1)The age of customers ranges between 14-56.\n",
        "\n",
        "2)The median age lies between 30 to 40 years.\n"
      ],
      "metadata": {
        "id": "PitPcJ3CqitM"
      }
    },
    {
      "cell_type": "markdown",
      "source": [
        "##Annual Income"
      ],
      "metadata": {
        "id": "Z3Virtd2RQS4"
      }
    },
    {
      "cell_type": "code",
      "source": [
        "df['Annual_Income'].value_counts()"
      ],
      "metadata": {
        "colab": {
          "base_uri": "https://localhost:8080/"
        },
        "id": "oGxSe02rROks",
        "outputId": "0ddd36af-a677-42b6-c91a-60d53587d8fc"
      },
      "execution_count": null,
      "outputs": [
        {
          "output_type": "execute_result",
          "data": {
            "text/plain": [
              "36585.12     16\n",
              "20867.67     16\n",
              "17273.83     16\n",
              "9141.63      15\n",
              "33029.66     15\n",
              "             ..\n",
              "20269.93_     1\n",
              "15157.25_     1\n",
              "44955.64_     1\n",
              "76650.12_     1\n",
              "4262933       1\n",
              "Name: Annual_Income, Length: 18940, dtype: int64"
            ]
          },
          "metadata": {},
          "execution_count": 692
        }
      ]
    },
    {
      "cell_type": "code",
      "source": [
        "df['Annual_Income']=df['Annual_Income'].str.strip(\"_\").astype(float)"
      ],
      "metadata": {
        "id": "19kO1TraRiK0"
      },
      "execution_count": null,
      "outputs": []
    },
    {
      "cell_type": "code",
      "source": [
        "len(df.groupby(['Customer_ID'])['Annual_Income'].value_counts())\n",
        "# the length should be 12500, but it is showing 13625, some more cleaning works need to be done"
      ],
      "metadata": {
        "colab": {
          "base_uri": "https://localhost:8080/"
        },
        "id": "9pHUMd_1SEt8",
        "outputId": "77a4cc2f-ed7e-491d-dc11-df5bfc2520dc"
      },
      "execution_count": null,
      "outputs": [
        {
          "output_type": "execute_result",
          "data": {
            "text/plain": [
              "13625"
            ]
          },
          "metadata": {},
          "execution_count": 694
        }
      ]
    },
    {
      "cell_type": "code",
      "source": [
        "df['Annual_Income']=df.groupby('Customer_ID')['Annual_Income'].transform(lambda x: x.mode()[0])"
      ],
      "metadata": {
        "id": "-9VXjHMrTO5B"
      },
      "execution_count": null,
      "outputs": []
    },
    {
      "cell_type": "code",
      "source": [
        "len(df.groupby('Customer_ID')['Annual_Income'].value_counts())"
      ],
      "metadata": {
        "colab": {
          "base_uri": "https://localhost:8080/"
        },
        "id": "2-FzJs8kYCu5",
        "outputId": "4b618df3-4f9b-484b-d67c-e3b58696dfa7"
      },
      "execution_count": null,
      "outputs": [
        {
          "output_type": "execute_result",
          "data": {
            "text/plain": [
              "12500"
            ]
          },
          "metadata": {},
          "execution_count": 696
        }
      ]
    },
    {
      "cell_type": "code",
      "source": [
        "df['Annual_Income'].max()"
      ],
      "metadata": {
        "colab": {
          "base_uri": "https://localhost:8080/"
        },
        "id": "ABqFBxEqX3CT",
        "outputId": "8a756f9b-d366-4023-ce99-823a6c18eb77"
      },
      "execution_count": null,
      "outputs": [
        {
          "output_type": "execute_result",
          "data": {
            "text/plain": [
              "179987.28"
            ]
          },
          "metadata": {},
          "execution_count": 697
        }
      ]
    },
    {
      "cell_type": "code",
      "source": [
        "df['Annual_Income'].min()"
      ],
      "metadata": {
        "colab": {
          "base_uri": "https://localhost:8080/"
        },
        "id": "78WvINXdX5eX",
        "outputId": "c7b63eea-8097-4b80-d92f-a0effe380125"
      },
      "execution_count": null,
      "outputs": [
        {
          "output_type": "execute_result",
          "data": {
            "text/plain": [
              "7005.93"
            ]
          },
          "metadata": {},
          "execution_count": 698
        }
      ]
    },
    {
      "cell_type": "code",
      "source": [
        "plt.figure(figsize=(6,6))\n",
        "sns.histplot(data=df,x='Annual_Income',bins=40,kde=True)\n",
        "plt.plot()"
      ],
      "metadata": {
        "colab": {
          "base_uri": "https://localhost:8080/"
        },
        "id": "637tnA5xYTBS",
        "outputId": "8e78dba4-175a-47e6-b6be-d891568c2a80"
      },
      "execution_count": null,
      "outputs": [
        {
          "output_type": "execute_result",
          "data": {
            "text/plain": [
              "[]"
            ]
          },
          "metadata": {},
          "execution_count": 699
        },
        {
          "output_type": "display_data",
          "data": {
            "text/plain": [
              "<Figure size 600x600 with 1 Axes>"
            ],
            "image/png": "[encoded data removed]"
          },
          "metadata": {}
        }
      ]
    },
    {
      "cell_type": "markdown",
      "source": [
        "**Summary**\n",
        "\n",
        "1)Visual representation shows skewed graph for income, with minimum income 7005$ and maximum 179987."
      ],
      "metadata": {
        "id": "kdSRFO-ergzh"
      }
    },
    {
      "cell_type": "markdown",
      "source": [
        "##Monthly Salary"
      ],
      "metadata": {
        "id": "RlP4Ocr_aSwB"
      }
    },
    {
      "cell_type": "code",
      "source": [
        "df['Monthly_Inhand_Salary'].isna().sum()"
      ],
      "metadata": {
        "colab": {
          "base_uri": "https://localhost:8080/"
        },
        "id": "4KmzfuElZFYq",
        "outputId": "d7029dc1-b4ef-41b5-d4f5-50a211859c53"
      },
      "execution_count": null,
      "outputs": [
        {
          "output_type": "execute_result",
          "data": {
            "text/plain": [
              "15002"
            ]
          },
          "metadata": {},
          "execution_count": 700
        }
      ]
    },
    {
      "cell_type": "code",
      "source": [
        "df['Monthly_Inhand_Salary'].value_counts()"
      ],
      "metadata": {
        "colab": {
          "base_uri": "https://localhost:8080/"
        },
        "id": "ueQ6IqI1aMsO",
        "outputId": "9fe34816-3933-4f80-e113-e112a76adafd"
      },
      "execution_count": null,
      "outputs": [
        {
          "output_type": "execute_result",
          "data": {
            "text/plain": [
              "6769.130000    15\n",
              "6358.956667    15\n",
              "2295.058333    15\n",
              "6082.187500    15\n",
              "3080.555000    14\n",
              "               ..\n",
              "1087.546445     1\n",
              "3189.212103     1\n",
              "5640.117744     1\n",
              "7727.560450     1\n",
              "2443.654131     1\n",
              "Name: Monthly_Inhand_Salary, Length: 13235, dtype: int64"
            ]
          },
          "metadata": {},
          "execution_count": 701
        }
      ]
    },
    {
      "cell_type": "code",
      "source": [
        "df['Monthly_Inhand_Salary']=df.groupby(['Customer_ID'])['Monthly_Inhand_Salary'].transform(lambda x: x.mode()[0])\n"
      ],
      "metadata": {
        "id": "2brqs_e2aZpC"
      },
      "execution_count": null,
      "outputs": []
    },
    {
      "cell_type": "code",
      "source": [
        "len(df.groupby(['Customer_ID'])['Monthly_Inhand_Salary'])"
      ],
      "metadata": {
        "colab": {
          "base_uri": "https://localhost:8080/"
        },
        "id": "f0Hh0jMKbLpE",
        "outputId": "30d216a4-2897-424c-80db-e5c2d63dee4f"
      },
      "execution_count": null,
      "outputs": [
        {
          "output_type": "execute_result",
          "data": {
            "text/plain": [
              "12500"
            ]
          },
          "metadata": {},
          "execution_count": 703
        }
      ]
    },
    {
      "cell_type": "code",
      "source": [
        "df['Monthly_Inhand_Salary'].max()"
      ],
      "metadata": {
        "colab": {
          "base_uri": "https://localhost:8080/"
        },
        "id": "DWHKpP62bqnl",
        "outputId": "11230195-011b-4418-a57e-d397a65dfde6"
      },
      "execution_count": null,
      "outputs": [
        {
          "output_type": "execute_result",
          "data": {
            "text/plain": [
              "15204.63333"
            ]
          },
          "metadata": {},
          "execution_count": 704
        }
      ]
    },
    {
      "cell_type": "code",
      "source": [
        "df['Monthly_Inhand_Salary'].min()"
      ],
      "metadata": {
        "colab": {
          "base_uri": "https://localhost:8080/"
        },
        "id": "ba9Yb7n6buiB",
        "outputId": "feee22a1-1bff-4726-8011-17dc4d64fd99"
      },
      "execution_count": null,
      "outputs": [
        {
          "output_type": "execute_result",
          "data": {
            "text/plain": [
              "303.6454167"
            ]
          },
          "metadata": {},
          "execution_count": 705
        }
      ]
    },
    {
      "cell_type": "code",
      "source": [
        "sns.histplot(data=df,x='Monthly_Inhand_Salary',bins=40,kde=True)\n",
        "plt.plot()"
      ],
      "metadata": {
        "colab": {
          "base_uri": "https://localhost:8080/"
        },
        "id": "EoGpBeKJbUuV",
        "outputId": "95c7c88c-8be3-48dc-f84e-86cc191362be"
      },
      "execution_count": null,
      "outputs": [
        {
          "output_type": "execute_result",
          "data": {
            "text/plain": [
              "[]"
            ]
          },
          "metadata": {},
          "execution_count": 706
        },
        {
          "output_type": "display_data",
          "data": {
            "text/plain": [
              "<Figure size 640x480 with 1 Axes>"
            ],
            "image/png": "[encoded data removed]"
          },
          "metadata": {}
        }
      ]
    },
    {
      "cell_type": "markdown",
      "source": [
        "**Summary**\n",
        "\n",
        "1)As expected the monthly inhand salary is also skewed.\n",
        "\n",
        "2)Minimum is as low as $303 and maximum as $15204"
      ],
      "metadata": {
        "id": "Sd7dJvCer8UB"
      }
    },
    {
      "cell_type": "markdown",
      "source": [
        "##Number of Account"
      ],
      "metadata": {
        "id": "QLbBa0egcSAt"
      }
    },
    {
      "cell_type": "code",
      "source": [
        "df['Num_Bank_Accounts'].value_counts()"
      ],
      "metadata": {
        "colab": {
          "base_uri": "https://localhost:8080/"
        },
        "id": "xq_B9nFXcXoN",
        "outputId": "c2ccd296-c208-4acc-ea80-fcff17c11a55"
      },
      "execution_count": null,
      "outputs": [
        {
          "output_type": "execute_result",
          "data": {
            "text/plain": [
              "6       13001\n",
              "7       12823\n",
              "8       12765\n",
              "4       12186\n",
              "5       12118\n",
              "        ...  \n",
              "1626        1\n",
              "1470        1\n",
              "887         1\n",
              "211         1\n",
              "697         1\n",
              "Name: Num_Bank_Accounts, Length: 943, dtype: int64"
            ]
          },
          "metadata": {},
          "execution_count": 707
        }
      ]
    },
    {
      "cell_type": "code",
      "source": [
        "df['Num_Bank_Accounts']=df.groupby([\"Customer_ID\"])['Num_Bank_Accounts'].transform(lambda x: x.mode()[0])"
      ],
      "metadata": {
        "id": "VotxTsb_cnkz"
      },
      "execution_count": null,
      "outputs": []
    },
    {
      "cell_type": "code",
      "source": [
        "len(df.groupby([\"Customer_ID\"])['Num_Bank_Accounts'].value_counts())"
      ],
      "metadata": {
        "colab": {
          "base_uri": "https://localhost:8080/"
        },
        "id": "fE01D-Afcj9A",
        "outputId": "cabe6802-ecaf-4e27-8eed-0c19e77f55f4"
      },
      "execution_count": null,
      "outputs": [
        {
          "output_type": "execute_result",
          "data": {
            "text/plain": [
              "12500"
            ]
          },
          "metadata": {},
          "execution_count": 709
        }
      ]
    },
    {
      "cell_type": "code",
      "source": [
        "fig, axes = plt.subplots(nrows=1, ncols=2, figsize=(10, 5))\n",
        "sns.countplot(data=df,x='Num_Bank_Accounts',ax=axes[0])\n",
        "\n",
        "sns.boxplot(data=df,x='Num_Bank_Accounts',ax=axes[1])"
      ],
      "metadata": {
        "colab": {
          "base_uri": "https://localhost:8080/"
        },
        "id": "EEGCWn7mdgHy",
        "outputId": "e416092b-fa95-4069-e63c-c8653a00a20d"
      },
      "execution_count": null,
      "outputs": [
        {
          "output_type": "execute_result",
          "data": {
            "text/plain": [
              "<Axes: xlabel='Num_Bank_Accounts'>"
            ]
          },
          "metadata": {},
          "execution_count": 710
        },
        {
          "output_type": "display_data",
          "data": {
            "text/plain": [
              "<Figure size 1000x500 with 2 Axes>"
            ],
            "image/png": "[encoded data removed]"
          },
          "metadata": {}
        }
      ]
    },
    {
      "cell_type": "markdown",
      "source": [
        "**Summary**\n",
        "\n",
        "1)This shows some interesting data, the number of accounts owed by an individual is ranges as high as 10 and on an average the customers have 4 to accounts."
      ],
      "metadata": {
        "id": "Z25t601isPLF"
      }
    },
    {
      "cell_type": "markdown",
      "source": [
        "##Number of Credit Cards"
      ],
      "metadata": {
        "id": "AIYi1vcVeDQ4"
      }
    },
    {
      "cell_type": "code",
      "source": [
        "df['Num_Credit_Card'].value_counts()"
      ],
      "metadata": {
        "colab": {
          "base_uri": "https://localhost:8080/"
        },
        "id": "13WIUGPveG3C",
        "outputId": "431fa0a4-8f7a-4adc-8455-d165a84ed617"
      },
      "execution_count": null,
      "outputs": [
        {
          "output_type": "execute_result",
          "data": {
            "text/plain": [
              "5       18459\n",
              "7       16615\n",
              "6       16559\n",
              "4       14030\n",
              "3       13277\n",
              "        ...  \n",
              "791         1\n",
              "1118        1\n",
              "657         1\n",
              "640         1\n",
              "679         1\n",
              "Name: Num_Credit_Card, Length: 1179, dtype: int64"
            ]
          },
          "metadata": {},
          "execution_count": 711
        }
      ]
    },
    {
      "cell_type": "code",
      "source": [
        "# df[['Customer_ID','Num_Credit_Card']][1000:1030] # To understand how data varies in the graph, multiple iterations gives a clear picture of possible imputation"
      ],
      "metadata": {
        "id": "j6roGGnSeXVx"
      },
      "execution_count": null,
      "outputs": []
    },
    {
      "cell_type": "code",
      "source": [
        "df['Num_Credit_Card']=df.groupby(['Customer_ID'])['Num_Credit_Card'].transform(lambda x: x.mode()[0])"
      ],
      "metadata": {
        "id": "BXthDqlEeryB"
      },
      "execution_count": null,
      "outputs": []
    },
    {
      "cell_type": "code",
      "source": [
        "len(df.groupby(['Customer_ID'])['Num_Credit_Card'])"
      ],
      "metadata": {
        "colab": {
          "base_uri": "https://localhost:8080/"
        },
        "id": "r0bVU7LrfEsY",
        "outputId": "840e05ad-001c-4a38-cb2e-1b4627ba11b3"
      },
      "execution_count": null,
      "outputs": [
        {
          "output_type": "execute_result",
          "data": {
            "text/plain": [
              "12500"
            ]
          },
          "metadata": {},
          "execution_count": 714
        }
      ]
    },
    {
      "cell_type": "code",
      "source": [
        "df['Num_Credit_Card'].max()\n"
      ],
      "metadata": {
        "colab": {
          "base_uri": "https://localhost:8080/"
        },
        "id": "iPKh2XBgiPB4",
        "outputId": "92eadf35-f17a-4774-93f8-7764a24debac"
      },
      "execution_count": null,
      "outputs": [
        {
          "output_type": "execute_result",
          "data": {
            "text/plain": [
              "11"
            ]
          },
          "metadata": {},
          "execution_count": 715
        }
      ]
    },
    {
      "cell_type": "code",
      "source": [
        "df['Num_Credit_Card'].min()"
      ],
      "metadata": {
        "colab": {
          "base_uri": "https://localhost:8080/"
        },
        "id": "4lYeJBgqieBp",
        "outputId": "2e66c4ca-1f0e-4dd8-f5ea-14a7e1e69265"
      },
      "execution_count": null,
      "outputs": [
        {
          "output_type": "execute_result",
          "data": {
            "text/plain": [
              "0"
            ]
          },
          "metadata": {},
          "execution_count": 716
        }
      ]
    },
    {
      "cell_type": "code",
      "source": [
        "df['Num_Credit_Card'].mean()"
      ],
      "metadata": {
        "colab": {
          "base_uri": "https://localhost:8080/"
        },
        "id": "xZo6QJ0cihWj",
        "outputId": "e3669d64-4ac1-47c0-e358-f7ce3379aad8"
      },
      "execution_count": null,
      "outputs": [
        {
          "output_type": "execute_result",
          "data": {
            "text/plain": [
              "5.53272"
            ]
          },
          "metadata": {},
          "execution_count": 717
        }
      ]
    },
    {
      "cell_type": "code",
      "source": [
        "fig, axes = plt.subplots(nrows=1, ncols=2, figsize=(10, 5))\n",
        "sns.countplot(data=df,x='Num_Credit_Card',ax=axes[0])\n",
        "\n",
        "sns.boxplot(data=df,x='Num_Credit_Card',ax=axes[1])"
      ],
      "metadata": {
        "colab": {
          "base_uri": "https://localhost:8080/"
        },
        "id": "gYL7d_sTfMcP",
        "outputId": "552ce47d-eac5-407a-f11c-4d8858702681"
      },
      "execution_count": null,
      "outputs": [
        {
          "output_type": "execute_result",
          "data": {
            "text/plain": [
              "<Axes: xlabel='Num_Credit_Card'>"
            ]
          },
          "metadata": {},
          "execution_count": 718
        },
        {
          "output_type": "display_data",
          "data": {
            "text/plain": [
              "<Figure size 1000x500 with 2 Axes>"
            ],
            "image/png": "[encoded data removed]"
          },
          "metadata": {}
        }
      ]
    },
    {
      "cell_type": "markdown",
      "source": [
        "**Summary**\n",
        "\n",
        "The number of credit cards owned is as high as 11. The range varies between 1 to 11 and on an average 4 to 6 cards are owned."
      ],
      "metadata": {
        "id": "Tu7Q66YZspst"
      }
    },
    {
      "cell_type": "markdown",
      "source": [
        "##Interest rates"
      ],
      "metadata": {
        "id": "yNXkTrT5iuvh"
      }
    },
    {
      "cell_type": "code",
      "source": [
        "df['Interest_Rate'].value_counts()"
      ],
      "metadata": {
        "colab": {
          "base_uri": "https://localhost:8080/"
        },
        "id": "cSoqBWUxitpJ",
        "outputId": "4986eb49-2831-4958-a233-92996ee95ffd"
      },
      "execution_count": null,
      "outputs": [
        {
          "output_type": "execute_result",
          "data": {
            "text/plain": [
              "8       5012\n",
              "5       4979\n",
              "6       4721\n",
              "12      4540\n",
              "10      4540\n",
              "        ... \n",
              "4995       1\n",
              "1899       1\n",
              "2120       1\n",
              "5762       1\n",
              "5729       1\n",
              "Name: Interest_Rate, Length: 1750, dtype: int64"
            ]
          },
          "metadata": {},
          "execution_count": 719
        }
      ]
    },
    {
      "cell_type": "code",
      "source": [
        "# df[['Customer_ID','Interest_Rate']][20:40]"
      ],
      "metadata": {
        "id": "TIjAuBDwi5S3"
      },
      "execution_count": null,
      "outputs": []
    },
    {
      "cell_type": "code",
      "source": [
        "len(df.groupby(['Customer_ID'])[\"Interest_Rate\"].value_counts())"
      ],
      "metadata": {
        "colab": {
          "base_uri": "https://localhost:8080/"
        },
        "id": "6XTeUszzj3LH",
        "outputId": "dfe3c24b-3739-4c9b-cbd6-98734cb8f892"
      },
      "execution_count": null,
      "outputs": [
        {
          "output_type": "execute_result",
          "data": {
            "text/plain": [
              "14534"
            ]
          },
          "metadata": {},
          "execution_count": 721
        }
      ]
    },
    {
      "cell_type": "code",
      "source": [
        "df['Interest_Rate']=df.groupby(['Customer_ID'])[\"Interest_Rate\"].transform(lambda x: x.mode()[0])"
      ],
      "metadata": {
        "id": "ueXpGbjMje-L"
      },
      "execution_count": null,
      "outputs": []
    },
    {
      "cell_type": "code",
      "source": [
        "len(df.groupby(['Customer_ID'])[\"Interest_Rate\"].value_counts())"
      ],
      "metadata": {
        "colab": {
          "base_uri": "https://localhost:8080/"
        },
        "id": "WeKj34IIkZV3",
        "outputId": "4d2abc53-7fb0-496e-bc35-32f240602456"
      },
      "execution_count": null,
      "outputs": [
        {
          "output_type": "execute_result",
          "data": {
            "text/plain": [
              "12500"
            ]
          },
          "metadata": {},
          "execution_count": 723
        }
      ]
    },
    {
      "cell_type": "code",
      "source": [
        "fig,axes=plt.subplots(nrows=1,ncols=2,figsize=(15,5))\n",
        "sns.boxplot(data=df,x=\"Interest_Rate\",ax=axes[1])\n",
        "sns.countplot(data=df,x=\"Interest_Rate\",ax=axes[0])\n",
        "plt.tight_layout()\n",
        "plt.plot()"
      ],
      "metadata": {
        "colab": {
          "base_uri": "https://localhost:8080/"
        },
        "id": "jOVZ_wfxkF86",
        "outputId": "f0780dd4-57d2-4b02-9c9e-cfb69277f981"
      },
      "execution_count": null,
      "outputs": [
        {
          "output_type": "execute_result",
          "data": {
            "text/plain": [
              "[]"
            ]
          },
          "metadata": {},
          "execution_count": 724
        },
        {
          "output_type": "display_data",
          "data": {
            "text/plain": [
              "<Figure size 1500x500 with 2 Axes>"
            ],
            "image/png": "[encoded data removed]"
          },
          "metadata": {}
        }
      ]
    },
    {
      "cell_type": "markdown",
      "source": [
        "**Summary**\n",
        "\n",
        "1)range varies between 1 to 34%.\n",
        "\n",
        "2)the most popular lies between 10 to 15 percent."
      ],
      "metadata": {
        "id": "YNcRhD7KtG3l"
      }
    },
    {
      "cell_type": "markdown",
      "source": [
        "##Number of Loans"
      ],
      "metadata": {
        "id": "rta79lYVmliC"
      }
    },
    {
      "cell_type": "code",
      "source": [
        "df['Num_of_Loan'].value_counts()"
      ],
      "metadata": {
        "colab": {
          "base_uri": "https://localhost:8080/"
        },
        "id": "Wc9NQQJXmnhP",
        "outputId": "7d759387-6af1-420a-b2e0-76f3fd854d05"
      },
      "execution_count": null,
      "outputs": [
        {
          "output_type": "execute_result",
          "data": {
            "text/plain": [
              "3        14386\n",
              "2        14250\n",
              "4        14016\n",
              "0        10380\n",
              "1        10083\n",
              "         ...  \n",
              "1320_        1\n",
              "103          1\n",
              "1444         1\n",
              "392          1\n",
              "966          1\n",
              "Name: Num_of_Loan, Length: 434, dtype: int64"
            ]
          },
          "metadata": {},
          "execution_count": 725
        }
      ]
    },
    {
      "cell_type": "code",
      "source": [
        "df['Num_of_Loan']=df['Num_of_Loan'].str.strip(\"_\").astype(\"int\")"
      ],
      "metadata": {
        "id": "5Xjg0F0WmvKw"
      },
      "execution_count": null,
      "outputs": []
    },
    {
      "cell_type": "code",
      "source": [
        "df['Num_of_Loan']=df.groupby(['Customer_ID'])['Num_of_Loan'].transform(lambda x: x.mode()[0])"
      ],
      "metadata": {
        "id": "iqhtflyam-Vo"
      },
      "execution_count": null,
      "outputs": []
    },
    {
      "cell_type": "code",
      "source": [
        "len(df.groupby(['Customer_ID'])['Num_of_Loan'].value_counts())"
      ],
      "metadata": {
        "colab": {
          "base_uri": "https://localhost:8080/"
        },
        "id": "0y_jLfcQnQcU",
        "outputId": "4d6a5a1a-4d52-4d36-f1c0-7b897351c694"
      },
      "execution_count": null,
      "outputs": [
        {
          "output_type": "execute_result",
          "data": {
            "text/plain": [
              "12500"
            ]
          },
          "metadata": {},
          "execution_count": 728
        }
      ]
    },
    {
      "cell_type": "code",
      "source": [
        "fig,axes=plt.subplots(nrows=1,ncols=2,figsize=(10,4))\n",
        "sns.countplot(data=df,x='Num_of_Loan',ax=axes[0])\n",
        "sns.boxplot(data=df,x='Num_of_Loan',ax=axes[1])\n",
        "plt.tight_layout()\n",
        "plt.plot()"
      ],
      "metadata": {
        "colab": {
          "base_uri": "https://localhost:8080/"
        },
        "id": "Pp-r0wYEnd0W",
        "outputId": "56e9d5df-ef38-4b1e-91ef-8f0684bed19d"
      },
      "execution_count": null,
      "outputs": [
        {
          "output_type": "execute_result",
          "data": {
            "text/plain": [
              "[]"
            ]
          },
          "metadata": {},
          "execution_count": 729
        },
        {
          "output_type": "display_data",
          "data": {
            "text/plain": [
              "<Figure size 1000x400 with 2 Axes>"
            ],
            "image/png": "[encoded data removed]"
          },
          "metadata": {}
        }
      ]
    },
    {
      "cell_type": "markdown",
      "source": [
        "**Summary**\n",
        "\n",
        "1)Loans taken by Individuals lies as low as 0 and as high as 9.\n",
        "\n",
        "2)On an average 2 to 4 loans are taken."
      ],
      "metadata": {
        "id": "wRMxQcMetbhs"
      }
    },
    {
      "cell_type": "markdown",
      "source": [
        "##Delay from Due Date"
      ],
      "metadata": {
        "id": "xB9zjH5woTEi"
      }
    },
    {
      "cell_type": "code",
      "source": [
        "df['Delay_from_due_date'].value_counts().tail(10)"
      ],
      "metadata": {
        "colab": {
          "base_uri": "https://localhost:8080/"
        },
        "id": "dLKO_ycnoSDy",
        "outputId": "52779891-bf92-4c8e-aa3b-1c54aea3782a"
      },
      "execution_count": null,
      "outputs": [
        {
          "output_type": "execute_result",
          "data": {
            "text/plain": [
              "-1     210\n",
              "-2     168\n",
              "-3     118\n",
              " 63     69\n",
              " 64     64\n",
              "-4      62\n",
              " 65     56\n",
              "-5      33\n",
              " 66     32\n",
              " 67     22\n",
              "Name: Delay_from_due_date, dtype: int64"
            ]
          },
          "metadata": {},
          "execution_count": 730
        }
      ]
    },
    {
      "cell_type": "code",
      "source": [
        "df[['Customer_ID','Delay_from_due_date']][0:9]"
      ],
      "metadata": {
        "colab": {
          "base_uri": "https://localhost:8080/"
        },
        "id": "ce-xBnHyomyD",
        "outputId": "5ff1b665-44dc-4e3b-b13e-5af6d62c9ebf"
      },
      "execution_count": null,
      "outputs": [
        {
          "output_type": "execute_result",
          "data": {
            "text/plain": [
              "  Customer_ID  Delay_from_due_date\n",
              "0   CUS_0xd40                    3\n",
              "1   CUS_0xd40                   -1\n",
              "2   CUS_0xd40                    3\n",
              "3   CUS_0xd40                    5\n",
              "4   CUS_0xd40                    6\n",
              "5   CUS_0xd40                    8\n",
              "6   CUS_0xd40                    3\n",
              "7   CUS_0xd40                    3\n",
              "8  CUS_0x21b1                    3"
            ],
            "text/html": [
              "\n",
              "  <div id=\"df-b3ada992-bd39-433a-a211-004a9cdf5dcc\" class=\"colab-df-container\">\n",
              "    <div>\n",
              "<style scoped>\n",
              "    .dataframe tbody tr th:only-of-type {\n",
              "        vertical-align: middle;\n",
              "    }\n",
              "\n",
              "    .dataframe tbody tr th {\n",
              "        vertical-align: top;\n",
              "    }\n",
              "\n",
              "    .dataframe thead th {\n",
              "        text-align: right;\n",
              "    }\n",
              "</style>\n",
              "<table border=\"1\" class=\"dataframe\">\n",
              "  <thead>\n",
              "    <tr style=\"text-align: right;\">\n",
              "      <th></th>\n",
              "      <th>Customer_ID</th>\n",
              "      <th>Delay_from_due_date</th>\n",
              "    </tr>\n",
              "  </thead>\n",
              "  <tbody>\n",
              "    <tr>\n",
              "      <th>0</th>\n",
              "      <td>CUS_0xd40</td>\n",
              "      <td>3</td>\n",
              "    </tr>\n",
              "    <tr>\n",
              "      <th>1</th>\n",
              "      <td>CUS_0xd40</td>\n",
              "      <td>-1</td>\n",
              "    </tr>\n",
              "    <tr>\n",
              "      <th>2</th>\n",
              "      <td>CUS_0xd40</td>\n",
              "      <td>3</td>\n",
              "    </tr>\n",
              "    <tr>\n",
              "      <th>3</th>\n",
              "      <td>CUS_0xd40</td>\n",
              "      <td>5</td>\n",
              "    </tr>\n",
              "    <tr>\n",
              "      <th>4</th>\n",
              "      <td>CUS_0xd40</td>\n",
              "      <td>6</td>\n",
              "    </tr>\n",
              "    <tr>\n",
              "      <th>5</th>\n",
              "      <td>CUS_0xd40</td>\n",
              "      <td>8</td>\n",
              "    </tr>\n",
              "    <tr>\n",
              "      <th>6</th>\n",
              "      <td>CUS_0xd40</td>\n",
              "      <td>3</td>\n",
              "    </tr>\n",
              "    <tr>\n",
              "      <th>7</th>\n",
              "      <td>CUS_0xd40</td>\n",
              "      <td>3</td>\n",
              "    </tr>\n",
              "    <tr>\n",
              "      <th>8</th>\n",
              "      <td>CUS_0x21b1</td>\n",
              "      <td>3</td>\n",
              "    </tr>\n",
              "  </tbody>\n",
              "</table>\n",
              "</div>\n",
              "    <div class=\"colab-df-buttons\">\n",
              "\n",
              "  <div class=\"colab-df-container\">\n",
              "    <button class=\"colab-df-convert\" onclick=\"convertToInteractive('df-b3ada992-bd39-433a-a211-004a9cdf5dcc')\"\n",
              "            title=\"Convert this dataframe to an interactive table.\"\n",
              "            style=\"display:none;\">\n",
              "\n",
              "  <svg xmlns=\"http://www.w3.org/2000/svg\" height=\"24px\" viewBox=\"0 -960 960 960\">\n",
              "    <path d=\"M120-120v-720h720v720H120Zm60-500h600v-160H180v160Zm220 220h160v-160H400v160Zm0 220h160v-160H400v160ZM180-400h160v-160H180v160Zm440 0h160v-160H620v160ZM180-180h160v-160H180v160Zm440 0h160v-160H620v160Z\"/>\n",
              "  </svg>\n",
              "    </button>\n",
              "\n",
              "  <style>\n",
              "    .colab-df-container {\n",
              "      display:flex;\n",
              "      gap: 12px;\n",
              "    }\n",
              "\n",
              "    .colab-df-convert {\n",
              "      background-color: #E8F0FE;\n",
              "      border: none;\n",
              "      border-radius: 50%;\n",
              "      cursor: pointer;\n",
              "      display: none;\n",
              "      fill: #1967D2;\n",
              "      height: 32px;\n",
              "      padding: 0 0 0 0;\n",
              "      width: 32px;\n",
              "    }\n",
              "\n",
              "    .colab-df-convert:hover {\n",
              "      background-color: #E2EBFA;\n",
              "      box-shadow: 0px 1px 2px rgba(60, 64, 67, 0.3), 0px 1px 3px 1px rgba(60, 64, 67, 0.15);\n",
              "      fill: #174EA6;\n",
              "    }\n",
              "\n",
              "    .colab-df-buttons div {\n",
              "      margin-bottom: 4px;\n",
              "    }\n",
              "\n",
              "    [theme=dark] .colab-df-convert {\n",
              "      background-color: #3B4455;\n",
              "      fill: #D2E3FC;\n",
              "    }\n",
              "\n",
              "    [theme=dark] .colab-df-convert:hover {\n",
              "      background-color: #434B5C;\n",
              "      box-shadow: 0px 1px 3px 1px rgba(0, 0, 0, 0.15);\n",
              "      filter: drop-shadow(0px 1px 2px rgba(0, 0, 0, 0.3));\n",
              "      fill: #FFFFFF;\n",
              "    }\n",
              "  </style>\n",
              "\n",
              "    <script>\n",
              "      const buttonEl =\n",
              "        document.querySelector('#df-b3ada992-bd39-433a-a211-004a9cdf5dcc button.colab-df-convert');\n",
              "      buttonEl.style.display =\n",
              "        google.colab.kernel.accessAllowed ? 'block' : 'none';\n",
              "\n",
              "      async function convertToInteractive(key) {\n",
              "        const element = document.querySelector('#df-b3ada992-bd39-433a-a211-004a9cdf5dcc');\n",
              "        const dataTable =\n",
              "          await google.colab.kernel.invokeFunction('convertToInteractive',\n",
              "                                                    [key], {});\n",
              "        if (!dataTable) return;\n",
              "\n",
              "        const docLinkHtml = 'Like what you see? Visit the ' +\n",
              "          '<a target=\"_blank\" href=https://colab.research.google.com/notebooks/data_table.ipynb>data table notebook</a>'\n",
              "          + ' to learn more about interactive tables.';\n",
              "        element.innerHTML = '';\n",
              "        dataTable['output_type'] = 'display_data';\n",
              "        await google.colab.output.renderOutput(dataTable, element);\n",
              "        const docLink = document.createElement('div');\n",
              "        docLink.innerHTML = docLinkHtml;\n",
              "        element.appendChild(docLink);\n",
              "      }\n",
              "    </script>\n",
              "  </div>\n",
              "\n",
              "\n",
              "<div id=\"df-63b840ec-f85c-45ab-8b38-7af09e228020\">\n",
              "  <button class=\"colab-df-quickchart\" onclick=\"quickchart('df-63b840ec-f85c-45ab-8b38-7af09e228020')\"\n",
              "            title=\"Suggest charts\"\n",
              "            style=\"display:none;\">\n",
              "\n",
              "<svg xmlns=\"http://www.w3.org/2000/svg\" height=\"24px\"viewBox=\"0 0 24 24\"\n",
              "     width=\"24px\">\n",
              "    <g>\n",
              "        <path d=\"M19 3H5c-1.1 0-2 .9-2 2v14c0 1.1.9 2 2 2h14c1.1 0 2-.9 2-2V5c0-1.1-.9-2-2-2zM9 17H7v-7h2v7zm4 0h-2V7h2v10zm4 0h-2v-4h2v4z\"/>\n",
              "    </g>\n",
              "</svg>\n",
              "  </button>\n",
              "\n",
              "<style>\n",
              "  .colab-df-quickchart {\n",
              "      --bg-color: #E8F0FE;\n",
              "      --fill-color: #1967D2;\n",
              "      --hover-bg-color: #E2EBFA;\n",
              "      --hover-fill-color: #174EA6;\n",
              "      --disabled-fill-color: #AAA;\n",
              "      --disabled-bg-color: #DDD;\n",
              "  }\n",
              "\n",
              "  [theme=dark] .colab-df-quickchart {\n",
              "      --bg-color: #3B4455;\n",
              "      --fill-color: #D2E3FC;\n",
              "      --hover-bg-color: #434B5C;\n",
              "      --hover-fill-color: #FFFFFF;\n",
              "      --disabled-bg-color: #3B4455;\n",
              "      --disabled-fill-color: #666;\n",
              "  }\n",
              "\n",
              "  .colab-df-quickchart {\n",
              "    background-color: var(--bg-color);\n",
              "    border: none;\n",
              "    border-radius: 50%;\n",
              "    cursor: pointer;\n",
              "    display: none;\n",
              "    fill: var(--fill-color);\n",
              "    height: 32px;\n",
              "    padding: 0;\n",
              "    width: 32px;\n",
              "  }\n",
              "\n",
              "  .colab-df-quickchart:hover {\n",
              "    background-color: var(--hover-bg-color);\n",
              "    box-shadow: 0 1px 2px rgba(60, 64, 67, 0.3), 0 1px 3px 1px rgba(60, 64, 67, 0.15);\n",
              "    fill: var(--button-hover-fill-color);\n",
              "  }\n",
              "\n",
              "  .colab-df-quickchart-complete:disabled,\n",
              "  .colab-df-quickchart-complete:disabled:hover {\n",
              "    background-color: var(--disabled-bg-color);\n",
              "    fill: var(--disabled-fill-color);\n",
              "    box-shadow: none;\n",
              "  }\n",
              "\n",
              "  .colab-df-spinner {\n",
              "    border: 2px solid var(--fill-color);\n",
              "    border-color: transparent;\n",
              "    border-bottom-color: var(--fill-color);\n",
              "    animation:\n",
              "      spin 1s steps(1) infinite;\n",
              "  }\n",
              "\n",
              "  @keyframes spin {\n",
              "    0% {\n",
              "      border-color: transparent;\n",
              "      border-bottom-color: var(--fill-color);\n",
              "      border-left-color: var(--fill-color);\n",
              "    }\n",
              "    20% {\n",
              "      border-color: transparent;\n",
              "      border-left-color: var(--fill-color);\n",
              "      border-top-color: var(--fill-color);\n",
              "    }\n",
              "    30% {\n",
              "      border-color: transparent;\n",
              "      border-left-color: var(--fill-color);\n",
              "      border-top-color: var(--fill-color);\n",
              "      border-right-color: var(--fill-color);\n",
              "    }\n",
              "    40% {\n",
              "      border-color: transparent;\n",
              "      border-right-color: var(--fill-color);\n",
              "      border-top-color: var(--fill-color);\n",
              "    }\n",
              "    60% {\n",
              "      border-color: transparent;\n",
              "      border-right-color: var(--fill-color);\n",
              "    }\n",
              "    80% {\n",
              "      border-color: transparent;\n",
              "      border-right-color: var(--fill-color);\n",
              "      border-bottom-color: var(--fill-color);\n",
              "    }\n",
              "    90% {\n",
              "      border-color: transparent;\n",
              "      border-bottom-color: var(--fill-color);\n",
              "    }\n",
              "  }\n",
              "</style>\n",
              "\n",
              "  <script>\n",
              "    async function quickchart(key) {\n",
              "      const quickchartButtonEl =\n",
              "        document.querySelector('#' + key + ' button');\n",
              "      quickchartButtonEl.disabled = true;  // To prevent multiple clicks.\n",
              "      quickchartButtonEl.classList.add('colab-df-spinner');\n",
              "      try {\n",
              "        const charts = await google.colab.kernel.invokeFunction(\n",
              "            'suggestCharts', [key], {});\n",
              "      } catch (error) {\n",
              "        console.error('Error during call to suggestCharts:', error);\n",
              "      }\n",
              "      quickchartButtonEl.classList.remove('colab-df-spinner');\n",
              "      quickchartButtonEl.classList.add('colab-df-quickchart-complete');\n",
              "    }\n",
              "    (() => {\n",
              "      let quickchartButtonEl =\n",
              "        document.querySelector('#df-63b840ec-f85c-45ab-8b38-7af09e228020 button');\n",
              "      quickchartButtonEl.style.display =\n",
              "        google.colab.kernel.accessAllowed ? 'block' : 'none';\n",
              "    })();\n",
              "  </script>\n",
              "</div>\n",
              "\n",
              "    </div>\n",
              "  </div>\n"
            ]
          },
          "metadata": {},
          "execution_count": 731
        }
      ]
    },
    {
      "cell_type": "code",
      "source": [
        "df['Delay_from_due_date']=df['Delay_from_due_date'].transform(lambda x: np.nan if x<0 else x)"
      ],
      "metadata": {
        "id": "ooaqgxJqsIjz"
      },
      "execution_count": null,
      "outputs": []
    },
    {
      "cell_type": "code",
      "source": [
        "df['Delay_from_due_date']=df.groupby(['Customer_ID'])['Delay_from_due_date'].transform(lambda x: x.mode()[0])"
      ],
      "metadata": {
        "id": "lGeNQBKwsNHx"
      },
      "execution_count": null,
      "outputs": []
    },
    {
      "cell_type": "code",
      "source": [
        "len(df.groupby(['Customer_ID'])['Delay_from_due_date'].value_counts())"
      ],
      "metadata": {
        "colab": {
          "base_uri": "https://localhost:8080/"
        },
        "id": "P9fO2_PAsw6P",
        "outputId": "995e44ae-2dad-4206-816d-7c80c8965fce"
      },
      "execution_count": null,
      "outputs": [
        {
          "output_type": "execute_result",
          "data": {
            "text/plain": [
              "12500"
            ]
          },
          "metadata": {},
          "execution_count": 734
        }
      ]
    },
    {
      "cell_type": "code",
      "source": [
        "fig,axes=plt.subplots(nrows=1,ncols=2,figsize=(10,6))\n",
        "sns.histplot(data=df,x='Delay_from_due_date',ax=axes[0],bins=20,kde=True)\n",
        "sns.boxplot(data=df,x='Delay_from_due_date',ax=axes[1])\n",
        "plt.tight_layout()\n",
        "plt.plot()"
      ],
      "metadata": {
        "colab": {
          "base_uri": "https://localhost:8080/"
        },
        "id": "XJc16re9s4fA",
        "outputId": "e347eaef-f0bc-47bc-dbf3-73d522de36e1"
      },
      "execution_count": null,
      "outputs": [
        {
          "output_type": "execute_result",
          "data": {
            "text/plain": [
              "[]"
            ]
          },
          "metadata": {},
          "execution_count": 735
        },
        {
          "output_type": "display_data",
          "data": {
            "text/plain": [
              "<Figure size 1000x600 with 2 Axes>"
            ],
            "image/png": "[encoded data removed]"
          },
          "metadata": {}
        }
      ]
    },
    {
      "cell_type": "markdown",
      "source": [
        "**Summary**\n",
        "\n",
        "1)Deliquency varies between 0 to 60+ days.\n",
        "\n",
        "2)On an average consumers are 20 days late."
      ],
      "metadata": {
        "id": "4RDxwwWptwzA"
      }
    },
    {
      "cell_type": "markdown",
      "source": [
        "##Number of Delayed Payments"
      ],
      "metadata": {
        "id": "CcmrVGEGt1KA"
      }
    },
    {
      "cell_type": "code",
      "source": [
        "df[\"Num_of_Delayed_Payment\"].value_counts()"
      ],
      "metadata": {
        "colab": {
          "base_uri": "https://localhost:8080/"
        },
        "id": "ohQIVLsxt7fn",
        "outputId": "7ebb2301-3a0e-4fff-d23d-ef5df65f532a"
      },
      "execution_count": null,
      "outputs": [
        {
          "output_type": "execute_result",
          "data": {
            "text/plain": [
              "19      5327\n",
              "17      5261\n",
              "16      5173\n",
              "10      5153\n",
              "18      5083\n",
              "        ... \n",
              "848_       1\n",
              "4134       1\n",
              "1530       1\n",
              "1502       1\n",
              "2047       1\n",
              "Name: Num_of_Delayed_Payment, Length: 749, dtype: int64"
            ]
          },
          "metadata": {},
          "execution_count": 736
        }
      ]
    },
    {
      "cell_type": "code",
      "source": [
        "df[\"Num_of_Delayed_Payment\"]=df[\"Num_of_Delayed_Payment\"].str.strip(\"_\").astype(float)"
      ],
      "metadata": {
        "id": "OAWDpn6Lu1jf"
      },
      "execution_count": null,
      "outputs": []
    },
    {
      "cell_type": "code",
      "source": [
        "df[\"Num_of_Delayed_Payment\"]=df[\"Num_of_Delayed_Payment\"].fillna(df.groupby(['Customer_ID'])[\"Num_of_Delayed_Payment\"].transform(lambda x: x.mode()[0]))"
      ],
      "metadata": {
        "id": "Q5M-m_stvGw6"
      },
      "execution_count": null,
      "outputs": []
    },
    {
      "cell_type": "code",
      "source": [
        "df[\"Num_of_Delayed_Payment\"]=df.groupby(['Customer_ID'])[\"Num_of_Delayed_Payment\"].transform(lambda x: x.mode()[0])"
      ],
      "metadata": {
        "id": "lj5J7PkmxnCC"
      },
      "execution_count": null,
      "outputs": []
    },
    {
      "cell_type": "code",
      "source": [
        "# df[['Customer_ID',\"Num_of_Delayed_Payment\"]][0:20]"
      ],
      "metadata": {
        "id": "t-QGJio2uG9_"
      },
      "execution_count": null,
      "outputs": []
    },
    {
      "cell_type": "code",
      "source": [
        "fig,axes=plt.subplots(nrows=1,ncols=2,figsize=(10,5))\n",
        "sns.histplot(data=df,x=\"Num_of_Delayed_Payment\",ax=axes[0],kde=True,bins=20)\n",
        "sns.boxplot(data=df,x=\"Num_of_Delayed_Payment\",ax=axes[1])\n",
        "plt.tight_layout()\n",
        "plt.plot()"
      ],
      "metadata": {
        "colab": {
          "base_uri": "https://localhost:8080/"
        },
        "id": "lcA-ZuCMu0zN",
        "outputId": "f73cd9ef-d523-400e-ec5f-9761d9f7dc63"
      },
      "execution_count": null,
      "outputs": [
        {
          "output_type": "execute_result",
          "data": {
            "text/plain": [
              "[]"
            ]
          },
          "metadata": {},
          "execution_count": 741
        },
        {
          "output_type": "display_data",
          "data": {
            "text/plain": [
              "<Figure size 1000x500 with 2 Axes>"
            ],
            "image/png": "[encoded data removed]"
          },
          "metadata": {}
        }
      ]
    },
    {
      "cell_type": "markdown",
      "source": [
        "**Summary**\n",
        "\n",
        "1)Number of delayed payments lies between 0 to 25+.\n",
        "\n",
        "2)Further investigation shows customers on an average have done 10 to 15 delayed payments."
      ],
      "metadata": {
        "id": "svH7OHWyuXLL"
      }
    },
    {
      "cell_type": "markdown",
      "source": [
        "##Changed Credit Limit"
      ],
      "metadata": {
        "id": "OxsY0_2A3dx7"
      }
    },
    {
      "cell_type": "code",
      "source": [
        "df[\"Changed_Credit_Limit\"].value_counts()"
      ],
      "metadata": {
        "colab": {
          "base_uri": "https://localhost:8080/"
        },
        "id": "X_Abf1q63gVr",
        "outputId": "3db9e4a2-3c58-4e08-a0c5-62c63611d746"
      },
      "execution_count": null,
      "outputs": [
        {
          "output_type": "execute_result",
          "data": {
            "text/plain": [
              "_        2091\n",
              "8.22      135\n",
              "11.5      127\n",
              "11.32     126\n",
              "7.35      121\n",
              "         ... \n",
              "-5.78       1\n",
              "30.1        1\n",
              "35.89       1\n",
              "-3.67       1\n",
              "21.17       1\n",
              "Name: Changed_Credit_Limit, Length: 3635, dtype: int64"
            ]
          },
          "metadata": {},
          "execution_count": 742
        }
      ]
    },
    {
      "cell_type": "code",
      "source": [
        "df[\"Changed_Credit_Limit\"].replace(\"_\",np.nan,inplace=True)"
      ],
      "metadata": {
        "id": "5SwxA4XW3gd4"
      },
      "execution_count": null,
      "outputs": []
    },
    {
      "cell_type": "code",
      "source": [
        "df[\"Changed_Credit_Limit\"]=df[\"Changed_Credit_Limit\"].astype(\"float\")"
      ],
      "metadata": {
        "id": "P2g0TDUg4EKn"
      },
      "execution_count": null,
      "outputs": []
    },
    {
      "cell_type": "code",
      "source": [
        "df[\"Changed_Credit_Limit\"]=df[\"Changed_Credit_Limit\"].fillna(df.groupby([\"Customer_ID\"])[\"Changed_Credit_Limit\"].transform(lambda x: x.mode()[0]))"
      ],
      "metadata": {
        "id": "MRbAh_Tp4aCm"
      },
      "execution_count": null,
      "outputs": []
    },
    {
      "cell_type": "code",
      "source": [
        "df[\"Changed_Credit_Limit\"].max()"
      ],
      "metadata": {
        "colab": {
          "base_uri": "https://localhost:8080/"
        },
        "id": "CQRNYrTk5x6g",
        "outputId": "2f96d8ae-0c84-4c06-f8b5-1b9d2b80b646"
      },
      "execution_count": null,
      "outputs": [
        {
          "output_type": "execute_result",
          "data": {
            "text/plain": [
              "36.97"
            ]
          },
          "metadata": {},
          "execution_count": 746
        }
      ]
    },
    {
      "cell_type": "code",
      "source": [
        "df[\"Changed_Credit_Limit\"].min()"
      ],
      "metadata": {
        "colab": {
          "base_uri": "https://localhost:8080/"
        },
        "id": "kBM_L6wo50cG",
        "outputId": "822af7c5-3256-410a-83d8-ce5cdba1b811"
      },
      "execution_count": null,
      "outputs": [
        {
          "output_type": "execute_result",
          "data": {
            "text/plain": [
              "-6.49"
            ]
          },
          "metadata": {},
          "execution_count": 747
        }
      ]
    },
    {
      "cell_type": "code",
      "source": [
        "sns.histplot(data=df,x=\"Changed_Credit_Limit\",kde=True,bins=20)\n",
        "plt.plot()"
      ],
      "metadata": {
        "colab": {
          "base_uri": "https://localhost:8080/"
        },
        "id": "AFrwUJjr5E9_",
        "outputId": "61e099a0-0043-40e7-d151-199f42701253"
      },
      "execution_count": null,
      "outputs": [
        {
          "output_type": "execute_result",
          "data": {
            "text/plain": [
              "[]"
            ]
          },
          "metadata": {},
          "execution_count": 748
        },
        {
          "output_type": "display_data",
          "data": {
            "text/plain": [
              "<Figure size 640x480 with 1 Axes>"
            ],
            "image/png": "[encoded data removed]"
          },
          "metadata": {}
        }
      ]
    },
    {
      "cell_type": "markdown",
      "source": [
        "**Summary**\n",
        "\n",
        "Change in credit limit varies between -6.49 to 36.97."
      ],
      "metadata": {
        "id": "Uq7T8WLnu7_k"
      }
    },
    {
      "cell_type": "markdown",
      "source": [
        "##Number of Credit Inquiries"
      ],
      "metadata": {
        "id": "uZnWJwCo6O_R"
      }
    },
    {
      "cell_type": "code",
      "source": [
        "df[\"Num_Credit_Inquiries\"].value_counts()"
      ],
      "metadata": {
        "colab": {
          "base_uri": "https://localhost:8080/"
        },
        "id": "7NarS1AC6WBt",
        "outputId": "48dd5e61-dc5f-4865-a6a8-ce9e37acdb2b"
      },
      "execution_count": null,
      "outputs": [
        {
          "output_type": "execute_result",
          "data": {
            "text/plain": [
              "4.0       11271\n",
              "3.0        8890\n",
              "6.0        8111\n",
              "7.0        8058\n",
              "2.0        8028\n",
              "          ...  \n",
              "1721.0        1\n",
              "1750.0        1\n",
              "2397.0        1\n",
              "621.0         1\n",
              "74.0          1\n",
              "Name: Num_Credit_Inquiries, Length: 1223, dtype: int64"
            ]
          },
          "metadata": {},
          "execution_count": 749
        }
      ]
    },
    {
      "cell_type": "code",
      "source": [
        "# df[['Customer_ID',\"Num_Credit_Inquiries\"]][96:120]"
      ],
      "metadata": {
        "id": "2PgXkF3o6fVT"
      },
      "execution_count": null,
      "outputs": []
    },
    {
      "cell_type": "code",
      "source": [
        "j=pd.DataFrame(df.groupby([\"Customer_ID\"])[\"Num_Credit_Inquiries\"].value_counts())"
      ],
      "metadata": {
        "id": "wM079QBFAnEu"
      },
      "execution_count": null,
      "outputs": []
    },
    {
      "cell_type": "code",
      "source": [
        "j=j.rename({\"Num_Credit_Inquiries\":\"a0\"},axis=1).reset_index()"
      ],
      "metadata": {
        "id": "RTn56GRgwWzm"
      },
      "execution_count": null,
      "outputs": []
    },
    {
      "cell_type": "code",
      "source": [
        "a1=j['a0'].max()"
      ],
      "metadata": {
        "id": "HaCx21hGybPc"
      },
      "execution_count": null,
      "outputs": []
    },
    {
      "cell_type": "code",
      "source": [
        "j1=j[j[\"a0\"]==a1]"
      ],
      "metadata": {
        "id": "aIByWNMtwnmt"
      },
      "execution_count": null,
      "outputs": []
    },
    {
      "cell_type": "code",
      "source": [
        "j2=j1[\"Num_Credit_Inquiries\"].max()"
      ],
      "metadata": {
        "id": "y_Fxrz7hyjLj"
      },
      "execution_count": null,
      "outputs": []
    },
    {
      "cell_type": "code",
      "source": [
        "df[\"Num_Credit_Inquiries\"]=df[\"Num_Credit_Inquiries\"].transform(lambda x: np.nan if x>17 else x)"
      ],
      "metadata": {
        "id": "pAjUJiHnyudN"
      },
      "execution_count": null,
      "outputs": []
    },
    {
      "cell_type": "code",
      "source": [
        "df[\"Num_Credit_Inquiries\"].value_counts()"
      ],
      "metadata": {
        "colab": {
          "base_uri": "https://localhost:8080/"
        },
        "id": "1RjpA25j0uE7",
        "outputId": "138a0582-87a9-47b6-c611-68c6e8b365f8"
      },
      "execution_count": null,
      "outputs": [
        {
          "output_type": "execute_result",
          "data": {
            "text/plain": [
              "4.0     11271\n",
              "3.0      8890\n",
              "6.0      8111\n",
              "7.0      8058\n",
              "2.0      8028\n",
              "8.0      7866\n",
              "1.0      7588\n",
              "0.0      6972\n",
              "5.0      5693\n",
              "9.0      5283\n",
              "11.0     5051\n",
              "10.0     4936\n",
              "12.0     4571\n",
              "13.0     1480\n",
              "14.0     1039\n",
              "15.0      808\n",
              "16.0      456\n",
              "17.0      284\n",
              "Name: Num_Credit_Inquiries, dtype: int64"
            ]
          },
          "metadata": {},
          "execution_count": 757
        }
      ]
    },
    {
      "cell_type": "code",
      "source": [
        "df[\"Num_Credit_Inquiries\"]=df[\"Num_Credit_Inquiries\"].fillna(df.groupby(['Customer_ID'])[\"Num_Credit_Inquiries\"].transform(lambda x: x.mode()[0]))"
      ],
      "metadata": {
        "id": "WZFPLFxY2qay"
      },
      "execution_count": null,
      "outputs": []
    },
    {
      "cell_type": "code",
      "source": [
        "plt.figure(figsize=(8,4))\n",
        "sns.countplot(data=df,x=\"Num_Credit_Inquiries\")\n",
        "plt.tight_layout()\n",
        "plt.plot()"
      ],
      "metadata": {
        "colab": {
          "base_uri": "https://localhost:8080/"
        },
        "id": "AnUKzAwq55w0",
        "outputId": "0cae3232-8d8f-4d1b-bc84-ed8ae86aeb1c"
      },
      "execution_count": null,
      "outputs": [
        {
          "output_type": "execute_result",
          "data": {
            "text/plain": [
              "[]"
            ]
          },
          "metadata": {},
          "execution_count": 759
        },
        {
          "output_type": "display_data",
          "data": {
            "text/plain": [
              "<Figure size 800x400 with 1 Axes>"
            ],
            "image/png": "[encoded data removed]"
          },
          "metadata": {}
        }
      ]
    },
    {
      "cell_type": "code",
      "source": [
        "df[\"Num_Credit_Inquiries\"].isna().sum()"
      ],
      "metadata": {
        "colab": {
          "base_uri": "https://localhost:8080/"
        },
        "id": "Pirft-rtixc7",
        "outputId": "36682b50-cebd-4bec-9c06-6ae76c58c99c"
      },
      "execution_count": null,
      "outputs": [
        {
          "output_type": "execute_result",
          "data": {
            "text/plain": [
              "0"
            ]
          },
          "metadata": {},
          "execution_count": 760
        }
      ]
    },
    {
      "cell_type": "markdown",
      "source": [
        "**Summary**\n",
        "\n",
        "1)After dealing with null,garbage and outliers, the range of credit inquiries lies between 0 to 17.\n"
      ],
      "metadata": {
        "id": "Pa-8qnkovJQb"
      }
    },
    {
      "cell_type": "markdown",
      "source": [
        "##OutStanding Debt"
      ],
      "metadata": {
        "id": "QsgeJUoaBLau"
      }
    },
    {
      "cell_type": "code",
      "source": [
        "df[\"Outstanding_Debt\"].value_counts()"
      ],
      "metadata": {
        "colab": {
          "base_uri": "https://localhost:8080/"
        },
        "id": "UNlnZivyBQLG",
        "outputId": "d3709fb9-d50a-4d06-ec92-04130f259a4d"
      },
      "execution_count": null,
      "outputs": [
        {
          "output_type": "execute_result",
          "data": {
            "text/plain": [
              "1360.45     24\n",
              "460.46      23\n",
              "1151.7      23\n",
              "1109.03     23\n",
              "467.7       16\n",
              "            ..\n",
              "245.46_      1\n",
              "645.77_      1\n",
              "174.79_      1\n",
              "1181.13_     1\n",
              "1013.53_     1\n",
              "Name: Outstanding_Debt, Length: 13178, dtype: int64"
            ]
          },
          "metadata": {},
          "execution_count": 761
        }
      ]
    },
    {
      "cell_type": "code",
      "source": [
        "# df[['Customer_ID',\"Outstanding_Debt\"]][15980:16000]"
      ],
      "metadata": {
        "id": "rrR7Wd0QBXZn"
      },
      "execution_count": null,
      "outputs": []
    },
    {
      "cell_type": "code",
      "source": [
        "df[\"Outstanding_Debt\"]=df[\"Outstanding_Debt\"].str.strip(\"_\").astype(\"float\")"
      ],
      "metadata": {
        "id": "onudY8eRBsAO"
      },
      "execution_count": null,
      "outputs": []
    },
    {
      "cell_type": "code",
      "source": [
        "df[\"Outstanding_Debt\"]=df.groupby(['Customer_ID'])[\"Outstanding_Debt\"].transform(lambda x: x.mode()[0])"
      ],
      "metadata": {
        "id": "DLpooCTtCMKG"
      },
      "execution_count": null,
      "outputs": []
    },
    {
      "cell_type": "code",
      "source": [
        "len(df.groupby(['Customer_ID'])[\"Outstanding_Debt\"])"
      ],
      "metadata": {
        "colab": {
          "base_uri": "https://localhost:8080/"
        },
        "id": "BFGGHqLcCetx",
        "outputId": "0def2584-50bc-4462-b986-ef6ec9a9090f"
      },
      "execution_count": null,
      "outputs": [
        {
          "output_type": "execute_result",
          "data": {
            "text/plain": [
              "12500"
            ]
          },
          "metadata": {},
          "execution_count": 765
        }
      ]
    },
    {
      "cell_type": "code",
      "source": [
        "df[\"Outstanding_Debt\"].max()"
      ],
      "metadata": {
        "colab": {
          "base_uri": "https://localhost:8080/"
        },
        "id": "Xk5cBFLUDZ9O",
        "outputId": "e8a1c90d-e561-4e4d-a9d3-3e4837d2e8f1"
      },
      "execution_count": null,
      "outputs": [
        {
          "output_type": "execute_result",
          "data": {
            "text/plain": [
              "4998.07"
            ]
          },
          "metadata": {},
          "execution_count": 766
        }
      ]
    },
    {
      "cell_type": "code",
      "source": [
        "df[\"Outstanding_Debt\"].min()"
      ],
      "metadata": {
        "colab": {
          "base_uri": "https://localhost:8080/"
        },
        "id": "tel47iJqDbYl",
        "outputId": "a3f55b18-160f-449f-e1a0-214fd3c3223f"
      },
      "execution_count": null,
      "outputs": [
        {
          "output_type": "execute_result",
          "data": {
            "text/plain": [
              "0.23"
            ]
          },
          "metadata": {},
          "execution_count": 767
        }
      ]
    },
    {
      "cell_type": "code",
      "source": [
        "fig,axes=plt.subplots(nrows=1,ncols=2,figsize=(10,4))\n",
        "sns.histplot(data=df,x=\"Outstanding_Debt\",ax=axes[0],kde=True,bins=20)\n",
        "sns.boxplot(data=df,x=\"Outstanding_Debt\",ax=axes[1])\n",
        "plt.tight_layout()\n",
        "plt.plot()"
      ],
      "metadata": {
        "colab": {
          "base_uri": "https://localhost:8080/"
        },
        "id": "2RkHYqqyChdQ",
        "outputId": "e7b86ecb-d681-4a41-dafc-7d598b0826a2"
      },
      "execution_count": null,
      "outputs": [
        {
          "output_type": "execute_result",
          "data": {
            "text/plain": [
              "[]"
            ]
          },
          "metadata": {},
          "execution_count": 768
        },
        {
          "output_type": "display_data",
          "data": {
            "text/plain": [
              "<Figure size 1000x400 with 2 Axes>"
            ],
            "image/png": "[encoded data removed]"
          },
          "metadata": {}
        }
      ]
    },
    {
      "cell_type": "markdown",
      "source": [
        "**Summary**\n",
        "\n",
        "1) It is as low as 0.23 and as high as 4998.07\n",
        "\n",
        "2) Mostly the data lies between 1000 to 1500 but some outliers are present."
      ],
      "metadata": {
        "id": "IGiPlqjJwOjY"
      }
    },
    {
      "cell_type": "markdown",
      "source": [
        "##Credit Utilization ratio"
      ],
      "metadata": {
        "id": "Ldj8OragDlzM"
      }
    },
    {
      "cell_type": "code",
      "source": [
        "df[\"Credit_Utilization_Ratio\"].value_counts()"
      ],
      "metadata": {
        "colab": {
          "base_uri": "https://localhost:8080/"
        },
        "id": "I-aYOREADoxr",
        "outputId": "5005ca1f-9c26-41e7-b4d7-26543440f379"
      },
      "execution_count": null,
      "outputs": [
        {
          "output_type": "execute_result",
          "data": {
            "text/plain": [
              "26.407909    2\n",
              "33.163023    2\n",
              "26.822620    1\n",
              "30.462162    1\n",
              "33.933755    1\n",
              "            ..\n",
              "38.730069    1\n",
              "30.017515    1\n",
              "27.279794    1\n",
              "27.002436    1\n",
              "34.192463    1\n",
              "Name: Credit_Utilization_Ratio, Length: 99998, dtype: int64"
            ]
          },
          "metadata": {},
          "execution_count": 769
        }
      ]
    },
    {
      "cell_type": "code",
      "source": [
        "df[\"Credit_Utilization_Ratio\"].max()"
      ],
      "metadata": {
        "colab": {
          "base_uri": "https://localhost:8080/"
        },
        "id": "btvDQ58VD-ti",
        "outputId": "6e1e2a8a-febf-42e9-817d-b2753f23d122"
      },
      "execution_count": null,
      "outputs": [
        {
          "output_type": "execute_result",
          "data": {
            "text/plain": [
              "50.0"
            ]
          },
          "metadata": {},
          "execution_count": 770
        }
      ]
    },
    {
      "cell_type": "code",
      "source": [
        "df[\"Credit_Utilization_Ratio\"].min()"
      ],
      "metadata": {
        "colab": {
          "base_uri": "https://localhost:8080/"
        },
        "id": "W2482cNqEBj5",
        "outputId": "ff92ac1f-c318-4de5-9c4f-1f2220c59ca5"
      },
      "execution_count": null,
      "outputs": [
        {
          "output_type": "execute_result",
          "data": {
            "text/plain": [
              "20.0"
            ]
          },
          "metadata": {},
          "execution_count": 771
        }
      ]
    },
    {
      "cell_type": "code",
      "source": [
        "# df[['Customer_ID',\"Credit_Utilization_Ratio\"]][70000:70020]"
      ],
      "metadata": {
        "id": "MScwuPAyD0j_"
      },
      "execution_count": null,
      "outputs": []
    },
    {
      "cell_type": "code",
      "source": [
        "sns.histplot(data=df,x=\"Credit_Utilization_Ratio\",kde=True,bins=20)\n",
        "plt.plot()"
      ],
      "metadata": {
        "colab": {
          "base_uri": "https://localhost:8080/"
        },
        "id": "XleCd6oHEOCg",
        "outputId": "bca92a12-127e-4ac3-d0bd-6aa57490cada"
      },
      "execution_count": null,
      "outputs": [
        {
          "output_type": "execute_result",
          "data": {
            "text/plain": [
              "[]"
            ]
          },
          "metadata": {},
          "execution_count": 773
        },
        {
          "output_type": "display_data",
          "data": {
            "text/plain": [
              "<Figure size 640x480 with 1 Axes>"
            ],
            "image/png": "[encoded data removed]"
          },
          "metadata": {}
        }
      ]
    },
    {
      "cell_type": "markdown",
      "source": [
        "**Summary**\n",
        "\n",
        "1)Nearly a normal curve pops up, mostly data lies between 25 to 40."
      ],
      "metadata": {
        "id": "oKpkQZYtwmpW"
      }
    },
    {
      "cell_type": "markdown",
      "source": [
        "## Credit History Age"
      ],
      "metadata": {
        "id": "qyPphVscMuRP"
      }
    },
    {
      "cell_type": "code",
      "source": [
        "df[\"Credit_History_Age\"].value_counts()"
      ],
      "metadata": {
        "colab": {
          "base_uri": "https://localhost:8080/"
        },
        "id": "B8l6h9hGMu_M",
        "outputId": "cd290ab7-ac74-4805-d92a-31ef0782cde3"
      },
      "execution_count": null,
      "outputs": [
        {
          "output_type": "execute_result",
          "data": {
            "text/plain": [
              "15 Years and 11 Months    446\n",
              "19 Years and 4 Months     445\n",
              "19 Years and 5 Months     444\n",
              "17 Years and 11 Months    443\n",
              "19 Years and 3 Months     441\n",
              "                         ... \n",
              "0 Years and 3 Months       20\n",
              "0 Years and 2 Months       15\n",
              "33 Years and 7 Months      14\n",
              "33 Years and 8 Months      12\n",
              "0 Years and 1 Months        2\n",
              "Name: Credit_History_Age, Length: 404, dtype: int64"
            ]
          },
          "metadata": {},
          "execution_count": 774
        }
      ]
    },
    {
      "cell_type": "code",
      "source": [
        "def Month_Converter(val):\n",
        "    if pd.notnull(val):\n",
        "        years = int(val.split(' ')[0])\n",
        "        month = int(val.split(' ')[3])\n",
        "        return (years*12)+month\n",
        "    else:\n",
        "        return val\n",
        "\n",
        "df['Credit_History_In_Months'] = df['Credit_History_Age'].apply(lambda x: Month_Converter(x)).astype(float)"
      ],
      "metadata": {
        "id": "RykDyw4YOjBX"
      },
      "execution_count": null,
      "outputs": []
    },
    {
      "cell_type": "code",
      "source": [
        "df['Credit_History_In_Months'].isna().sum()"
      ],
      "metadata": {
        "colab": {
          "base_uri": "https://localhost:8080/"
        },
        "id": "VW3MNclCYWjw",
        "outputId": "5e12a93f-ec4c-4d89-e18f-4da747ff3316"
      },
      "execution_count": null,
      "outputs": [
        {
          "output_type": "execute_result",
          "data": {
            "text/plain": [
              "9030"
            ]
          },
          "metadata": {},
          "execution_count": 776
        }
      ]
    },
    {
      "cell_type": "code",
      "source": [
        "df['Credit_History_In_Months']=df.groupby(['Customer_ID'])['Credit_History_In_Months'].transform(lambda x: x.fillna(x.mode()[0]+1))"
      ],
      "metadata": {
        "id": "jXojGo2RZtyF"
      },
      "execution_count": null,
      "outputs": []
    },
    {
      "cell_type": "code",
      "source": [
        "df['Credit_History_In_Months'].min()"
      ],
      "metadata": {
        "colab": {
          "base_uri": "https://localhost:8080/"
        },
        "id": "GY5Ihep9zQXZ",
        "outputId": "011f554b-e1c2-483c-efaa-7eb918ddca3a"
      },
      "execution_count": null,
      "outputs": [
        {
          "output_type": "execute_result",
          "data": {
            "text/plain": [
              "1.0"
            ]
          },
          "metadata": {},
          "execution_count": 778
        }
      ]
    },
    {
      "cell_type": "code",
      "source": [
        "df['Credit_History_In_Months'].max()"
      ],
      "metadata": {
        "colab": {
          "base_uri": "https://localhost:8080/"
        },
        "id": "tPQzvOApzSsN",
        "outputId": "3d923607-0fd7-43c2-d62f-1e056fd865bd"
      },
      "execution_count": null,
      "outputs": [
        {
          "output_type": "execute_result",
          "data": {
            "text/plain": [
              "404.0"
            ]
          },
          "metadata": {},
          "execution_count": 779
        }
      ]
    },
    {
      "cell_type": "code",
      "source": [
        "sns.histplot(data=df,x=\"Credit_History_In_Months\",bins=20,kde=True)\n",
        "plt.plot()"
      ],
      "metadata": {
        "colab": {
          "base_uri": "https://localhost:8080/"
        },
        "id": "M0XiPM3pbPLb",
        "outputId": "c3109b62-f364-489c-ad03-df0b2fe3a52b"
      },
      "execution_count": null,
      "outputs": [
        {
          "output_type": "execute_result",
          "data": {
            "text/plain": [
              "[]"
            ]
          },
          "metadata": {},
          "execution_count": 780
        },
        {
          "output_type": "display_data",
          "data": {
            "text/plain": [
              "<Figure size 640x480 with 1 Axes>"
            ],
            "image/png": "[encoded data removed]"
          },
          "metadata": {}
        }
      ]
    },
    {
      "cell_type": "markdown",
      "source": [
        "**Summary**\n",
        "\n",
        "1)Consumer have as low as 1 month of crdit history and as high as 404 month of credit history.\n",
        "\n",
        "2)Highest of numbers lies betwen 150 to 250"
      ],
      "metadata": {
        "id": "CtsOnrBjxoV2"
      }
    },
    {
      "cell_type": "markdown",
      "source": [
        "##Total EMI per month"
      ],
      "metadata": {
        "id": "8kX7OTweErNc"
      }
    },
    {
      "cell_type": "code",
      "source": [
        "df[\"Total_EMI_per_month\"].value_counts()"
      ],
      "metadata": {
        "colab": {
          "base_uri": "https://localhost:8080/"
        },
        "id": "2lA1A4uGEkgw",
        "outputId": "e4df120f-656a-4d08-cfc2-ab8bd9149f1b"
      },
      "execution_count": null,
      "outputs": [
        {
          "output_type": "execute_result",
          "data": {
            "text/plain": [
              "0.000000        10613\n",
              "49.574949           8\n",
              "73.533361           8\n",
              "22.960835           8\n",
              "38.661127           8\n",
              "                ...  \n",
              "36408.000000        1\n",
              "23760.000000        1\n",
              "24612.000000        1\n",
              "24325.000000        1\n",
              "58638.000000        1\n",
              "Name: Total_EMI_per_month, Length: 14950, dtype: int64"
            ]
          },
          "metadata": {},
          "execution_count": 781
        }
      ]
    },
    {
      "cell_type": "code",
      "source": [
        "df[\"Total_EMI_per_month\"]=df.groupby([\"Customer_ID\"])[\"Total_EMI_per_month\"].transform(lambda x: x.mode()[0])"
      ],
      "metadata": {
        "id": "a_KRhR9aE49t"
      },
      "execution_count": null,
      "outputs": []
    },
    {
      "cell_type": "code",
      "source": [
        "df[\"Total_EMI_per_month\"].value_counts()"
      ],
      "metadata": {
        "colab": {
          "base_uri": "https://localhost:8080/"
        },
        "id": "IJ_EPrt8FqVF",
        "outputId": "190a4dff-e22b-4ad8-f6c4-8c76a9385409"
      },
      "execution_count": null,
      "outputs": [
        {
          "output_type": "execute_result",
          "data": {
            "text/plain": [
              "0.000000      11072\n",
              "49.574949         8\n",
              "181.855775        8\n",
              "10.898897         8\n",
              "10.516560         8\n",
              "              ...  \n",
              "56.747677         8\n",
              "39.628117         8\n",
              "306.617015        8\n",
              "203.082308        8\n",
              "35.104023         8\n",
              "Name: Total_EMI_per_month, Length: 11117, dtype: int64"
            ]
          },
          "metadata": {},
          "execution_count": 783
        }
      ]
    },
    {
      "cell_type": "code",
      "source": [
        "sns.histplot(data=df,x=\"Total_EMI_per_month\",kde=True,bins=20)\n",
        "plt.plot()"
      ],
      "metadata": {
        "colab": {
          "base_uri": "https://localhost:8080/"
        },
        "id": "q9n_WmMvGIri",
        "outputId": "4116384c-3c9b-4ef8-9bc6-75822acb15c7"
      },
      "execution_count": null,
      "outputs": [
        {
          "output_type": "execute_result",
          "data": {
            "text/plain": [
              "[]"
            ]
          },
          "metadata": {},
          "execution_count": 784
        },
        {
          "output_type": "display_data",
          "data": {
            "text/plain": [
              "<Figure size 640x480 with 1 Axes>"
            ],
            "image/png": "[encoded data removed]"
          },
          "metadata": {}
        }
      ]
    },
    {
      "cell_type": "markdown",
      "source": [
        "**Summary**\n",
        "\n",
        "1)Minimum value is 0 and maximum is 1750.\n",
        "\n",
        "2)Most of the population have EMIs committment between 0 to 250."
      ],
      "metadata": {
        "id": "0xun3zYbz1ps"
      }
    },
    {
      "cell_type": "markdown",
      "source": [
        "##Monthly Investment"
      ],
      "metadata": {
        "id": "KOIfi57aG30e"
      }
    },
    {
      "cell_type": "code",
      "source": [
        "df[\"Amount_invested_monthly\"].value_counts()"
      ],
      "metadata": {
        "colab": {
          "base_uri": "https://localhost:8080/"
        },
        "id": "Q_zeqq64G7u3",
        "outputId": "73af90ec-c17b-49e0-dfe0-8e77a9dbf113"
      },
      "execution_count": null,
      "outputs": [
        {
          "output_type": "execute_result",
          "data": {
            "text/plain": [
              "__10000__      4305\n",
              "0               169\n",
              "80.41529544       1\n",
              "36.66235139       1\n",
              "89.73848936       1\n",
              "               ... \n",
              "36.54190859       1\n",
              "93.45116319       1\n",
              "140.8097222       1\n",
              "38.7393767        1\n",
              "167.1638652       1\n",
              "Name: Amount_invested_monthly, Length: 91049, dtype: int64"
            ]
          },
          "metadata": {},
          "execution_count": 785
        }
      ]
    },
    {
      "cell_type": "code",
      "source": [
        "df[\"Amount_invested_monthly\"]=df[\"Amount_invested_monthly\"].str.strip(\"__\").astype(\"float\")"
      ],
      "metadata": {
        "id": "cdMb4qwhHuUk"
      },
      "execution_count": null,
      "outputs": []
    },
    {
      "cell_type": "code",
      "source": [
        "df[\"Amount_invested_monthly\"]=df[\"Amount_invested_monthly\"].fillna(df.groupby([\"Customer_ID\"])[\"Amount_invested_monthly\"].transform(lambda x: x.mean()))"
      ],
      "metadata": {
        "id": "yhyzOIbXIBiF"
      },
      "execution_count": null,
      "outputs": []
    },
    {
      "cell_type": "code",
      "source": [
        "sns.histplot(data=df,x=\"Amount_invested_monthly\",kde=True,bins=40)\n",
        "plt.plot()"
      ],
      "metadata": {
        "colab": {
          "base_uri": "https://localhost:8080/"
        },
        "id": "LqnmbUWpIiT3",
        "outputId": "dd5d8aa1-d8ca-4ff4-cd21-b2b417392a74"
      },
      "execution_count": null,
      "outputs": [
        {
          "output_type": "execute_result",
          "data": {
            "text/plain": [
              "[]"
            ]
          },
          "metadata": {},
          "execution_count": 788
        },
        {
          "output_type": "display_data",
          "data": {
            "text/plain": [
              "<Figure size 640x480 with 1 Axes>"
            ],
            "image/png": "[encoded data removed]"
          },
          "metadata": {}
        }
      ]
    },
    {
      "cell_type": "markdown",
      "source": [
        "**Summary**\n",
        "\n",
        "1)Skewed obseravation, with the data lying between 0 to 2000."
      ],
      "metadata": {
        "id": "apZdDA0Y0VPv"
      }
    },
    {
      "cell_type": "markdown",
      "source": [
        "##Monthly Balance"
      ],
      "metadata": {
        "id": "BosuKI9OJHMp"
      }
    },
    {
      "cell_type": "code",
      "source": [
        "df[\"Monthly_Balance\"].value_counts()"
      ],
      "metadata": {
        "colab": {
          "base_uri": "https://localhost:8080/"
        },
        "id": "3nTNW5H6JJ1C",
        "outputId": "52c508ad-1e76-4c45-cf3c-c75cfbde1457"
      },
      "execution_count": null,
      "outputs": [
        {
          "output_type": "execute_result",
          "data": {
            "text/plain": [
              "__-333333333333333333333333333__    9\n",
              "350.0148691                         2\n",
              "695.0571561                         2\n",
              "312.4940887                         1\n",
              "604.3402009                         1\n",
              "                                   ..\n",
              "280.6862317                         1\n",
              "366.289038                          1\n",
              "151.1882696                         1\n",
              "306.7502785                         1\n",
              "393.6736956                         1\n",
              "Name: Monthly_Balance, Length: 98790, dtype: int64"
            ]
          },
          "metadata": {},
          "execution_count": 789
        }
      ]
    },
    {
      "cell_type": "code",
      "source": [
        "df.replace(\"__-333333333333333333333333333__\",np.nan,inplace=True)"
      ],
      "metadata": {
        "id": "MEMqYmOtJgA4"
      },
      "execution_count": null,
      "outputs": []
    },
    {
      "cell_type": "code",
      "source": [
        "# df[\"Monthly_Balance\"]=df[\"Monthly_Balance\"].str.strip(\"_\").astype(\"float\")"
      ],
      "metadata": {
        "id": "PJuqvgvlJpHo"
      },
      "execution_count": null,
      "outputs": []
    },
    {
      "cell_type": "code",
      "source": [
        "df[\"Monthly_Balance\"]=df[\"Monthly_Balance\"].astype(\"float\")"
      ],
      "metadata": {
        "id": "OePryZqfMUtv"
      },
      "execution_count": null,
      "outputs": []
    },
    {
      "cell_type": "code",
      "source": [
        "df[\"Monthly_Balance\"]=df[\"Monthly_Balance\"].fillna(df.groupby([\"Customer_ID\"])[\"Monthly_Balance\"].transform(lambda x: x.mean()))"
      ],
      "metadata": {
        "id": "IAUeiJRkJ2Z5"
      },
      "execution_count": null,
      "outputs": []
    },
    {
      "cell_type": "code",
      "source": [
        "sns.histplot(data=df,x=\"Monthly_Balance\",kde=True,bins=40)\n",
        "plt.plot()"
      ],
      "metadata": {
        "colab": {
          "base_uri": "https://localhost:8080/"
        },
        "id": "AD1CBVh-KLc3",
        "outputId": "7aa5ab36-f730-4c1d-c8c0-39b1502d5560"
      },
      "execution_count": null,
      "outputs": [
        {
          "output_type": "execute_result",
          "data": {
            "text/plain": [
              "[]"
            ]
          },
          "metadata": {},
          "execution_count": 794
        },
        {
          "output_type": "display_data",
          "data": {
            "text/plain": [
              "<Figure size 640x480 with 1 Axes>"
            ],
            "image/png": "[encoded data removed]"
          },
          "metadata": {}
        }
      ]
    },
    {
      "cell_type": "markdown",
      "source": [
        "**Summary**\n",
        "\n",
        "1)Slightly skewd observation, data ranges as low as 0 to as high as 1600+.\n",
        "\n",
        "2)Most of the customer lies between 200$ to 700$."
      ],
      "metadata": {
        "id": "1AHGomvY0lOv"
      }
    },
    {
      "cell_type": "code",
      "source": [
        "# df[['Customer_ID',\"Monthly_Balance\"]][0:15]"
      ],
      "metadata": {
        "id": "7JYHiT-pHUJd"
      },
      "execution_count": null,
      "outputs": []
    },
    {
      "cell_type": "markdown",
      "source": [
        "#Credit"
      ],
      "metadata": {
        "id": "C0RnXQGW3kca"
      }
    },
    {
      "cell_type": "markdown",
      "source": [
        "**Credit Score**\n",
        "\n",
        "A numerical representation of creditworthiness, reflecting credit history and financial behavior.\n",
        "It's used by lenders, landlords, and others to assess the risk of lending money or extending credit to an individual.\n",
        "\n",
        "Out of all the columns, we will try to get the data which will help to know the 5Cs of credit which is character, capital, collateral,capacity and condition.\n",
        "\n",
        "\n",
        "\n",
        "\n"
      ],
      "metadata": {
        "id": "4gk_pydBKLU3"
      }
    },
    {
      "cell_type": "markdown",
      "source": [
        "**Feature Engineering1: (label encoding)**"
      ],
      "metadata": {
        "id": "m6iTmiggP0tm"
      }
    },
    {
      "cell_type": "code",
      "source": [
        "df[\"Payment_of_Min_Amount\"] = df[\"Payment_of_Min_Amount\"].replace({\"Yes\": 1, \"No\": 0})"
      ],
      "metadata": {
        "id": "L3BVnOjuOuuh"
      },
      "execution_count": null,
      "outputs": []
    },
    {
      "cell_type": "code",
      "source": [
        "df[\"Credit_Mix\"] = df[\"Credit_Mix\"].replace({\"Standard\": 1, \"Good\": 2, \"Bad\": 0})"
      ],
      "metadata": {
        "id": "FB82YtmjOw_l"
      },
      "execution_count": null,
      "outputs": []
    },
    {
      "cell_type": "code",
      "source": [
        "df[\"Payment_Behaviour\"] = df[\"Payment_Behaviour\"].replace({\n",
        "      \"Low_spent_Small_value_payments\": 1,\n",
        "      \"Low_spent_Medium_value_payments\": 2,\n",
        "      \"Low_spent_Large_value_payments\": 3,\n",
        "      \"High_spent_Small_value_payments\": 4,\n",
        "      \"High_spent_Medium_value_payments\": 5,\n",
        "      \"High_spent_Large_value_payments\": 6\n",
        "      })"
      ],
      "metadata": {
        "id": "FzZoRKwPO6lA"
      },
      "execution_count": null,
      "outputs": []
    },
    {
      "cell_type": "code",
      "source": [
        "df[\"Payment_History\"] = (-1 * df[\"Delay_from_due_date\"] -1 * df[\"Num_of_Delayed_Payment\"] + 1 * df[\"Payment_of_Min_Amount\"])"
      ],
      "metadata": {
        "id": "W7gI5lk1tLZ1"
      },
      "execution_count": null,
      "outputs": []
    },
    {
      "cell_type": "markdown",
      "source": [
        "**Feature engineering 2: Standarization**"
      ],
      "metadata": {
        "id": "adsuoMBrLnvd"
      }
    },
    {
      "cell_type": "code",
      "source": [
        "df_new=pd.DataFrame(df.groupby(['Customer_ID'])[\"Payment_History\"].mean())"
      ],
      "metadata": {
        "id": "RlanUkTeNga1"
      },
      "execution_count": null,
      "outputs": []
    },
    {
      "cell_type": "code",
      "source": [
        "df_new[\"Payment_History\"]=(df_new[\"Payment_History\"]-df_new[\"Payment_History\"].mean())/df_new[\"Payment_History\"].std()"
      ],
      "metadata": {
        "id": "XNlqeyagoDpk"
      },
      "execution_count": null,
      "outputs": []
    },
    {
      "cell_type": "code",
      "source": [
        "df_new[\"Credit_Mix\"]=pd.DataFrame(df.groupby(['Customer_ID'])[\"Credit_Mix\"].mean())\n",
        "df_new[\"Credit_Mix\"]=(df_new[\"Credit_Mix\"]-df_new[\"Credit_Mix\"].mean())/df_new[\"Credit_Mix\"].std()"
      ],
      "metadata": {
        "id": "0v3PKU_pNwo9"
      },
      "execution_count": null,
      "outputs": []
    },
    {
      "cell_type": "code",
      "source": [
        "df_new['Credit_Utilization_Ratio']=pd.DataFrame(df.groupby(['Customer_ID'])['Credit_Utilization_Ratio'].mean())/100\n",
        "df_new['Credit_Utilization_Ratio']=(df_new['Credit_Utilization_Ratio']-df_new['Credit_Utilization_Ratio'].mean())/df_new['Credit_Utilization_Ratio'].std()"
      ],
      "metadata": {
        "id": "5IuwSkh_cmXb"
      },
      "execution_count": null,
      "outputs": []
    },
    {
      "cell_type": "code",
      "source": [
        "df_new['Outstanding_Debt']=pd.DataFrame(df.groupby(['Customer_ID'])['Outstanding_Debt'].mean())\n",
        "df_new['Outstanding_Debt']=(df_new['Outstanding_Debt']-df_new['Outstanding_Debt'].mean())/df_new['Outstanding_Debt'].std()"
      ],
      "metadata": {
        "id": "7fB5C02mdIb9"
      },
      "execution_count": null,
      "outputs": []
    },
    {
      "cell_type": "code",
      "source": [
        "df_new['Num_Credit_Inquiries']=pd.DataFrame(df.groupby(['Customer_ID'])['Num_Credit_Inquiries'].mean())\n",
        "df_new['Num_Credit_Inquiries']=(df_new['Num_Credit_Inquiries']-df_new['Num_Credit_Inquiries'].mean())/df_new['Num_Credit_Inquiries'].std()"
      ],
      "metadata": {
        "id": "nu4rTJ6mdbV0"
      },
      "execution_count": null,
      "outputs": []
    },
    {
      "cell_type": "code",
      "source": [
        "df_new['Changed_Credit_Limit']=pd.DataFrame(df.groupby(['Customer_ID'])['Changed_Credit_Limit'].mean())\n",
        "df_new['Changed_Credit_Limit']=(df_new['Changed_Credit_Limit']-df_new['Changed_Credit_Limit'].mean())/df_new['Changed_Credit_Limit'].std()"
      ],
      "metadata": {
        "id": "8fD1S-gQhiZW"
      },
      "execution_count": null,
      "outputs": []
    },
    {
      "cell_type": "code",
      "source": [
        "df_new['Credit_History_In_Months']=pd.DataFrame(df.groupby(['Customer_ID'])['Credit_History_In_Months'].max())\n",
        "df_new['Credit_History_In_Months']=(df_new['Credit_History_In_Months']-df_new['Credit_History_In_Months'].mean())/df_new['Credit_History_In_Months'].std()"
      ],
      "metadata": {
        "id": "3Ed_6SsHd_jY"
      },
      "execution_count": null,
      "outputs": []
    },
    {
      "cell_type": "code",
      "source": [
        "df[\"debt_to_Income\"]=df['Outstanding_Debt'] / df['Monthly_Inhand_Salary']"
      ],
      "metadata": {
        "id": "B6Y7lG_tkPTH"
      },
      "execution_count": null,
      "outputs": []
    },
    {
      "cell_type": "code",
      "source": [
        "df_new[\"debt_to_Income\"]=pd.DataFrame(df.groupby(['Customer_ID'])[\"debt_to_Income\"].mean())\n",
        "df_new[\"debt_to_Income\"]=(df_new[\"debt_to_Income\"]-df_new[\"debt_to_Income\"].mean())/df_new[\"debt_to_Income\"].std()"
      ],
      "metadata": {
        "id": "btkWsGnBkDZk"
      },
      "execution_count": null,
      "outputs": []
    },
    {
      "cell_type": "code",
      "source": [
        "df_new[\"Age\"]=pd.DataFrame(df.groupby(['Customer_ID'])[\"Age\"].mean())"
      ],
      "metadata": {
        "id": "SzEC95dE9lHk"
      },
      "execution_count": null,
      "outputs": []
    },
    {
      "cell_type": "code",
      "source": [
        "df_new=df_new.reset_index()"
      ],
      "metadata": {
        "id": "mCW8tpl51lUB"
      },
      "execution_count": null,
      "outputs": []
    },
    {
      "cell_type": "code",
      "source": [
        "df_new"
      ],
      "metadata": {
        "colab": {
          "base_uri": "https://localhost:8080/",
          "height": 443
        },
        "id": "dPxJhaKB9swR",
        "outputId": "b71121d5-7afe-4976-9d49-fcbb1c1a43a1"
      },
      "execution_count": null,
      "outputs": [
        {
          "output_type": "execute_result",
          "data": {
            "text/plain": [
              "      Customer_ID  Payment_History  Credit_Mix  Credit_Utilization_Ratio  \\\n",
              "0      CUS_0x1000        -2.805987   -1.454655                  0.578666   \n",
              "1      CUS_0x1009         0.468128   -0.090268                 -1.186664   \n",
              "2      CUS_0x100b         0.682824    1.274120                  1.240576   \n",
              "3      CUS_0x1011        -0.390657   -0.090268                 -2.246615   \n",
              "4      CUS_0x1013         0.682824    1.274120                 -0.170455   \n",
              "...           ...              ...         ...                       ...   \n",
              "12495   CUS_0xff3         0.629150    1.274120                  0.293234   \n",
              "12496   CUS_0xff4         0.468128   -0.090268                  0.151942   \n",
              "12497   CUS_0xff6         1.541608    1.274120                  0.472144   \n",
              "12498   CUS_0xffc        -1.464137   -1.454655                  1.182659   \n",
              "12499   CUS_0xffd        -0.014939   -0.090268                 -0.189711   \n",
              "\n",
              "       Outstanding_Debt  Num_Credit_Inquiries  Changed_Credit_Limit  \\\n",
              "0              0.118329              1.373629             -1.300822   \n",
              "1             -1.059187             -0.748910             -0.100749   \n",
              "2             -0.342824             -1.085821              0.088053   \n",
              "3             -0.825057              0.329205              0.578019   \n",
              "4             -0.166824             -0.748910             -1.327576   \n",
              "...                 ...                   ...                   ...   \n",
              "12495         -0.170659             -0.411999             -0.291079   \n",
              "12496         -0.578080             -0.209852             -0.333884   \n",
              "12497         -0.941784             -1.018438              0.230992   \n",
              "12498         -0.109153              1.777922             -0.239865   \n",
              "12499          0.238631              0.329205             -0.010552   \n",
              "\n",
              "       Credit_History_In_Months  debt_to_Income   Age  \n",
              "0                     -0.959390       -0.148258  17.0  \n",
              "1                      1.479004       -0.612529  26.0  \n",
              "2                     -0.347283       -0.559788  18.0  \n",
              "3                     -0.347283       -0.574722  44.0  \n",
              "4                     -0.106454       -0.518570  44.0  \n",
              "...                         ...             ...   ...  \n",
              "12495                 -0.176695        0.261155  55.0  \n",
              "12496                  0.003926       -0.379227  37.0  \n",
              "12497                  0.746482       -0.623839  19.0  \n",
              "12498                 -0.678423       -0.435993  17.0  \n",
              "12499                  0.003926       -0.256636  29.0  \n",
              "\n",
              "[12500 rows x 10 columns]"
            ],
            "text/html": [
              "\n",
              "  <div id=\"df-4cabee17-f20e-43b4-98b4-6d4c81cbcb10\" class=\"colab-df-container\">\n",
              "    <div>\n",
              "<style scoped>\n",
              "    .dataframe tbody tr th:only-of-type {\n",
              "        vertical-align: middle;\n",
              "    }\n",
              "\n",
              "    .dataframe tbody tr th {\n",
              "        vertical-align: top;\n",
              "    }\n",
              "\n",
              "    .dataframe thead th {\n",
              "        text-align: right;\n",
              "    }\n",
              "</style>\n",
              "<table border=\"1\" class=\"dataframe\">\n",
              "  <thead>\n",
              "    <tr style=\"text-align: right;\">\n",
              "      <th></th>\n",
              "      <th>Customer_ID</th>\n",
              "      <th>Payment_History</th>\n",
              "      <th>Credit_Mix</th>\n",
              "      <th>Credit_Utilization_Ratio</th>\n",
              "      <th>Outstanding_Debt</th>\n",
              "      <th>Num_Credit_Inquiries</th>\n",
              "      <th>Changed_Credit_Limit</th>\n",
              "      <th>Credit_History_In_Months</th>\n",
              "      <th>debt_to_Income</th>\n",
              "      <th>Age</th>\n",
              "    </tr>\n",
              "  </thead>\n",
              "  <tbody>\n",
              "    <tr>\n",
              "      <th>0</th>\n",
              "      <td>CUS_0x1000</td>\n",
              "      <td>-2.805987</td>\n",
              "      <td>-1.454655</td>\n",
              "      <td>0.578666</td>\n",
              "      <td>0.118329</td>\n",
              "      <td>1.373629</td>\n",
              "      <td>-1.300822</td>\n",
              "      <td>-0.959390</td>\n",
              "      <td>-0.148258</td>\n",
              "      <td>17.0</td>\n",
              "    </tr>\n",
              "    <tr>\n",
              "      <th>1</th>\n",
              "      <td>CUS_0x1009</td>\n",
              "      <td>0.468128</td>\n",
              "      <td>-0.090268</td>\n",
              "      <td>-1.186664</td>\n",
              "      <td>-1.059187</td>\n",
              "      <td>-0.748910</td>\n",
              "      <td>-0.100749</td>\n",
              "      <td>1.479004</td>\n",
              "      <td>-0.612529</td>\n",
              "      <td>26.0</td>\n",
              "    </tr>\n",
              "    <tr>\n",
              "      <th>2</th>\n",
              "      <td>CUS_0x100b</td>\n",
              "      <td>0.682824</td>\n",
              "      <td>1.274120</td>\n",
              "      <td>1.240576</td>\n",
              "      <td>-0.342824</td>\n",
              "      <td>-1.085821</td>\n",
              "      <td>0.088053</td>\n",
              "      <td>-0.347283</td>\n",
              "      <td>-0.559788</td>\n",
              "      <td>18.0</td>\n",
              "    </tr>\n",
              "    <tr>\n",
              "      <th>3</th>\n",
              "      <td>CUS_0x1011</td>\n",
              "      <td>-0.390657</td>\n",
              "      <td>-0.090268</td>\n",
              "      <td>-2.246615</td>\n",
              "      <td>-0.825057</td>\n",
              "      <td>0.329205</td>\n",
              "      <td>0.578019</td>\n",
              "      <td>-0.347283</td>\n",
              "      <td>-0.574722</td>\n",
              "      <td>44.0</td>\n",
              "    </tr>\n",
              "    <tr>\n",
              "      <th>4</th>\n",
              "      <td>CUS_0x1013</td>\n",
              "      <td>0.682824</td>\n",
              "      <td>1.274120</td>\n",
              "      <td>-0.170455</td>\n",
              "      <td>-0.166824</td>\n",
              "      <td>-0.748910</td>\n",
              "      <td>-1.327576</td>\n",
              "      <td>-0.106454</td>\n",
              "      <td>-0.518570</td>\n",
              "      <td>44.0</td>\n",
              "    </tr>\n",
              "    <tr>\n",
              "      <th>...</th>\n",
              "      <td>...</td>\n",
              "      <td>...</td>\n",
              "      <td>...</td>\n",
              "      <td>...</td>\n",
              "      <td>...</td>\n",
              "      <td>...</td>\n",
              "      <td>...</td>\n",
              "      <td>...</td>\n",
              "      <td>...</td>\n",
              "      <td>...</td>\n",
              "    </tr>\n",
              "    <tr>\n",
              "      <th>12495</th>\n",
              "      <td>CUS_0xff3</td>\n",
              "      <td>0.629150</td>\n",
              "      <td>1.274120</td>\n",
              "      <td>0.293234</td>\n",
              "      <td>-0.170659</td>\n",
              "      <td>-0.411999</td>\n",
              "      <td>-0.291079</td>\n",
              "      <td>-0.176695</td>\n",
              "      <td>0.261155</td>\n",
              "      <td>55.0</td>\n",
              "    </tr>\n",
              "    <tr>\n",
              "      <th>12496</th>\n",
              "      <td>CUS_0xff4</td>\n",
              "      <td>0.468128</td>\n",
              "      <td>-0.090268</td>\n",
              "      <td>0.151942</td>\n",
              "      <td>-0.578080</td>\n",
              "      <td>-0.209852</td>\n",
              "      <td>-0.333884</td>\n",
              "      <td>0.003926</td>\n",
              "      <td>-0.379227</td>\n",
              "      <td>37.0</td>\n",
              "    </tr>\n",
              "    <tr>\n",
              "      <th>12497</th>\n",
              "      <td>CUS_0xff6</td>\n",
              "      <td>1.541608</td>\n",
              "      <td>1.274120</td>\n",
              "      <td>0.472144</td>\n",
              "      <td>-0.941784</td>\n",
              "      <td>-1.018438</td>\n",
              "      <td>0.230992</td>\n",
              "      <td>0.746482</td>\n",
              "      <td>-0.623839</td>\n",
              "      <td>19.0</td>\n",
              "    </tr>\n",
              "    <tr>\n",
              "      <th>12498</th>\n",
              "      <td>CUS_0xffc</td>\n",
              "      <td>-1.464137</td>\n",
              "      <td>-1.454655</td>\n",
              "      <td>1.182659</td>\n",
              "      <td>-0.109153</td>\n",
              "      <td>1.777922</td>\n",
              "      <td>-0.239865</td>\n",
              "      <td>-0.678423</td>\n",
              "      <td>-0.435993</td>\n",
              "      <td>17.0</td>\n",
              "    </tr>\n",
              "    <tr>\n",
              "      <th>12499</th>\n",
              "      <td>CUS_0xffd</td>\n",
              "      <td>-0.014939</td>\n",
              "      <td>-0.090268</td>\n",
              "      <td>-0.189711</td>\n",
              "      <td>0.238631</td>\n",
              "      <td>0.329205</td>\n",
              "      <td>-0.010552</td>\n",
              "      <td>0.003926</td>\n",
              "      <td>-0.256636</td>\n",
              "      <td>29.0</td>\n",
              "    </tr>\n",
              "  </tbody>\n",
              "</table>\n",
              "<p>12500 rows × 10 columns</p>\n",
              "</div>\n",
              "    <div class=\"colab-df-buttons\">\n",
              "\n",
              "  <div class=\"colab-df-container\">\n",
              "    <button class=\"colab-df-convert\" onclick=\"convertToInteractive('df-4cabee17-f20e-43b4-98b4-6d4c81cbcb10')\"\n",
              "            title=\"Convert this dataframe to an interactive table.\"\n",
              "            style=\"display:none;\">\n",
              "\n",
              "  <svg xmlns=\"http://www.w3.org/2000/svg\" height=\"24px\" viewBox=\"0 -960 960 960\">\n",
              "    <path d=\"M120-120v-720h720v720H120Zm60-500h600v-160H180v160Zm220 220h160v-160H400v160Zm0 220h160v-160H400v160ZM180-400h160v-160H180v160Zm440 0h160v-160H620v160ZM180-180h160v-160H180v160Zm440 0h160v-160H620v160Z\"/>\n",
              "  </svg>\n",
              "    </button>\n",
              "\n",
              "  <style>\n",
              "    .colab-df-container {\n",
              "      display:flex;\n",
              "      gap: 12px;\n",
              "    }\n",
              "\n",
              "    .colab-df-convert {\n",
              "      background-color: #E8F0FE;\n",
              "      border: none;\n",
              "      border-radius: 50%;\n",
              "      cursor: pointer;\n",
              "      display: none;\n",
              "      fill: #1967D2;\n",
              "      height: 32px;\n",
              "      padding: 0 0 0 0;\n",
              "      width: 32px;\n",
              "    }\n",
              "\n",
              "    .colab-df-convert:hover {\n",
              "      background-color: #E2EBFA;\n",
              "      box-shadow: 0px 1px 2px rgba(60, 64, 67, 0.3), 0px 1px 3px 1px rgba(60, 64, 67, 0.15);\n",
              "      fill: #174EA6;\n",
              "    }\n",
              "\n",
              "    .colab-df-buttons div {\n",
              "      margin-bottom: 4px;\n",
              "    }\n",
              "\n",
              "    [theme=dark] .colab-df-convert {\n",
              "      background-color: #3B4455;\n",
              "      fill: #D2E3FC;\n",
              "    }\n",
              "\n",
              "    [theme=dark] .colab-df-convert:hover {\n",
              "      background-color: #434B5C;\n",
              "      box-shadow: 0px 1px 3px 1px rgba(0, 0, 0, 0.15);\n",
              "      filter: drop-shadow(0px 1px 2px rgba(0, 0, 0, 0.3));\n",
              "      fill: #FFFFFF;\n",
              "    }\n",
              "  </style>\n",
              "\n",
              "    <script>\n",
              "      const buttonEl =\n",
              "        document.querySelector('#df-4cabee17-f20e-43b4-98b4-6d4c81cbcb10 button.colab-df-convert');\n",
              "      buttonEl.style.display =\n",
              "        google.colab.kernel.accessAllowed ? 'block' : 'none';\n",
              "\n",
              "      async function convertToInteractive(key) {\n",
              "        const element = document.querySelector('#df-4cabee17-f20e-43b4-98b4-6d4c81cbcb10');\n",
              "        const dataTable =\n",
              "          await google.colab.kernel.invokeFunction('convertToInteractive',\n",
              "                                                    [key], {});\n",
              "        if (!dataTable) return;\n",
              "\n",
              "        const docLinkHtml = 'Like what you see? Visit the ' +\n",
              "          '<a target=\"_blank\" href=https://colab.research.google.com/notebooks/data_table.ipynb>data table notebook</a>'\n",
              "          + ' to learn more about interactive tables.';\n",
              "        element.innerHTML = '';\n",
              "        dataTable['output_type'] = 'display_data';\n",
              "        await google.colab.output.renderOutput(dataTable, element);\n",
              "        const docLink = document.createElement('div');\n",
              "        docLink.innerHTML = docLinkHtml;\n",
              "        element.appendChild(docLink);\n",
              "      }\n",
              "    </script>\n",
              "  </div>\n",
              "\n",
              "\n",
              "<div id=\"df-4d028439-c270-41ad-84e9-4230f16d6f4a\">\n",
              "  <button class=\"colab-df-quickchart\" onclick=\"quickchart('df-4d028439-c270-41ad-84e9-4230f16d6f4a')\"\n",
              "            title=\"Suggest charts\"\n",
              "            style=\"display:none;\">\n",
              "\n",
              "<svg xmlns=\"http://www.w3.org/2000/svg\" height=\"24px\"viewBox=\"0 0 24 24\"\n",
              "     width=\"24px\">\n",
              "    <g>\n",
              "        <path d=\"M19 3H5c-1.1 0-2 .9-2 2v14c0 1.1.9 2 2 2h14c1.1 0 2-.9 2-2V5c0-1.1-.9-2-2-2zM9 17H7v-7h2v7zm4 0h-2V7h2v10zm4 0h-2v-4h2v4z\"/>\n",
              "    </g>\n",
              "</svg>\n",
              "  </button>\n",
              "\n",
              "<style>\n",
              "  .colab-df-quickchart {\n",
              "      --bg-color: #E8F0FE;\n",
              "      --fill-color: #1967D2;\n",
              "      --hover-bg-color: #E2EBFA;\n",
              "      --hover-fill-color: #174EA6;\n",
              "      --disabled-fill-color: #AAA;\n",
              "      --disabled-bg-color: #DDD;\n",
              "  }\n",
              "\n",
              "  [theme=dark] .colab-df-quickchart {\n",
              "      --bg-color: #3B4455;\n",
              "      --fill-color: #D2E3FC;\n",
              "      --hover-bg-color: #434B5C;\n",
              "      --hover-fill-color: #FFFFFF;\n",
              "      --disabled-bg-color: #3B4455;\n",
              "      --disabled-fill-color: #666;\n",
              "  }\n",
              "\n",
              "  .colab-df-quickchart {\n",
              "    background-color: var(--bg-color);\n",
              "    border: none;\n",
              "    border-radius: 50%;\n",
              "    cursor: pointer;\n",
              "    display: none;\n",
              "    fill: var(--fill-color);\n",
              "    height: 32px;\n",
              "    padding: 0;\n",
              "    width: 32px;\n",
              "  }\n",
              "\n",
              "  .colab-df-quickchart:hover {\n",
              "    background-color: var(--hover-bg-color);\n",
              "    box-shadow: 0 1px 2px rgba(60, 64, 67, 0.3), 0 1px 3px 1px rgba(60, 64, 67, 0.15);\n",
              "    fill: var(--button-hover-fill-color);\n",
              "  }\n",
              "\n",
              "  .colab-df-quickchart-complete:disabled,\n",
              "  .colab-df-quickchart-complete:disabled:hover {\n",
              "    background-color: var(--disabled-bg-color);\n",
              "    fill: var(--disabled-fill-color);\n",
              "    box-shadow: none;\n",
              "  }\n",
              "\n",
              "  .colab-df-spinner {\n",
              "    border: 2px solid var(--fill-color);\n",
              "    border-color: transparent;\n",
              "    border-bottom-color: var(--fill-color);\n",
              "    animation:\n",
              "      spin 1s steps(1) infinite;\n",
              "  }\n",
              "\n",
              "  @keyframes spin {\n",
              "    0% {\n",
              "      border-color: transparent;\n",
              "      border-bottom-color: var(--fill-color);\n",
              "      border-left-color: var(--fill-color);\n",
              "    }\n",
              "    20% {\n",
              "      border-color: transparent;\n",
              "      border-left-color: var(--fill-color);\n",
              "      border-top-color: var(--fill-color);\n",
              "    }\n",
              "    30% {\n",
              "      border-color: transparent;\n",
              "      border-left-color: var(--fill-color);\n",
              "      border-top-color: var(--fill-color);\n",
              "      border-right-color: var(--fill-color);\n",
              "    }\n",
              "    40% {\n",
              "      border-color: transparent;\n",
              "      border-right-color: var(--fill-color);\n",
              "      border-top-color: var(--fill-color);\n",
              "    }\n",
              "    60% {\n",
              "      border-color: transparent;\n",
              "      border-right-color: var(--fill-color);\n",
              "    }\n",
              "    80% {\n",
              "      border-color: transparent;\n",
              "      border-right-color: var(--fill-color);\n",
              "      border-bottom-color: var(--fill-color);\n",
              "    }\n",
              "    90% {\n",
              "      border-color: transparent;\n",
              "      border-bottom-color: var(--fill-color);\n",
              "    }\n",
              "  }\n",
              "</style>\n",
              "\n",
              "  <script>\n",
              "    async function quickchart(key) {\n",
              "      const quickchartButtonEl =\n",
              "        document.querySelector('#' + key + ' button');\n",
              "      quickchartButtonEl.disabled = true;  // To prevent multiple clicks.\n",
              "      quickchartButtonEl.classList.add('colab-df-spinner');\n",
              "      try {\n",
              "        const charts = await google.colab.kernel.invokeFunction(\n",
              "            'suggestCharts', [key], {});\n",
              "      } catch (error) {\n",
              "        console.error('Error during call to suggestCharts:', error);\n",
              "      }\n",
              "      quickchartButtonEl.classList.remove('colab-df-spinner');\n",
              "      quickchartButtonEl.classList.add('colab-df-quickchart-complete');\n",
              "    }\n",
              "    (() => {\n",
              "      let quickchartButtonEl =\n",
              "        document.querySelector('#df-4d028439-c270-41ad-84e9-4230f16d6f4a button');\n",
              "      quickchartButtonEl.style.display =\n",
              "        google.colab.kernel.accessAllowed ? 'block' : 'none';\n",
              "    })();\n",
              "  </script>\n",
              "</div>\n",
              "\n",
              "  <div id=\"id_0b0aa1eb-37a9-4aa6-845c-a1057480ad4e\">\n",
              "    <style>\n",
              "      .colab-df-generate {\n",
              "        background-color: #E8F0FE;\n",
              "        border: none;\n",
              "        border-radius: 50%;\n",
              "        cursor: pointer;\n",
              "        display: none;\n",
              "        fill: #1967D2;\n",
              "        height: 32px;\n",
              "        padding: 0 0 0 0;\n",
              "        width: 32px;\n",
              "      }\n",
              "\n",
              "      .colab-df-generate:hover {\n",
              "        background-color: #E2EBFA;\n",
              "        box-shadow: 0px 1px 2px rgba(60, 64, 67, 0.3), 0px 1px 3px 1px rgba(60, 64, 67, 0.15);\n",
              "        fill: #174EA6;\n",
              "      }\n",
              "\n",
              "      [theme=dark] .colab-df-generate {\n",
              "        background-color: #3B4455;\n",
              "        fill: #D2E3FC;\n",
              "      }\n",
              "\n",
              "      [theme=dark] .colab-df-generate:hover {\n",
              "        background-color: #434B5C;\n",
              "        box-shadow: 0px 1px 3px 1px rgba(0, 0, 0, 0.15);\n",
              "        filter: drop-shadow(0px 1px 2px rgba(0, 0, 0, 0.3));\n",
              "        fill: #FFFFFF;\n",
              "      }\n",
              "    </style>\n",
              "    <button class=\"colab-df-generate\" onclick=\"generateWithVariable('df_new')\"\n",
              "            title=\"Generate code using this dataframe.\"\n",
              "            style=\"display:none;\">\n",
              "\n",
              "  <svg xmlns=\"http://www.w3.org/2000/svg\" height=\"24px\"viewBox=\"0 0 24 24\"\n",
              "       width=\"24px\">\n",
              "    <path d=\"M7,19H8.4L18.45,9,17,7.55,7,17.6ZM5,21V16.75L18.45,3.32a2,2,0,0,1,2.83,0l1.4,1.43a1.91,1.91,0,0,1,.58,1.4,1.91,1.91,0,0,1-.58,1.4L9.25,21ZM18.45,9,17,7.55Zm-12,3A5.31,5.31,0,0,0,4.9,8.1,5.31,5.31,0,0,0,1,6.5,5.31,5.31,0,0,0,4.9,4.9,5.31,5.31,0,0,0,6.5,1,5.31,5.31,0,0,0,8.1,4.9,5.31,5.31,0,0,0,12,6.5,5.46,5.46,0,0,0,6.5,12Z\"/>\n",
              "  </svg>\n",
              "    </button>\n",
              "    <script>\n",
              "      (() => {\n",
              "      const buttonEl =\n",
              "        document.querySelector('#id_0b0aa1eb-37a9-4aa6-845c-a1057480ad4e button.colab-df-generate');\n",
              "      buttonEl.style.display =\n",
              "        google.colab.kernel.accessAllowed ? 'block' : 'none';\n",
              "\n",
              "      buttonEl.onclick = () => {\n",
              "        google.colab.notebook.generateWithVariable('df_new');\n",
              "      }\n",
              "      })();\n",
              "    </script>\n",
              "  </div>\n",
              "\n",
              "    </div>\n",
              "  </div>\n"
            ]
          },
          "metadata": {},
          "execution_count": 812
        }
      ]
    },
    {
      "cell_type": "markdown",
      "source": [
        "##Credit Score calculation"
      ],
      "metadata": {
        "id": "RlEXIIWYD-Ej"
      }
    },
    {
      "cell_type": "markdown",
      "source": [
        "\n",
        "\n",
        "1)  Selected column: Payment Hisory\n",
        "            \n",
        "    Weightage: 0.35\n",
        "    reason: Will help to understand how consumer manages his debt.\n",
        "    impact: the higher the better\n",
        "\n",
        "2)  Selected column: credit History in months\n",
        "            \n",
        "    Weightage: 0.2\n",
        "    reason: Will help to understand for how long consumer is using credit service.\n",
        "    impact: the higher the better\n",
        "\n",
        "3)  Selected column: debt_to_Income\n",
        "            \n",
        "    Weightage: 0.2\n",
        "    reason: Will help to understand for how much consumer is in debt comapared to the income.\n",
        "    impact: the lower the better\n",
        "\n",
        "4)  Selected column: Credit_Mix\n",
        "            \n",
        "    Weightage: 0.05\n",
        "    reason: Will help to understand for different type of loan a consumer has taken\n",
        "    impact: the higher the better\n",
        "\n",
        "5)  Selected column: Credit_Utilization_ratio\n",
        "            \n",
        "    Weightage: 0.05\n",
        "    reason: Will help to understand how efficently consumer issuing its credit line\n",
        "    impact: the lower the better\n",
        "\n",
        "6)  Selected column: outstanding debt\n",
        "            \n",
        "    Weightage: 0.05\n",
        "    reason: Will help to understand how much debt a consumer needs to pay.\n",
        "    impact: the lower the better\n",
        "\n",
        "7)  Selected column: Number of Credit Inquiries\n",
        "            \n",
        "    Weightage: 0.05\n",
        "    reason: Will help to understand how much a consumer is inclined towards taking a loan.\n",
        "    impact: the lower the better\n",
        "\n",
        "8)  Selected column: Changed Credit limit\n",
        "            \n",
        "    Weightage: 0.1\n",
        "    reason: Will help to understand how the credit limit has varied for a consumer\n",
        "    impact: the higher the better\n",
        "\n",
        "\n",
        "**Credit Rating**\n",
        "\n",
        "0 to 29: Very Bad\n",
        "\n",
        "30 to 49: Bad\n",
        "\n",
        "50 to 64: Good\n",
        "\n",
        "65 to 84: fair\n",
        "\n",
        "Greater than 85: Excellent"
      ],
      "metadata": {
        "id": "PORxLmpfsQ3u"
      }
    },
    {
      "cell_type": "code",
      "source": [
        "df_new[\"Credit_Score\"]=((0.35*df_new[\"Payment_History\"])\n",
        "                        + (0.2* df_new[\"Credit_History_In_Months\"])\n",
        "                        + (0.2*(1-df_new[\"debt_to_Income\"]))\n",
        "                        + (0.05*df_new[\"Credit_Mix\"])\n",
        "                        + (0.05*(1-df_new[\"Credit_Utilization_Ratio\"]))\n",
        "                        + (0.05*(df_new[\"Outstanding_Debt\"]))\n",
        "                        + (0.05*(1-df_new[\"Num_Credit_Inquiries\"]))\n",
        "                        + (0.05*df_new[\"Changed_Credit_Limit\"])\n",
        "                        )"
      ],
      "metadata": {
        "id": "13MS745zvmIC"
      },
      "execution_count": null,
      "outputs": []
    },
    {
      "cell_type": "code",
      "source": [
        "df_new[\"Credit_Score\"] = (df_new[\"Credit_Score\"] - df_new[\"Credit_Score\"].min()) / (df_new[\"Credit_Score\"].max() - df_new[\"Credit_Score\"].min()) * 100"
      ],
      "metadata": {
        "id": "OBC6cduQ4JST"
      },
      "execution_count": null,
      "outputs": []
    },
    {
      "cell_type": "code",
      "source": [
        "df_new[\"Rating_type\"]=df_new[\"Credit_Score\"].transform(lambda x: 'Very Bad' if x < 30 else ('Bad' if x < 50 else ('Fair' if x < 65 else ('Good' if x < 85 else 'Excellent'))) )"
      ],
      "metadata": {
        "id": "Nytwh5mr7JoT"
      },
      "execution_count": null,
      "outputs": []
    },
    {
      "cell_type": "code",
      "source": [
        "df_final=df_new[['Customer_ID',\"Age\",\"Credit_Score\",\"Rating_type\"]]"
      ],
      "metadata": {
        "id": "3oasS1DR6gNx"
      },
      "execution_count": null,
      "outputs": []
    },
    {
      "cell_type": "code",
      "source": [
        "df_final"
      ],
      "metadata": {
        "colab": {
          "base_uri": "https://localhost:8080/",
          "height": 423
        },
        "id": "zaqyjYUl-AKP",
        "outputId": "5ffa199f-4f42-4464-b84b-1de85eea4281"
      },
      "execution_count": null,
      "outputs": [
        {
          "output_type": "execute_result",
          "data": {
            "text/plain": [
              "      Customer_ID   Age  Credit_Score Rating_type\n",
              "0      CUS_0x1000  17.0     38.992091         Bad\n",
              "1      CUS_0x1009  26.0     86.900546   Excellent\n",
              "2      CUS_0x100b  18.0     79.878717        Good\n",
              "3      CUS_0x1011  44.0     71.767514        Good\n",
              "4      CUS_0x1013  44.0     80.640521        Good\n",
              "...           ...   ...           ...         ...\n",
              "12495   CUS_0xff3  55.0     76.375535        Good\n",
              "12496   CUS_0xff4  37.0     76.714219        Good\n",
              "12497   CUS_0xff6  19.0     92.983258   Excellent\n",
              "12498   CUS_0xffc  17.0     52.825015        Fair\n",
              "12499   CUS_0xffd  29.0     73.188646        Good\n",
              "\n",
              "[12500 rows x 4 columns]"
            ],
            "text/html": [
              "\n",
              "  <div id=\"df-ea4a6b26-18bc-423e-818b-3f84ee9ddc7f\" class=\"colab-df-container\">\n",
              "    <div>\n",
              "<style scoped>\n",
              "    .dataframe tbody tr th:only-of-type {\n",
              "        vertical-align: middle;\n",
              "    }\n",
              "\n",
              "    .dataframe tbody tr th {\n",
              "        vertical-align: top;\n",
              "    }\n",
              "\n",
              "    .dataframe thead th {\n",
              "        text-align: right;\n",
              "    }\n",
              "</style>\n",
              "<table border=\"1\" class=\"dataframe\">\n",
              "  <thead>\n",
              "    <tr style=\"text-align: right;\">\n",
              "      <th></th>\n",
              "      <th>Customer_ID</th>\n",
              "      <th>Age</th>\n",
              "      <th>Credit_Score</th>\n",
              "      <th>Rating_type</th>\n",
              "    </tr>\n",
              "  </thead>\n",
              "  <tbody>\n",
              "    <tr>\n",
              "      <th>0</th>\n",
              "      <td>CUS_0x1000</td>\n",
              "      <td>17.0</td>\n",
              "      <td>38.992091</td>\n",
              "      <td>Bad</td>\n",
              "    </tr>\n",
              "    <tr>\n",
              "      <th>1</th>\n",
              "      <td>CUS_0x1009</td>\n",
              "      <td>26.0</td>\n",
              "      <td>86.900546</td>\n",
              "      <td>Excellent</td>\n",
              "    </tr>\n",
              "    <tr>\n",
              "      <th>2</th>\n",
              "      <td>CUS_0x100b</td>\n",
              "      <td>18.0</td>\n",
              "      <td>79.878717</td>\n",
              "      <td>Good</td>\n",
              "    </tr>\n",
              "    <tr>\n",
              "      <th>3</th>\n",
              "      <td>CUS_0x1011</td>\n",
              "      <td>44.0</td>\n",
              "      <td>71.767514</td>\n",
              "      <td>Good</td>\n",
              "    </tr>\n",
              "    <tr>\n",
              "      <th>4</th>\n",
              "      <td>CUS_0x1013</td>\n",
              "      <td>44.0</td>\n",
              "      <td>80.640521</td>\n",
              "      <td>Good</td>\n",
              "    </tr>\n",
              "    <tr>\n",
              "      <th>...</th>\n",
              "      <td>...</td>\n",
              "      <td>...</td>\n",
              "      <td>...</td>\n",
              "      <td>...</td>\n",
              "    </tr>\n",
              "    <tr>\n",
              "      <th>12495</th>\n",
              "      <td>CUS_0xff3</td>\n",
              "      <td>55.0</td>\n",
              "      <td>76.375535</td>\n",
              "      <td>Good</td>\n",
              "    </tr>\n",
              "    <tr>\n",
              "      <th>12496</th>\n",
              "      <td>CUS_0xff4</td>\n",
              "      <td>37.0</td>\n",
              "      <td>76.714219</td>\n",
              "      <td>Good</td>\n",
              "    </tr>\n",
              "    <tr>\n",
              "      <th>12497</th>\n",
              "      <td>CUS_0xff6</td>\n",
              "      <td>19.0</td>\n",
              "      <td>92.983258</td>\n",
              "      <td>Excellent</td>\n",
              "    </tr>\n",
              "    <tr>\n",
              "      <th>12498</th>\n",
              "      <td>CUS_0xffc</td>\n",
              "      <td>17.0</td>\n",
              "      <td>52.825015</td>\n",
              "      <td>Fair</td>\n",
              "    </tr>\n",
              "    <tr>\n",
              "      <th>12499</th>\n",
              "      <td>CUS_0xffd</td>\n",
              "      <td>29.0</td>\n",
              "      <td>73.188646</td>\n",
              "      <td>Good</td>\n",
              "    </tr>\n",
              "  </tbody>\n",
              "</table>\n",
              "<p>12500 rows × 4 columns</p>\n",
              "</div>\n",
              "    <div class=\"colab-df-buttons\">\n",
              "\n",
              "  <div class=\"colab-df-container\">\n",
              "    <button class=\"colab-df-convert\" onclick=\"convertToInteractive('df-ea4a6b26-18bc-423e-818b-3f84ee9ddc7f')\"\n",
              "            title=\"Convert this dataframe to an interactive table.\"\n",
              "            style=\"display:none;\">\n",
              "\n",
              "  <svg xmlns=\"http://www.w3.org/2000/svg\" height=\"24px\" viewBox=\"0 -960 960 960\">\n",
              "    <path d=\"M120-120v-720h720v720H120Zm60-500h600v-160H180v160Zm220 220h160v-160H400v160Zm0 220h160v-160H400v160ZM180-400h160v-160H180v160Zm440 0h160v-160H620v160ZM180-180h160v-160H180v160Zm440 0h160v-160H620v160Z\"/>\n",
              "  </svg>\n",
              "    </button>\n",
              "\n",
              "  <style>\n",
              "    .colab-df-container {\n",
              "      display:flex;\n",
              "      gap: 12px;\n",
              "    }\n",
              "\n",
              "    .colab-df-convert {\n",
              "      background-color: #E8F0FE;\n",
              "      border: none;\n",
              "      border-radius: 50%;\n",
              "      cursor: pointer;\n",
              "      display: none;\n",
              "      fill: #1967D2;\n",
              "      height: 32px;\n",
              "      padding: 0 0 0 0;\n",
              "      width: 32px;\n",
              "    }\n",
              "\n",
              "    .colab-df-convert:hover {\n",
              "      background-color: #E2EBFA;\n",
              "      box-shadow: 0px 1px 2px rgba(60, 64, 67, 0.3), 0px 1px 3px 1px rgba(60, 64, 67, 0.15);\n",
              "      fill: #174EA6;\n",
              "    }\n",
              "\n",
              "    .colab-df-buttons div {\n",
              "      margin-bottom: 4px;\n",
              "    }\n",
              "\n",
              "    [theme=dark] .colab-df-convert {\n",
              "      background-color: #3B4455;\n",
              "      fill: #D2E3FC;\n",
              "    }\n",
              "\n",
              "    [theme=dark] .colab-df-convert:hover {\n",
              "      background-color: #434B5C;\n",
              "      box-shadow: 0px 1px 3px 1px rgba(0, 0, 0, 0.15);\n",
              "      filter: drop-shadow(0px 1px 2px rgba(0, 0, 0, 0.3));\n",
              "      fill: #FFFFFF;\n",
              "    }\n",
              "  </style>\n",
              "\n",
              "    <script>\n",
              "      const buttonEl =\n",
              "        document.querySelector('#df-ea4a6b26-18bc-423e-818b-3f84ee9ddc7f button.colab-df-convert');\n",
              "      buttonEl.style.display =\n",
              "        google.colab.kernel.accessAllowed ? 'block' : 'none';\n",
              "\n",
              "      async function convertToInteractive(key) {\n",
              "        const element = document.querySelector('#df-ea4a6b26-18bc-423e-818b-3f84ee9ddc7f');\n",
              "        const dataTable =\n",
              "          await google.colab.kernel.invokeFunction('convertToInteractive',\n",
              "                                                    [key], {});\n",
              "        if (!dataTable) return;\n",
              "\n",
              "        const docLinkHtml = 'Like what you see? Visit the ' +\n",
              "          '<a target=\"_blank\" href=https://colab.research.google.com/notebooks/data_table.ipynb>data table notebook</a>'\n",
              "          + ' to learn more about interactive tables.';\n",
              "        element.innerHTML = '';\n",
              "        dataTable['output_type'] = 'display_data';\n",
              "        await google.colab.output.renderOutput(dataTable, element);\n",
              "        const docLink = document.createElement('div');\n",
              "        docLink.innerHTML = docLinkHtml;\n",
              "        element.appendChild(docLink);\n",
              "      }\n",
              "    </script>\n",
              "  </div>\n",
              "\n",
              "\n",
              "<div id=\"df-b18d259e-a034-48d5-8d2d-e4db8a9afe34\">\n",
              "  <button class=\"colab-df-quickchart\" onclick=\"quickchart('df-b18d259e-a034-48d5-8d2d-e4db8a9afe34')\"\n",
              "            title=\"Suggest charts\"\n",
              "            style=\"display:none;\">\n",
              "\n",
              "<svg xmlns=\"http://www.w3.org/2000/svg\" height=\"24px\"viewBox=\"0 0 24 24\"\n",
              "     width=\"24px\">\n",
              "    <g>\n",
              "        <path d=\"M19 3H5c-1.1 0-2 .9-2 2v14c0 1.1.9 2 2 2h14c1.1 0 2-.9 2-2V5c0-1.1-.9-2-2-2zM9 17H7v-7h2v7zm4 0h-2V7h2v10zm4 0h-2v-4h2v4z\"/>\n",
              "    </g>\n",
              "</svg>\n",
              "  </button>\n",
              "\n",
              "<style>\n",
              "  .colab-df-quickchart {\n",
              "      --bg-color: #E8F0FE;\n",
              "      --fill-color: #1967D2;\n",
              "      --hover-bg-color: #E2EBFA;\n",
              "      --hover-fill-color: #174EA6;\n",
              "      --disabled-fill-color: #AAA;\n",
              "      --disabled-bg-color: #DDD;\n",
              "  }\n",
              "\n",
              "  [theme=dark] .colab-df-quickchart {\n",
              "      --bg-color: #3B4455;\n",
              "      --fill-color: #D2E3FC;\n",
              "      --hover-bg-color: #434B5C;\n",
              "      --hover-fill-color: #FFFFFF;\n",
              "      --disabled-bg-color: #3B4455;\n",
              "      --disabled-fill-color: #666;\n",
              "  }\n",
              "\n",
              "  .colab-df-quickchart {\n",
              "    background-color: var(--bg-color);\n",
              "    border: none;\n",
              "    border-radius: 50%;\n",
              "    cursor: pointer;\n",
              "    display: none;\n",
              "    fill: var(--fill-color);\n",
              "    height: 32px;\n",
              "    padding: 0;\n",
              "    width: 32px;\n",
              "  }\n",
              "\n",
              "  .colab-df-quickchart:hover {\n",
              "    background-color: var(--hover-bg-color);\n",
              "    box-shadow: 0 1px 2px rgba(60, 64, 67, 0.3), 0 1px 3px 1px rgba(60, 64, 67, 0.15);\n",
              "    fill: var(--button-hover-fill-color);\n",
              "  }\n",
              "\n",
              "  .colab-df-quickchart-complete:disabled,\n",
              "  .colab-df-quickchart-complete:disabled:hover {\n",
              "    background-color: var(--disabled-bg-color);\n",
              "    fill: var(--disabled-fill-color);\n",
              "    box-shadow: none;\n",
              "  }\n",
              "\n",
              "  .colab-df-spinner {\n",
              "    border: 2px solid var(--fill-color);\n",
              "    border-color: transparent;\n",
              "    border-bottom-color: var(--fill-color);\n",
              "    animation:\n",
              "      spin 1s steps(1) infinite;\n",
              "  }\n",
              "\n",
              "  @keyframes spin {\n",
              "    0% {\n",
              "      border-color: transparent;\n",
              "      border-bottom-color: var(--fill-color);\n",
              "      border-left-color: var(--fill-color);\n",
              "    }\n",
              "    20% {\n",
              "      border-color: transparent;\n",
              "      border-left-color: var(--fill-color);\n",
              "      border-top-color: var(--fill-color);\n",
              "    }\n",
              "    30% {\n",
              "      border-color: transparent;\n",
              "      border-left-color: var(--fill-color);\n",
              "      border-top-color: var(--fill-color);\n",
              "      border-right-color: var(--fill-color);\n",
              "    }\n",
              "    40% {\n",
              "      border-color: transparent;\n",
              "      border-right-color: var(--fill-color);\n",
              "      border-top-color: var(--fill-color);\n",
              "    }\n",
              "    60% {\n",
              "      border-color: transparent;\n",
              "      border-right-color: var(--fill-color);\n",
              "    }\n",
              "    80% {\n",
              "      border-color: transparent;\n",
              "      border-right-color: var(--fill-color);\n",
              "      border-bottom-color: var(--fill-color);\n",
              "    }\n",
              "    90% {\n",
              "      border-color: transparent;\n",
              "      border-bottom-color: var(--fill-color);\n",
              "    }\n",
              "  }\n",
              "</style>\n",
              "\n",
              "  <script>\n",
              "    async function quickchart(key) {\n",
              "      const quickchartButtonEl =\n",
              "        document.querySelector('#' + key + ' button');\n",
              "      quickchartButtonEl.disabled = true;  // To prevent multiple clicks.\n",
              "      quickchartButtonEl.classList.add('colab-df-spinner');\n",
              "      try {\n",
              "        const charts = await google.colab.kernel.invokeFunction(\n",
              "            'suggestCharts', [key], {});\n",
              "      } catch (error) {\n",
              "        console.error('Error during call to suggestCharts:', error);\n",
              "      }\n",
              "      quickchartButtonEl.classList.remove('colab-df-spinner');\n",
              "      quickchartButtonEl.classList.add('colab-df-quickchart-complete');\n",
              "    }\n",
              "    (() => {\n",
              "      let quickchartButtonEl =\n",
              "        document.querySelector('#df-b18d259e-a034-48d5-8d2d-e4db8a9afe34 button');\n",
              "      quickchartButtonEl.style.display =\n",
              "        google.colab.kernel.accessAllowed ? 'block' : 'none';\n",
              "    })();\n",
              "  </script>\n",
              "</div>\n",
              "\n",
              "  <div id=\"id_f4cadfe6-1667-461b-adbe-20012fc5e5c2\">\n",
              "    <style>\n",
              "      .colab-df-generate {\n",
              "        background-color: #E8F0FE;\n",
              "        border: none;\n",
              "        border-radius: 50%;\n",
              "        cursor: pointer;\n",
              "        display: none;\n",
              "        fill: #1967D2;\n",
              "        height: 32px;\n",
              "        padding: 0 0 0 0;\n",
              "        width: 32px;\n",
              "      }\n",
              "\n",
              "      .colab-df-generate:hover {\n",
              "        background-color: #E2EBFA;\n",
              "        box-shadow: 0px 1px 2px rgba(60, 64, 67, 0.3), 0px 1px 3px 1px rgba(60, 64, 67, 0.15);\n",
              "        fill: #174EA6;\n",
              "      }\n",
              "\n",
              "      [theme=dark] .colab-df-generate {\n",
              "        background-color: #3B4455;\n",
              "        fill: #D2E3FC;\n",
              "      }\n",
              "\n",
              "      [theme=dark] .colab-df-generate:hover {\n",
              "        background-color: #434B5C;\n",
              "        box-shadow: 0px 1px 3px 1px rgba(0, 0, 0, 0.15);\n",
              "        filter: drop-shadow(0px 1px 2px rgba(0, 0, 0, 0.3));\n",
              "        fill: #FFFFFF;\n",
              "      }\n",
              "    </style>\n",
              "    <button class=\"colab-df-generate\" onclick=\"generateWithVariable('df_final')\"\n",
              "            title=\"Generate code using this dataframe.\"\n",
              "            style=\"display:none;\">\n",
              "\n",
              "  <svg xmlns=\"http://www.w3.org/2000/svg\" height=\"24px\"viewBox=\"0 0 24 24\"\n",
              "       width=\"24px\">\n",
              "    <path d=\"M7,19H8.4L18.45,9,17,7.55,7,17.6ZM5,21V16.75L18.45,3.32a2,2,0,0,1,2.83,0l1.4,1.43a1.91,1.91,0,0,1,.58,1.4,1.91,1.91,0,0,1-.58,1.4L9.25,21ZM18.45,9,17,7.55Zm-12,3A5.31,5.31,0,0,0,4.9,8.1,5.31,5.31,0,0,0,1,6.5,5.31,5.31,0,0,0,4.9,4.9,5.31,5.31,0,0,0,6.5,1,5.31,5.31,0,0,0,8.1,4.9,5.31,5.31,0,0,0,12,6.5,5.46,5.46,0,0,0,6.5,12Z\"/>\n",
              "  </svg>\n",
              "    </button>\n",
              "    <script>\n",
              "      (() => {\n",
              "      const buttonEl =\n",
              "        document.querySelector('#id_f4cadfe6-1667-461b-adbe-20012fc5e5c2 button.colab-df-generate');\n",
              "      buttonEl.style.display =\n",
              "        google.colab.kernel.accessAllowed ? 'block' : 'none';\n",
              "\n",
              "      buttonEl.onclick = () => {\n",
              "        google.colab.notebook.generateWithVariable('df_final');\n",
              "      }\n",
              "      })();\n",
              "    </script>\n",
              "  </div>\n",
              "\n",
              "    </div>\n",
              "  </div>\n"
            ]
          },
          "metadata": {},
          "execution_count": 817
        }
      ]
    },
    {
      "cell_type": "code",
      "source": [
        "df_final[\"Rating_type\"].value_counts()"
      ],
      "metadata": {
        "colab": {
          "base_uri": "https://localhost:8080/"
        },
        "id": "THp15Jva9CTH",
        "outputId": "46c4e3db-3b24-47ed-f81d-1bebc812af5f"
      },
      "execution_count": null,
      "outputs": [
        {
          "output_type": "execute_result",
          "data": {
            "text/plain": [
              "Good         6408\n",
              "Excellent    2544\n",
              "Fair         2240\n",
              "Bad          1226\n",
              "Very Bad       82\n",
              "Name: Rating_type, dtype: int64"
            ]
          },
          "metadata": {},
          "execution_count": 818
        }
      ]
    },
    {
      "cell_type": "code",
      "source": [
        "sns.countplot(data=df_final,x=\"Rating_type\",hue=\"Rating_type\")\n",
        "plt.plot()"
      ],
      "metadata": {
        "colab": {
          "base_uri": "https://localhost:8080/",
          "height": 467
        },
        "id": "Wxs95cVv9Lat",
        "outputId": "8bb1d158-03aa-4021-c64a-315e712f1ed3"
      },
      "execution_count": null,
      "outputs": [
        {
          "output_type": "execute_result",
          "data": {
            "text/plain": [
              "[]"
            ]
          },
          "metadata": {},
          "execution_count": 819
        },
        {
          "output_type": "display_data",
          "data": {
            "text/plain": [
              "<Figure size 640x480 with 1 Axes>"
            ],
            "image/png": "[encoded data removed]"
          },
          "metadata": {}
        }
      ]
    },
    {
      "cell_type": "code",
      "source": [
        "sns.boxplot(data=df_final,x=\"Age\",y=\"Rating_type\")"
      ],
      "metadata": {
        "colab": {
          "base_uri": "https://localhost:8080/",
          "height": 466
        },
        "id": "OGrqo9uM-tbC",
        "outputId": "d1b49f46-fa31-4765-f2f8-ff6ea343d745"
      },
      "execution_count": null,
      "outputs": [
        {
          "output_type": "execute_result",
          "data": {
            "text/plain": [
              "<Axes: xlabel='Age', ylabel='Rating_type'>"
            ]
          },
          "metadata": {},
          "execution_count": 820
        },
        {
          "output_type": "display_data",
          "data": {
            "text/plain": [
              "<Figure size 640x480 with 1 Axes>"
            ],
            "image/png": "[encoded data removed]"
          },
          "metadata": {}
        }
      ]
    },
    {
      "cell_type": "markdown",
      "source": [
        "**Summary**\n",
        "\n",
        "1)Customers of all ratings are available, Good rating consumers leads the chart.\n",
        "\n",
        "2)All age group have numbers in all the available ratings but data of younger people are more inclined towards Bad credit rating"
      ],
      "metadata": {
        "id": "4LUt5h_wEGZQ"
      }
    },
    {
      "cell_type": "markdown",
      "source": [
        "#Insights"
      ],
      "metadata": {
        "id": "CWPBHyBMExCI"
      }
    },
    {
      "cell_type": "markdown",
      "source": [
        "1)Data of 12500 unique customers for Month January and August are given.\n",
        "\n",
        "2)bank have all age group of customers which shows penetration of bank provided service in every age group.\n",
        "\n",
        "3)Ananlysis of monthly salary shows all types of customer available and skewed graph showed the from where the actual consumer comes.\n",
        "\n",
        "4) Eight type of loan are availale which is auto loan,credit-builder loan,debt consolidation loan,home equity loan,mortgage loan,not specified,payday loan,personal loan,student loan\n",
        "\n",
        "5) number of bank account lies between 0 to 10, most of them lies between 3 to 8, while most of credit cards owned lies 3 to 7. This data shows the usability credit servies by consumers.\n",
        "\n",
        "6) Interest rate lies between 0 to 31% and number of loans taken lies betwen 0 to 9, 2 to 5 having the maximum concentrartion.\n",
        "\n",
        "7) Range of delay in payment lies between  0 to 60+ days, 0 to 30 sees the maximum number.\n",
        "\n",
        "8) Credit inquiries made goes upto 17, 0 to 10 sees the maximum number.\n",
        "\n",
        "9) Credit Score lies between 0 to 100, and most of the customers are having good rating.\n",
        "\n",
        "10) All age group is exposed to credit.\n",
        "\n",
        "\n",
        "**Recommendation**\n",
        "\n",
        "1) Customers are using credit facility effectively, lucarative offers can attract more customers.\n",
        "\n",
        "2) Financial education can help young people to use credit facility effectively and can help them improve their credit rating as they are the mostly in the very bad and bad rating of customers.\n",
        "\n"
      ],
      "metadata": {
        "id": "qMAimzOVE0Sw"
      }
    }
  ]
}